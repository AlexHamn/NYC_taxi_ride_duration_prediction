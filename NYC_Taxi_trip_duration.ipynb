{
 "cells": [
  {
   "cell_type": "markdown",
   "metadata": {},
   "source": [
    "# Project Predictive Analytics: New York City Taxi Ride Duration Prediction\n",
    "\n",
    "## **Marks: 40**\n",
    "---------------\n",
    "\n",
    "## **Context**\n",
    "---------------\n",
    "\n",
    "New York City taxi rides form the core of the traffic in the city of New York. The many rides taken every day by New Yorkers in the busy city can give us a great idea of traffic times, road blockages, and so on.\n",
    "\n",
    "A typical taxi company faces a common problem of efficiently assigning the cabs to passengers so that the service is hassle-free. One of the main issues is predicting the duration of the current ride so it can predict when the cab will be free for the next trip.\n",
    "\n",
    "Here, the data set contains various pointers regarding the taxi trips and their duration in New York City. \n",
    "\n",
    "We will apply an array of techniques to get insights into the data and determine how different variables are dependent on the Trip Duration.\n",
    "\n",
    "-----------------\n",
    "## **Objective**\n",
    "-----------------\n",
    "\n",
    "- To Build a predictive model, for predicting the duration for the taxi ride. \n",
    "- Use Automated feature engineering to create new features\n",
    "\n",
    "-----------------\n",
    "## **Dataset**\n",
    "-----------------\n",
    "\n",
    "The ``trips`` table has the following fields\n",
    "* ``id`` which uniquely identifies the trip\n",
    "* ``vendor_id`` is the taxi cab company - in our case study we have data from three different cab companies\n",
    "* ``pickup_datetime`` the time stamp for pickup\n",
    "* ``dropoff_datetime`` the time stamp for drop-off\n",
    "* ``passenger_count`` the number of passengers for the trip\n",
    "* ``trip_distance`` total distance of the trip in miles \n",
    "* ``pickup_longitude`` the longitude for pickup\n",
    "* ``pickup_latitude`` the latitude for pickup\n",
    "* ``dropoff_longitude``the longitude of dropoff \n",
    "* ``dropoff_latitude`` the latitude of dropoff\n",
    "* ``payment_type`` a numeric code signifying how the passenger paid for the trip. \n",
    "  - 1= Credit card\n",
    "  - 2= Cash 3= No charge\n",
    "  - 4= Dispute\n",
    "  - 5= Unknown\n",
    "  - 6= Voided\n",
    "* ``trip_duration`` this is the duration (in seconds) we would like to predict using other fields \n",
    "* ``pickup_neighborhood`` a one or two letter id of the neighborhood where the trip started\n",
    "* ``dropoff_neighborhood`` a one or two letter id of the neighborhood where the trip ended\n",
    "\n",
    "\n",
    "\n",
    "## We will do the following steps:\n",
    "  * Install the dependencies\n",
    "  * Load the data as a pandas dataframe\n",
    "  * Perform EDA on the dataset\n",
    "  * Build features with Deep Feature Synthesis using the [featuretools](https://featuretools.com) package. We will start with simple features and incrementally improve the feature definitions while examining the accuracy of the system."
   ]
  },
  {
   "cell_type": "markdown",
   "metadata": {},
   "source": [
    "> Uncomment the code given below, and run the line of code to install featuretools library"
   ]
  },
  {
   "cell_type": "code",
   "execution_count": 1,
   "metadata": {},
   "outputs": [],
   "source": [
    "# Uncomment the code given below, and run the line of code to install featuretools library\n",
    "\n",
    "# !pip install featuretools==0.27.0"
   ]
  },
  {
   "cell_type": "markdown",
   "metadata": {},
   "source": [
    "> Note: If !pip install featuretools doesn't work, please install using the anaconda prompt by typing the following command in anaconda prompt\n",
    "> \n",
    ">  `conda install -c conda-forge featuretools==0.27.0`"
   ]
  },
  {
   "cell_type": "markdown",
   "metadata": {},
   "source": [
    "## Importing libraries"
   ]
  },
  {
   "cell_type": "code",
   "execution_count": 2,
   "metadata": {},
   "outputs": [
    {
     "name": "stdout",
     "output_type": "stream",
     "text": [
      "0.27.0\n"
     ]
    }
   ],
   "source": [
    "import warnings\n",
    "warnings.filterwarnings('ignore')\n",
    "\n",
    "import pandas as pd\n",
    "import numpy as np\n",
    "import matplotlib.pyplot as plt\n",
    "import seaborn as sns\n",
    "\n",
    "#Feataurestools for feature engineering\n",
    "import featuretools as ft\n",
    "\n",
    "from sklearn.model_selection import train_test_split\n",
    "from sklearn.impute import SimpleImputer\n",
    "\n",
    "# Importing gradient boosting regressor, to make prediction\n",
    "from sklearn.metrics import r2_score\n",
    "from sklearn.linear_model import LinearRegression\n",
    "from sklearn.ensemble import RandomForestRegressor\n",
    "from sklearn.tree import DecisionTreeRegressor\n",
    "\n",
    "#importing primitives\n",
    "from featuretools.primitives import (Minute, Hour, Day, Month,\n",
    "                                     Weekday, IsWeekend, Count, Sum, Mean, Median, Std, Min, Max)\n",
    "\n",
    "print(ft.__version__)\n",
    "%load_ext autoreload\n",
    "%autoreload 2"
   ]
  },
  {
   "cell_type": "code",
   "execution_count": 3,
   "metadata": {},
   "outputs": [],
   "source": [
    "# set global random seed\n",
    "np.random.seed(40)\n",
    "\n",
    "# To load the dataset\n",
    "def load_nyc_taxi_data():\n",
    "    trips = pd.read_csv('./data/trips.csv',\n",
    "                        parse_dates=[\"pickup_datetime\",\"dropoff_datetime\"],\n",
    "                        dtype={'vendor_id':\"category\",'passenger_count':'int64'},\n",
    "                        encoding='utf-8')\n",
    "    trips[\"payment_type\"] = trips[\"payment_type\"].apply(str)\n",
    "    trips = trips.dropna(axis=0, how='any', subset=['trip_duration'])\n",
    "\n",
    "    pickup_neighborhoods = pd.read_csv(\"./data/pickup_neighborhoods.csv\", encoding='utf-8')\n",
    "    dropoff_neighborhoods = pd.read_csv(\"./data/dropoff_neighborhoods.csv\", encoding='utf-8')\n",
    "\n",
    "    return trips, pickup_neighborhoods, dropoff_neighborhoods\n",
    "\n",
    "### To preview first five rows. \n",
    "def preview(df, n=5):\n",
    "    \"\"\"return n rows that have fewest number of nulls\"\"\"\n",
    "    order = df.isnull().sum(axis=1).sort_values().head(n).index\n",
    "    return df.loc[order]\n",
    "\n",
    "\n",
    "\n",
    "#to compute features using automated feature engineering. \n",
    "def compute_features(features, cutoff_time):\n",
    "    # shuffle so we don't see encoded features in the front or backs\n",
    "\n",
    "    np.random.shuffle(features)\n",
    "    feature_matrix = ft.calculate_feature_matrix(features,\n",
    "                                                 cutoff_time=cutoff_time,\n",
    "                                                 approximate='36d',\n",
    "                                                 verbose=True)\n",
    "    print(\"Finishing computing...\")\n",
    "    feature_matrix, features = ft.encode_features(feature_matrix, features,\n",
    "                                                  to_encode=[\"pickup_neighborhood\", \"dropoff_neighborhood\"],\n",
    "                                                  include_unknown=False)\n",
    "    return feature_matrix\n",
    "\n",
    "\n",
    "#to generate train and test dataset\n",
    "def get_train_test_fm(feature_matrix, percentage):\n",
    "    nrows = feature_matrix.shape[0]\n",
    "    head = int(nrows * percentage)\n",
    "    tail = nrows-head\n",
    "    X_train = feature_matrix.head(head)\n",
    "    y_train = X_train['trip_duration']\n",
    "    X_train = X_train.drop(['trip_duration'], axis=1)\n",
    "    imp = SimpleImputer()\n",
    "    X_train = imp.fit_transform(X_train)\n",
    "    X_test = feature_matrix.tail(tail)\n",
    "    y_test = X_test['trip_duration']\n",
    "    X_test = X_test.drop(['trip_duration'], axis=1)\n",
    "    X_test = imp.transform(X_test)\n",
    "\n",
    "    return (X_train, y_train, X_test,y_test)\n",
    "\n",
    "\n",
    "\n",
    "#to see the feature importance of variables in the final model\n",
    "def feature_importances(model, feature_names, n=5):\n",
    "    importances = model.feature_importances_\n",
    "    zipped = sorted(zip(feature_names, importances), key=lambda x: -x[1])\n",
    "    for i, f in enumerate(zipped[:n]):\n",
    "        print(\"%d: Feature: %s, %.3f\" % (i+1, f[0], f[1]))"
   ]
  },
  {
   "cell_type": "markdown",
   "metadata": {},
   "source": [
    "## Load the Datasets"
   ]
  },
  {
   "cell_type": "code",
   "execution_count": 4,
   "metadata": {
    "ExecuteTime": {
     "end_time": "2021-07-15T12:40:47.210990Z",
     "start_time": "2021-07-15T12:40:41.965643Z"
    },
    "scrolled": false
   },
   "outputs": [
    {
     "data": {
      "text/html": [
       "<div>\n",
       "<style scoped>\n",
       "    .dataframe tbody tr th:only-of-type {\n",
       "        vertical-align: middle;\n",
       "    }\n",
       "\n",
       "    .dataframe tbody tr th {\n",
       "        vertical-align: top;\n",
       "    }\n",
       "\n",
       "    .dataframe thead th {\n",
       "        text-align: right;\n",
       "    }\n",
       "</style>\n",
       "<table border=\"1\" class=\"dataframe\">\n",
       "  <thead>\n",
       "    <tr style=\"text-align: right;\">\n",
       "      <th></th>\n",
       "      <th>id</th>\n",
       "      <th>vendor_id</th>\n",
       "      <th>pickup_datetime</th>\n",
       "      <th>dropoff_datetime</th>\n",
       "      <th>passenger_count</th>\n",
       "      <th>trip_distance</th>\n",
       "      <th>pickup_longitude</th>\n",
       "      <th>pickup_latitude</th>\n",
       "      <th>dropoff_longitude</th>\n",
       "      <th>dropoff_latitude</th>\n",
       "      <th>payment_type</th>\n",
       "      <th>trip_duration</th>\n",
       "      <th>pickup_neighborhood</th>\n",
       "      <th>dropoff_neighborhood</th>\n",
       "    </tr>\n",
       "  </thead>\n",
       "  <tbody>\n",
       "    <tr>\n",
       "      <th>0</th>\n",
       "      <td>0</td>\n",
       "      <td>2</td>\n",
       "      <td>2016-01-01 00:00:19</td>\n",
       "      <td>2016-01-01 00:06:31</td>\n",
       "      <td>3</td>\n",
       "      <td>1.32</td>\n",
       "      <td>-73.961258</td>\n",
       "      <td>40.796200</td>\n",
       "      <td>-73.950050</td>\n",
       "      <td>40.787312</td>\n",
       "      <td>2</td>\n",
       "      <td>372.0</td>\n",
       "      <td>AH</td>\n",
       "      <td>C</td>\n",
       "    </tr>\n",
       "    <tr>\n",
       "      <th>649598</th>\n",
       "      <td>679634</td>\n",
       "      <td>1</td>\n",
       "      <td>2016-04-30 11:45:59</td>\n",
       "      <td>2016-04-30 11:47:47</td>\n",
       "      <td>1</td>\n",
       "      <td>0.50</td>\n",
       "      <td>-73.994919</td>\n",
       "      <td>40.755226</td>\n",
       "      <td>-74.000351</td>\n",
       "      <td>40.747917</td>\n",
       "      <td>1</td>\n",
       "      <td>108.0</td>\n",
       "      <td>D</td>\n",
       "      <td>AG</td>\n",
       "    </tr>\n",
       "    <tr>\n",
       "      <th>649599</th>\n",
       "      <td>679635</td>\n",
       "      <td>2</td>\n",
       "      <td>2016-04-30 11:46:04</td>\n",
       "      <td>2016-04-30 11:47:41</td>\n",
       "      <td>2</td>\n",
       "      <td>0.33</td>\n",
       "      <td>-73.978935</td>\n",
       "      <td>40.777172</td>\n",
       "      <td>-73.981888</td>\n",
       "      <td>40.773136</td>\n",
       "      <td>2</td>\n",
       "      <td>97.0</td>\n",
       "      <td>AV</td>\n",
       "      <td>AV</td>\n",
       "    </tr>\n",
       "    <tr>\n",
       "      <th>649600</th>\n",
       "      <td>679636</td>\n",
       "      <td>2</td>\n",
       "      <td>2016-04-30 11:46:39</td>\n",
       "      <td>2016-04-30 11:58:02</td>\n",
       "      <td>1</td>\n",
       "      <td>1.78</td>\n",
       "      <td>-73.998207</td>\n",
       "      <td>40.745201</td>\n",
       "      <td>-73.990265</td>\n",
       "      <td>40.729023</td>\n",
       "      <td>2</td>\n",
       "      <td>683.0</td>\n",
       "      <td>AP</td>\n",
       "      <td>H</td>\n",
       "    </tr>\n",
       "    <tr>\n",
       "      <th>649601</th>\n",
       "      <td>679637</td>\n",
       "      <td>2</td>\n",
       "      <td>2016-04-30 11:46:44</td>\n",
       "      <td>2016-04-30 11:55:42</td>\n",
       "      <td>1</td>\n",
       "      <td>1.40</td>\n",
       "      <td>-73.987129</td>\n",
       "      <td>40.739429</td>\n",
       "      <td>-74.007370</td>\n",
       "      <td>40.743511</td>\n",
       "      <td>2</td>\n",
       "      <td>538.0</td>\n",
       "      <td>R</td>\n",
       "      <td>Q</td>\n",
       "    </tr>\n",
       "    <tr>\n",
       "      <th>649602</th>\n",
       "      <td>679638</td>\n",
       "      <td>2</td>\n",
       "      <td>2016-04-30 11:47:30</td>\n",
       "      <td>2016-04-30 11:54:00</td>\n",
       "      <td>1</td>\n",
       "      <td>1.12</td>\n",
       "      <td>-73.942375</td>\n",
       "      <td>40.790768</td>\n",
       "      <td>-73.952095</td>\n",
       "      <td>40.777145</td>\n",
       "      <td>2</td>\n",
       "      <td>390.0</td>\n",
       "      <td>J</td>\n",
       "      <td>AM</td>\n",
       "    </tr>\n",
       "    <tr>\n",
       "      <th>649603</th>\n",
       "      <td>679639</td>\n",
       "      <td>1</td>\n",
       "      <td>2016-04-30 11:47:38</td>\n",
       "      <td>2016-04-30 11:57:22</td>\n",
       "      <td>2</td>\n",
       "      <td>1.90</td>\n",
       "      <td>-73.960800</td>\n",
       "      <td>40.769920</td>\n",
       "      <td>-73.978966</td>\n",
       "      <td>40.785698</td>\n",
       "      <td>1</td>\n",
       "      <td>584.0</td>\n",
       "      <td>K</td>\n",
       "      <td>I</td>\n",
       "    </tr>\n",
       "    <tr>\n",
       "      <th>649604</th>\n",
       "      <td>679640</td>\n",
       "      <td>1</td>\n",
       "      <td>2016-04-30 11:47:49</td>\n",
       "      <td>2016-04-30 12:01:05</td>\n",
       "      <td>1</td>\n",
       "      <td>4.30</td>\n",
       "      <td>-74.013885</td>\n",
       "      <td>40.709515</td>\n",
       "      <td>-73.987213</td>\n",
       "      <td>40.722343</td>\n",
       "      <td>2</td>\n",
       "      <td>796.0</td>\n",
       "      <td>AU</td>\n",
       "      <td>AC</td>\n",
       "    </tr>\n",
       "    <tr>\n",
       "      <th>649605</th>\n",
       "      <td>679641</td>\n",
       "      <td>1</td>\n",
       "      <td>2016-04-30 11:48:17</td>\n",
       "      <td>2016-04-30 12:01:02</td>\n",
       "      <td>1</td>\n",
       "      <td>2.90</td>\n",
       "      <td>-73.975426</td>\n",
       "      <td>40.757584</td>\n",
       "      <td>-73.999016</td>\n",
       "      <td>40.722027</td>\n",
       "      <td>1</td>\n",
       "      <td>765.0</td>\n",
       "      <td>A</td>\n",
       "      <td>X</td>\n",
       "    </tr>\n",
       "    <tr>\n",
       "      <th>649606</th>\n",
       "      <td>679642</td>\n",
       "      <td>1</td>\n",
       "      <td>2016-04-30 11:49:44</td>\n",
       "      <td>2016-04-30 12:00:03</td>\n",
       "      <td>1</td>\n",
       "      <td>1.30</td>\n",
       "      <td>-73.989815</td>\n",
       "      <td>40.750454</td>\n",
       "      <td>-74.000473</td>\n",
       "      <td>40.762352</td>\n",
       "      <td>2</td>\n",
       "      <td>619.0</td>\n",
       "      <td>D</td>\n",
       "      <td>P</td>\n",
       "    </tr>\n",
       "  </tbody>\n",
       "</table>\n",
       "</div>"
      ],
      "text/plain": [
       "            id vendor_id     pickup_datetime    dropoff_datetime  \\\n",
       "0            0         2 2016-01-01 00:00:19 2016-01-01 00:06:31   \n",
       "649598  679634         1 2016-04-30 11:45:59 2016-04-30 11:47:47   \n",
       "649599  679635         2 2016-04-30 11:46:04 2016-04-30 11:47:41   \n",
       "649600  679636         2 2016-04-30 11:46:39 2016-04-30 11:58:02   \n",
       "649601  679637         2 2016-04-30 11:46:44 2016-04-30 11:55:42   \n",
       "649602  679638         2 2016-04-30 11:47:30 2016-04-30 11:54:00   \n",
       "649603  679639         1 2016-04-30 11:47:38 2016-04-30 11:57:22   \n",
       "649604  679640         1 2016-04-30 11:47:49 2016-04-30 12:01:05   \n",
       "649605  679641         1 2016-04-30 11:48:17 2016-04-30 12:01:02   \n",
       "649606  679642         1 2016-04-30 11:49:44 2016-04-30 12:00:03   \n",
       "\n",
       "        passenger_count  trip_distance  pickup_longitude  pickup_latitude  \\\n",
       "0                     3           1.32        -73.961258        40.796200   \n",
       "649598                1           0.50        -73.994919        40.755226   \n",
       "649599                2           0.33        -73.978935        40.777172   \n",
       "649600                1           1.78        -73.998207        40.745201   \n",
       "649601                1           1.40        -73.987129        40.739429   \n",
       "649602                1           1.12        -73.942375        40.790768   \n",
       "649603                2           1.90        -73.960800        40.769920   \n",
       "649604                1           4.30        -74.013885        40.709515   \n",
       "649605                1           2.90        -73.975426        40.757584   \n",
       "649606                1           1.30        -73.989815        40.750454   \n",
       "\n",
       "        dropoff_longitude  dropoff_latitude payment_type  trip_duration  \\\n",
       "0              -73.950050         40.787312            2          372.0   \n",
       "649598         -74.000351         40.747917            1          108.0   \n",
       "649599         -73.981888         40.773136            2           97.0   \n",
       "649600         -73.990265         40.729023            2          683.0   \n",
       "649601         -74.007370         40.743511            2          538.0   \n",
       "649602         -73.952095         40.777145            2          390.0   \n",
       "649603         -73.978966         40.785698            1          584.0   \n",
       "649604         -73.987213         40.722343            2          796.0   \n",
       "649605         -73.999016         40.722027            1          765.0   \n",
       "649606         -74.000473         40.762352            2          619.0   \n",
       "\n",
       "       pickup_neighborhood dropoff_neighborhood  \n",
       "0                       AH                    C  \n",
       "649598                   D                   AG  \n",
       "649599                  AV                   AV  \n",
       "649600                  AP                    H  \n",
       "649601                   R                    Q  \n",
       "649602                   J                   AM  \n",
       "649603                   K                    I  \n",
       "649604                  AU                   AC  \n",
       "649605                   A                    X  \n",
       "649606                   D                    P  "
      ]
     },
     "execution_count": 4,
     "metadata": {},
     "output_type": "execute_result"
    }
   ],
   "source": [
    "trips, pickup_neighborhoods, dropoff_neighborhoods = load_nyc_taxi_data()\n",
    "preview(trips, 10)"
   ]
  },
  {
   "cell_type": "markdown",
   "metadata": {},
   "source": [
    "## Display first five rows"
   ]
  },
  {
   "cell_type": "code",
   "execution_count": 5,
   "metadata": {},
   "outputs": [
    {
     "data": {
      "text/html": [
       "<div>\n",
       "<style scoped>\n",
       "    .dataframe tbody tr th:only-of-type {\n",
       "        vertical-align: middle;\n",
       "    }\n",
       "\n",
       "    .dataframe tbody tr th {\n",
       "        vertical-align: top;\n",
       "    }\n",
       "\n",
       "    .dataframe thead th {\n",
       "        text-align: right;\n",
       "    }\n",
       "</style>\n",
       "<table border=\"1\" class=\"dataframe\">\n",
       "  <thead>\n",
       "    <tr style=\"text-align: right;\">\n",
       "      <th></th>\n",
       "      <th>id</th>\n",
       "      <th>vendor_id</th>\n",
       "      <th>pickup_datetime</th>\n",
       "      <th>dropoff_datetime</th>\n",
       "      <th>passenger_count</th>\n",
       "      <th>trip_distance</th>\n",
       "      <th>pickup_longitude</th>\n",
       "      <th>pickup_latitude</th>\n",
       "      <th>dropoff_longitude</th>\n",
       "      <th>dropoff_latitude</th>\n",
       "      <th>payment_type</th>\n",
       "      <th>trip_duration</th>\n",
       "      <th>pickup_neighborhood</th>\n",
       "      <th>dropoff_neighborhood</th>\n",
       "    </tr>\n",
       "  </thead>\n",
       "  <tbody>\n",
       "    <tr>\n",
       "      <th>0</th>\n",
       "      <td>0</td>\n",
       "      <td>2</td>\n",
       "      <td>2016-01-01 00:00:19</td>\n",
       "      <td>2016-01-01 00:06:31</td>\n",
       "      <td>3</td>\n",
       "      <td>1.32</td>\n",
       "      <td>-73.961258</td>\n",
       "      <td>40.796200</td>\n",
       "      <td>-73.950050</td>\n",
       "      <td>40.787312</td>\n",
       "      <td>2</td>\n",
       "      <td>372.0</td>\n",
       "      <td>AH</td>\n",
       "      <td>C</td>\n",
       "    </tr>\n",
       "    <tr>\n",
       "      <th>1</th>\n",
       "      <td>1</td>\n",
       "      <td>2</td>\n",
       "      <td>2016-01-01 00:01:45</td>\n",
       "      <td>2016-01-01 00:27:38</td>\n",
       "      <td>1</td>\n",
       "      <td>13.70</td>\n",
       "      <td>-73.956169</td>\n",
       "      <td>40.707756</td>\n",
       "      <td>-73.939949</td>\n",
       "      <td>40.839558</td>\n",
       "      <td>1</td>\n",
       "      <td>1553.0</td>\n",
       "      <td>Z</td>\n",
       "      <td>S</td>\n",
       "    </tr>\n",
       "    <tr>\n",
       "      <th>2</th>\n",
       "      <td>2</td>\n",
       "      <td>1</td>\n",
       "      <td>2016-01-01 00:01:47</td>\n",
       "      <td>2016-01-01 00:21:51</td>\n",
       "      <td>2</td>\n",
       "      <td>5.30</td>\n",
       "      <td>-73.993103</td>\n",
       "      <td>40.752632</td>\n",
       "      <td>-73.953903</td>\n",
       "      <td>40.816540</td>\n",
       "      <td>2</td>\n",
       "      <td>1204.0</td>\n",
       "      <td>D</td>\n",
       "      <td>AL</td>\n",
       "    </tr>\n",
       "    <tr>\n",
       "      <th>3</th>\n",
       "      <td>3</td>\n",
       "      <td>2</td>\n",
       "      <td>2016-01-01 00:01:48</td>\n",
       "      <td>2016-01-01 00:16:06</td>\n",
       "      <td>1</td>\n",
       "      <td>7.19</td>\n",
       "      <td>-73.983009</td>\n",
       "      <td>40.731419</td>\n",
       "      <td>-73.930969</td>\n",
       "      <td>40.808460</td>\n",
       "      <td>2</td>\n",
       "      <td>858.0</td>\n",
       "      <td>AT</td>\n",
       "      <td>J</td>\n",
       "    </tr>\n",
       "    <tr>\n",
       "      <th>4</th>\n",
       "      <td>4</td>\n",
       "      <td>1</td>\n",
       "      <td>2016-01-01 00:02:49</td>\n",
       "      <td>2016-01-01 00:20:45</td>\n",
       "      <td>2</td>\n",
       "      <td>2.90</td>\n",
       "      <td>-74.004631</td>\n",
       "      <td>40.747234</td>\n",
       "      <td>-73.976395</td>\n",
       "      <td>40.777237</td>\n",
       "      <td>1</td>\n",
       "      <td>1076.0</td>\n",
       "      <td>AG</td>\n",
       "      <td>AV</td>\n",
       "    </tr>\n",
       "  </tbody>\n",
       "</table>\n",
       "</div>"
      ],
      "text/plain": [
       "   id vendor_id     pickup_datetime    dropoff_datetime  passenger_count  \\\n",
       "0   0         2 2016-01-01 00:00:19 2016-01-01 00:06:31                3   \n",
       "1   1         2 2016-01-01 00:01:45 2016-01-01 00:27:38                1   \n",
       "2   2         1 2016-01-01 00:01:47 2016-01-01 00:21:51                2   \n",
       "3   3         2 2016-01-01 00:01:48 2016-01-01 00:16:06                1   \n",
       "4   4         1 2016-01-01 00:02:49 2016-01-01 00:20:45                2   \n",
       "\n",
       "   trip_distance  pickup_longitude  pickup_latitude  dropoff_longitude  \\\n",
       "0           1.32        -73.961258        40.796200         -73.950050   \n",
       "1          13.70        -73.956169        40.707756         -73.939949   \n",
       "2           5.30        -73.993103        40.752632         -73.953903   \n",
       "3           7.19        -73.983009        40.731419         -73.930969   \n",
       "4           2.90        -74.004631        40.747234         -73.976395   \n",
       "\n",
       "   dropoff_latitude payment_type  trip_duration pickup_neighborhood  \\\n",
       "0         40.787312            2          372.0                  AH   \n",
       "1         40.839558            1         1553.0                   Z   \n",
       "2         40.816540            2         1204.0                   D   \n",
       "3         40.808460            2          858.0                  AT   \n",
       "4         40.777237            1         1076.0                  AG   \n",
       "\n",
       "  dropoff_neighborhood  \n",
       "0                    C  \n",
       "1                    S  \n",
       "2                   AL  \n",
       "3                    J  \n",
       "4                   AV  "
      ]
     },
     "execution_count": 5,
     "metadata": {},
     "output_type": "execute_result"
    }
   ],
   "source": [
    "trips.head()"
   ]
  },
  {
   "cell_type": "markdown",
   "metadata": {},
   "source": [
    "## Display info of the dataset"
   ]
  },
  {
   "cell_type": "code",
   "execution_count": 6,
   "metadata": {},
   "outputs": [
    {
     "name": "stdout",
     "output_type": "stream",
     "text": [
      "<class 'pandas.core.frame.DataFrame'>\n",
      "Int64Index: 974409 entries, 0 to 974408\n",
      "Data columns (total 14 columns):\n",
      " #   Column                Non-Null Count   Dtype         \n",
      "---  ------                --------------   -----         \n",
      " 0   id                    974409 non-null  int64         \n",
      " 1   vendor_id             974409 non-null  category      \n",
      " 2   pickup_datetime       974409 non-null  datetime64[ns]\n",
      " 3   dropoff_datetime      974409 non-null  datetime64[ns]\n",
      " 4   passenger_count       974409 non-null  int64         \n",
      " 5   trip_distance         974409 non-null  float64       \n",
      " 6   pickup_longitude      974409 non-null  float64       \n",
      " 7   pickup_latitude       974409 non-null  float64       \n",
      " 8   dropoff_longitude     974409 non-null  float64       \n",
      " 9   dropoff_latitude      974409 non-null  float64       \n",
      " 10  payment_type          974409 non-null  object        \n",
      " 11  trip_duration         974409 non-null  float64       \n",
      " 12  pickup_neighborhood   974409 non-null  object        \n",
      " 13  dropoff_neighborhood  974409 non-null  object        \n",
      "dtypes: category(1), datetime64[ns](2), float64(6), int64(2), object(3)\n",
      "memory usage: 137.3+ MB\n"
     ]
    }
   ],
   "source": [
    "#checking the info of the dataset\n",
    "trips.info()"
   ]
  },
  {
   "cell_type": "markdown",
   "metadata": {},
   "source": [
    "- There are `974409` non-null values in the dataset\n",
    "- The data-types are as expected"
   ]
  },
  {
   "cell_type": "code",
   "execution_count": 7,
   "metadata": {},
   "outputs": [
    {
     "data": {
      "text/html": [
       "<div>\n",
       "<style scoped>\n",
       "    .dataframe tbody tr th:only-of-type {\n",
       "        vertical-align: middle;\n",
       "    }\n",
       "\n",
       "    .dataframe tbody tr th {\n",
       "        vertical-align: top;\n",
       "    }\n",
       "\n",
       "    .dataframe thead th {\n",
       "        text-align: right;\n",
       "    }\n",
       "</style>\n",
       "<table border=\"1\" class=\"dataframe\">\n",
       "  <thead>\n",
       "    <tr style=\"text-align: right;\">\n",
       "      <th></th>\n",
       "      <th>Total</th>\n",
       "      <th>Percent</th>\n",
       "    </tr>\n",
       "  </thead>\n",
       "  <tbody>\n",
       "    <tr>\n",
       "      <th>id</th>\n",
       "      <td>0</td>\n",
       "      <td>0.0</td>\n",
       "    </tr>\n",
       "    <tr>\n",
       "      <th>vendor_id</th>\n",
       "      <td>0</td>\n",
       "      <td>0.0</td>\n",
       "    </tr>\n",
       "    <tr>\n",
       "      <th>pickup_datetime</th>\n",
       "      <td>0</td>\n",
       "      <td>0.0</td>\n",
       "    </tr>\n",
       "    <tr>\n",
       "      <th>dropoff_datetime</th>\n",
       "      <td>0</td>\n",
       "      <td>0.0</td>\n",
       "    </tr>\n",
       "    <tr>\n",
       "      <th>passenger_count</th>\n",
       "      <td>0</td>\n",
       "      <td>0.0</td>\n",
       "    </tr>\n",
       "    <tr>\n",
       "      <th>trip_distance</th>\n",
       "      <td>0</td>\n",
       "      <td>0.0</td>\n",
       "    </tr>\n",
       "    <tr>\n",
       "      <th>pickup_longitude</th>\n",
       "      <td>0</td>\n",
       "      <td>0.0</td>\n",
       "    </tr>\n",
       "    <tr>\n",
       "      <th>pickup_latitude</th>\n",
       "      <td>0</td>\n",
       "      <td>0.0</td>\n",
       "    </tr>\n",
       "    <tr>\n",
       "      <th>dropoff_longitude</th>\n",
       "      <td>0</td>\n",
       "      <td>0.0</td>\n",
       "    </tr>\n",
       "    <tr>\n",
       "      <th>dropoff_latitude</th>\n",
       "      <td>0</td>\n",
       "      <td>0.0</td>\n",
       "    </tr>\n",
       "    <tr>\n",
       "      <th>payment_type</th>\n",
       "      <td>0</td>\n",
       "      <td>0.0</td>\n",
       "    </tr>\n",
       "    <tr>\n",
       "      <th>trip_duration</th>\n",
       "      <td>0</td>\n",
       "      <td>0.0</td>\n",
       "    </tr>\n",
       "    <tr>\n",
       "      <th>pickup_neighborhood</th>\n",
       "      <td>0</td>\n",
       "      <td>0.0</td>\n",
       "    </tr>\n",
       "    <tr>\n",
       "      <th>dropoff_neighborhood</th>\n",
       "      <td>0</td>\n",
       "      <td>0.0</td>\n",
       "    </tr>\n",
       "  </tbody>\n",
       "</table>\n",
       "</div>"
      ],
      "text/plain": [
       "                      Total  Percent\n",
       "id                        0      0.0\n",
       "vendor_id                 0      0.0\n",
       "pickup_datetime           0      0.0\n",
       "dropoff_datetime          0      0.0\n",
       "passenger_count           0      0.0\n",
       "trip_distance             0      0.0\n",
       "pickup_longitude          0      0.0\n",
       "pickup_latitude           0      0.0\n",
       "dropoff_longitude         0      0.0\n",
       "dropoff_latitude          0      0.0\n",
       "payment_type              0      0.0\n",
       "trip_duration             0      0.0\n",
       "pickup_neighborhood       0      0.0\n",
       "dropoff_neighborhood      0      0.0"
      ]
     },
     "execution_count": 7,
     "metadata": {},
     "output_type": "execute_result"
    }
   ],
   "source": [
    "def missing_check(df):\n",
    "    total = df.isnull().sum().sort_values(ascending=False)   # total number of null values\n",
    "    percent = (df.isnull().sum()/df.isnull().count()).sort_values(ascending=False)  # percentage of values that are null\n",
    "    missing_data = pd.concat([total, percent], axis=1, keys=['Total', 'Percent'])  # putting the above two together\n",
    "    return missing_data # return the dataframe\n",
    "missing_check(trips)"
   ]
  },
  {
   "cell_type": "markdown",
   "metadata": {},
   "source": [
    "## Check the number of unique values in the dataset."
   ]
  },
  {
   "cell_type": "code",
   "execution_count": 8,
   "metadata": {},
   "outputs": [
    {
     "data": {
      "text/plain": [
       "id                      974409\n",
       "vendor_id                    2\n",
       "pickup_datetime         939015\n",
       "dropoff_datetime        938873\n",
       "passenger_count              8\n",
       "trip_distance             2503\n",
       "pickup_longitude         20222\n",
       "pickup_latitude          40692\n",
       "dropoff_longitude        26127\n",
       "dropoff_latitude         50077\n",
       "payment_type                 4\n",
       "trip_duration             3607\n",
       "pickup_neighborhood         49\n",
       "dropoff_neighborhood        49\n",
       "dtype: int64"
      ]
     },
     "execution_count": 8,
     "metadata": {},
     "output_type": "execute_result"
    }
   ],
   "source": [
    "# Check the uniques values in each columns\n",
    "trips.nunique()"
   ]
  },
  {
   "cell_type": "markdown",
   "metadata": {},
   "source": [
    "**Write your answers here:**\n",
    "- `vendor_id` has only 2 unique values, implies there are only 2 major taxi vendors in the dataset. \n",
    "- `passenger_count` has 8 unique values and `payment_type` have 4. \n",
    "- There are 49 neighborhoods in the dataset, from where either a pickup or dropoff is happening. "
   ]
  },
  {
   "cell_type": "markdown",
   "metadata": {},
   "source": [
    "## Question 1 : Check summary statistics of the dataset (1 Mark)"
   ]
  },
  {
   "cell_type": "code",
   "execution_count": 9,
   "metadata": {},
   "outputs": [
    {
     "data": {
      "text/html": [
       "<div>\n",
       "<style scoped>\n",
       "    .dataframe tbody tr th:only-of-type {\n",
       "        vertical-align: middle;\n",
       "    }\n",
       "\n",
       "    .dataframe tbody tr th {\n",
       "        vertical-align: top;\n",
       "    }\n",
       "\n",
       "    .dataframe thead th {\n",
       "        text-align: right;\n",
       "    }\n",
       "</style>\n",
       "<table border=\"1\" class=\"dataframe\">\n",
       "  <thead>\n",
       "    <tr style=\"text-align: right;\">\n",
       "      <th></th>\n",
       "      <th>count</th>\n",
       "      <th>mean</th>\n",
       "      <th>std</th>\n",
       "      <th>min</th>\n",
       "      <th>25%</th>\n",
       "      <th>50%</th>\n",
       "      <th>75%</th>\n",
       "      <th>max</th>\n",
       "    </tr>\n",
       "  </thead>\n",
       "  <tbody>\n",
       "    <tr>\n",
       "      <th>id</th>\n",
       "      <td>974409.0</td>\n",
       "      <td>509622.259</td>\n",
       "      <td>294491.647</td>\n",
       "      <td>0.00</td>\n",
       "      <td>254521.000</td>\n",
       "      <td>509310.000</td>\n",
       "      <td>764743.000</td>\n",
       "      <td>1020002.000</td>\n",
       "    </tr>\n",
       "    <tr>\n",
       "      <th>passenger_count</th>\n",
       "      <td>974409.0</td>\n",
       "      <td>1.664</td>\n",
       "      <td>1.315</td>\n",
       "      <td>0.00</td>\n",
       "      <td>1.000</td>\n",
       "      <td>1.000</td>\n",
       "      <td>2.000</td>\n",
       "      <td>9.000</td>\n",
       "    </tr>\n",
       "    <tr>\n",
       "      <th>trip_distance</th>\n",
       "      <td>974409.0</td>\n",
       "      <td>2.734</td>\n",
       "      <td>3.307</td>\n",
       "      <td>0.00</td>\n",
       "      <td>1.000</td>\n",
       "      <td>1.640</td>\n",
       "      <td>2.990</td>\n",
       "      <td>502.800</td>\n",
       "    </tr>\n",
       "    <tr>\n",
       "      <th>pickup_longitude</th>\n",
       "      <td>974409.0</td>\n",
       "      <td>-73.973</td>\n",
       "      <td>0.036</td>\n",
       "      <td>-74.03</td>\n",
       "      <td>-73.991</td>\n",
       "      <td>-73.981</td>\n",
       "      <td>-73.967</td>\n",
       "      <td>-73.771</td>\n",
       "    </tr>\n",
       "    <tr>\n",
       "      <th>pickup_latitude</th>\n",
       "      <td>974409.0</td>\n",
       "      <td>40.752</td>\n",
       "      <td>0.027</td>\n",
       "      <td>40.63</td>\n",
       "      <td>40.740</td>\n",
       "      <td>40.755</td>\n",
       "      <td>40.769</td>\n",
       "      <td>40.850</td>\n",
       "    </tr>\n",
       "    <tr>\n",
       "      <th>dropoff_longitude</th>\n",
       "      <td>974409.0</td>\n",
       "      <td>-73.973</td>\n",
       "      <td>0.031</td>\n",
       "      <td>-74.03</td>\n",
       "      <td>-73.990</td>\n",
       "      <td>-73.979</td>\n",
       "      <td>-73.963</td>\n",
       "      <td>-73.770</td>\n",
       "    </tr>\n",
       "    <tr>\n",
       "      <th>dropoff_latitude</th>\n",
       "      <td>974409.0</td>\n",
       "      <td>40.753</td>\n",
       "      <td>0.029</td>\n",
       "      <td>40.63</td>\n",
       "      <td>40.739</td>\n",
       "      <td>40.756</td>\n",
       "      <td>40.770</td>\n",
       "      <td>40.850</td>\n",
       "    </tr>\n",
       "    <tr>\n",
       "      <th>trip_duration</th>\n",
       "      <td>974409.0</td>\n",
       "      <td>797.703</td>\n",
       "      <td>576.802</td>\n",
       "      <td>0.00</td>\n",
       "      <td>389.000</td>\n",
       "      <td>646.000</td>\n",
       "      <td>1040.000</td>\n",
       "      <td>3606.000</td>\n",
       "    </tr>\n",
       "  </tbody>\n",
       "</table>\n",
       "</div>"
      ],
      "text/plain": [
       "                      count        mean         std    min         25%  \\\n",
       "id                 974409.0  509622.259  294491.647   0.00  254521.000   \n",
       "passenger_count    974409.0       1.664       1.315   0.00       1.000   \n",
       "trip_distance      974409.0       2.734       3.307   0.00       1.000   \n",
       "pickup_longitude   974409.0     -73.973       0.036 -74.03     -73.991   \n",
       "pickup_latitude    974409.0      40.752       0.027  40.63      40.740   \n",
       "dropoff_longitude  974409.0     -73.973       0.031 -74.03     -73.990   \n",
       "dropoff_latitude   974409.0      40.753       0.029  40.63      40.739   \n",
       "trip_duration      974409.0     797.703     576.802   0.00     389.000   \n",
       "\n",
       "                          50%         75%          max  \n",
       "id                 509310.000  764743.000  1020002.000  \n",
       "passenger_count         1.000       2.000        9.000  \n",
       "trip_distance           1.640       2.990      502.800  \n",
       "pickup_longitude      -73.981     -73.967      -73.771  \n",
       "pickup_latitude        40.755      40.769       40.850  \n",
       "dropoff_longitude     -73.979     -73.963      -73.770  \n",
       "dropoff_latitude       40.756      40.770       40.850  \n",
       "trip_duration         646.000    1040.000     3606.000  "
      ]
     },
     "execution_count": 9,
     "metadata": {},
     "output_type": "execute_result"
    }
   ],
   "source": [
    "#chekcing the descriptive stats of the data\n",
    "round(trips.describe().T, 3)"
   ]
  },
  {
   "cell_type": "markdown",
   "metadata": {},
   "source": [
    "**Write your answers here:**\n",
    "- The `median` and `75%` of the `passenger_count` is 1 and  2 respectively. \n",
    "- Average `trip_distance` is **2.73km**, with a maximum value of **502km** and minimum of **0**.\n",
    "- Average `trip_duration` is **797 sec**. "
   ]
  },
  {
   "cell_type": "markdown",
   "metadata": {},
   "source": [
    "### Checking for the rows for which `trip_distance` is `0`"
   ]
  },
  {
   "cell_type": "code",
   "execution_count": 10,
   "metadata": {},
   "outputs": [
    {
     "data": {
      "text/html": [
       "<div>\n",
       "<style scoped>\n",
       "    .dataframe tbody tr th:only-of-type {\n",
       "        vertical-align: middle;\n",
       "    }\n",
       "\n",
       "    .dataframe tbody tr th {\n",
       "        vertical-align: top;\n",
       "    }\n",
       "\n",
       "    .dataframe thead th {\n",
       "        text-align: right;\n",
       "    }\n",
       "</style>\n",
       "<table border=\"1\" class=\"dataframe\">\n",
       "  <thead>\n",
       "    <tr style=\"text-align: right;\">\n",
       "      <th></th>\n",
       "      <th>id</th>\n",
       "      <th>vendor_id</th>\n",
       "      <th>pickup_datetime</th>\n",
       "      <th>dropoff_datetime</th>\n",
       "      <th>passenger_count</th>\n",
       "      <th>trip_distance</th>\n",
       "      <th>pickup_longitude</th>\n",
       "      <th>pickup_latitude</th>\n",
       "      <th>dropoff_longitude</th>\n",
       "      <th>dropoff_latitude</th>\n",
       "      <th>payment_type</th>\n",
       "      <th>trip_duration</th>\n",
       "      <th>pickup_neighborhood</th>\n",
       "      <th>dropoff_neighborhood</th>\n",
       "    </tr>\n",
       "  </thead>\n",
       "  <tbody>\n",
       "    <tr>\n",
       "      <th>852</th>\n",
       "      <td>880</td>\n",
       "      <td>1</td>\n",
       "      <td>2016-01-01 02:15:56</td>\n",
       "      <td>2016-01-01 02:16:17</td>\n",
       "      <td>1</td>\n",
       "      <td>0.0</td>\n",
       "      <td>-74.002586</td>\n",
       "      <td>40.750298</td>\n",
       "      <td>-74.002861</td>\n",
       "      <td>40.750446</td>\n",
       "      <td>2</td>\n",
       "      <td>21.0</td>\n",
       "      <td>AG</td>\n",
       "      <td>AG</td>\n",
       "    </tr>\n",
       "    <tr>\n",
       "      <th>1079</th>\n",
       "      <td>1116</td>\n",
       "      <td>1</td>\n",
       "      <td>2016-01-01 03:01:10</td>\n",
       "      <td>2016-01-01 03:03:26</td>\n",
       "      <td>1</td>\n",
       "      <td>0.0</td>\n",
       "      <td>-73.987831</td>\n",
       "      <td>40.728558</td>\n",
       "      <td>-73.988747</td>\n",
       "      <td>40.727280</td>\n",
       "      <td>3</td>\n",
       "      <td>136.0</td>\n",
       "      <td>H</td>\n",
       "      <td>H</td>\n",
       "    </tr>\n",
       "    <tr>\n",
       "      <th>1408</th>\n",
       "      <td>1455</td>\n",
       "      <td>2</td>\n",
       "      <td>2016-01-01 04:09:43</td>\n",
       "      <td>2016-01-01 04:10:48</td>\n",
       "      <td>1</td>\n",
       "      <td>0.0</td>\n",
       "      <td>-73.985893</td>\n",
       "      <td>40.763649</td>\n",
       "      <td>-73.985741</td>\n",
       "      <td>40.763672</td>\n",
       "      <td>2</td>\n",
       "      <td>65.0</td>\n",
       "      <td>AR</td>\n",
       "      <td>AR</td>\n",
       "    </tr>\n",
       "    <tr>\n",
       "      <th>1440</th>\n",
       "      <td>1488</td>\n",
       "      <td>1</td>\n",
       "      <td>2016-01-01 04:16:54</td>\n",
       "      <td>2016-01-01 04:16:57</td>\n",
       "      <td>1</td>\n",
       "      <td>0.0</td>\n",
       "      <td>-74.014198</td>\n",
       "      <td>40.709988</td>\n",
       "      <td>-74.014198</td>\n",
       "      <td>40.709988</td>\n",
       "      <td>3</td>\n",
       "      <td>3.0</td>\n",
       "      <td>AU</td>\n",
       "      <td>AU</td>\n",
       "    </tr>\n",
       "    <tr>\n",
       "      <th>1510</th>\n",
       "      <td>1558</td>\n",
       "      <td>1</td>\n",
       "      <td>2016-01-01 04:36:03</td>\n",
       "      <td>2016-01-01 04:36:16</td>\n",
       "      <td>1</td>\n",
       "      <td>0.0</td>\n",
       "      <td>-73.952507</td>\n",
       "      <td>40.817329</td>\n",
       "      <td>-73.952499</td>\n",
       "      <td>40.817322</td>\n",
       "      <td>2</td>\n",
       "      <td>13.0</td>\n",
       "      <td>AL</td>\n",
       "      <td>AL</td>\n",
       "    </tr>\n",
       "    <tr>\n",
       "      <th>...</th>\n",
       "      <td>...</td>\n",
       "      <td>...</td>\n",
       "      <td>...</td>\n",
       "      <td>...</td>\n",
       "      <td>...</td>\n",
       "      <td>...</td>\n",
       "      <td>...</td>\n",
       "      <td>...</td>\n",
       "      <td>...</td>\n",
       "      <td>...</td>\n",
       "      <td>...</td>\n",
       "      <td>...</td>\n",
       "      <td>...</td>\n",
       "      <td>...</td>\n",
       "    </tr>\n",
       "    <tr>\n",
       "      <th>972967</th>\n",
       "      <td>1018490</td>\n",
       "      <td>1</td>\n",
       "      <td>2016-06-30 19:09:44</td>\n",
       "      <td>2016-06-30 19:22:21</td>\n",
       "      <td>1</td>\n",
       "      <td>0.0</td>\n",
       "      <td>-73.945480</td>\n",
       "      <td>40.751400</td>\n",
       "      <td>-73.945496</td>\n",
       "      <td>40.751549</td>\n",
       "      <td>2</td>\n",
       "      <td>757.0</td>\n",
       "      <td>AN</td>\n",
       "      <td>AN</td>\n",
       "    </tr>\n",
       "    <tr>\n",
       "      <th>973384</th>\n",
       "      <td>1018928</td>\n",
       "      <td>2</td>\n",
       "      <td>2016-06-30 20:35:08</td>\n",
       "      <td>2016-06-30 20:35:10</td>\n",
       "      <td>1</td>\n",
       "      <td>0.0</td>\n",
       "      <td>-73.983864</td>\n",
       "      <td>40.693813</td>\n",
       "      <td>-73.983910</td>\n",
       "      <td>40.693817</td>\n",
       "      <td>1</td>\n",
       "      <td>2.0</td>\n",
       "      <td>AS</td>\n",
       "      <td>AS</td>\n",
       "    </tr>\n",
       "    <tr>\n",
       "      <th>973555</th>\n",
       "      <td>1019105</td>\n",
       "      <td>2</td>\n",
       "      <td>2016-06-30 21:13:50</td>\n",
       "      <td>2016-06-30 21:14:05</td>\n",
       "      <td>1</td>\n",
       "      <td>0.0</td>\n",
       "      <td>-74.008789</td>\n",
       "      <td>40.708740</td>\n",
       "      <td>-74.008659</td>\n",
       "      <td>40.708858</td>\n",
       "      <td>1</td>\n",
       "      <td>15.0</td>\n",
       "      <td>AU</td>\n",
       "      <td>AU</td>\n",
       "    </tr>\n",
       "    <tr>\n",
       "      <th>973607</th>\n",
       "      <td>1019159</td>\n",
       "      <td>2</td>\n",
       "      <td>2016-06-30 21:24:23</td>\n",
       "      <td>2016-06-30 21:37:40</td>\n",
       "      <td>1</td>\n",
       "      <td>0.0</td>\n",
       "      <td>-73.974510</td>\n",
       "      <td>40.778297</td>\n",
       "      <td>-73.977272</td>\n",
       "      <td>40.754047</td>\n",
       "      <td>1</td>\n",
       "      <td>797.0</td>\n",
       "      <td>I</td>\n",
       "      <td>AD</td>\n",
       "    </tr>\n",
       "    <tr>\n",
       "      <th>973898</th>\n",
       "      <td>1019464</td>\n",
       "      <td>2</td>\n",
       "      <td>2016-06-30 22:20:27</td>\n",
       "      <td>2016-06-30 22:43:11</td>\n",
       "      <td>2</td>\n",
       "      <td>0.0</td>\n",
       "      <td>-73.978920</td>\n",
       "      <td>40.688160</td>\n",
       "      <td>-73.992317</td>\n",
       "      <td>40.749359</td>\n",
       "      <td>1</td>\n",
       "      <td>1364.0</td>\n",
       "      <td>V</td>\n",
       "      <td>D</td>\n",
       "    </tr>\n",
       "  </tbody>\n",
       "</table>\n",
       "<p>3807 rows × 14 columns</p>\n",
       "</div>"
      ],
      "text/plain": [
       "             id vendor_id     pickup_datetime    dropoff_datetime  \\\n",
       "852         880         1 2016-01-01 02:15:56 2016-01-01 02:16:17   \n",
       "1079       1116         1 2016-01-01 03:01:10 2016-01-01 03:03:26   \n",
       "1408       1455         2 2016-01-01 04:09:43 2016-01-01 04:10:48   \n",
       "1440       1488         1 2016-01-01 04:16:54 2016-01-01 04:16:57   \n",
       "1510       1558         1 2016-01-01 04:36:03 2016-01-01 04:36:16   \n",
       "...         ...       ...                 ...                 ...   \n",
       "972967  1018490         1 2016-06-30 19:09:44 2016-06-30 19:22:21   \n",
       "973384  1018928         2 2016-06-30 20:35:08 2016-06-30 20:35:10   \n",
       "973555  1019105         2 2016-06-30 21:13:50 2016-06-30 21:14:05   \n",
       "973607  1019159         2 2016-06-30 21:24:23 2016-06-30 21:37:40   \n",
       "973898  1019464         2 2016-06-30 22:20:27 2016-06-30 22:43:11   \n",
       "\n",
       "        passenger_count  trip_distance  pickup_longitude  pickup_latitude  \\\n",
       "852                   1            0.0        -74.002586        40.750298   \n",
       "1079                  1            0.0        -73.987831        40.728558   \n",
       "1408                  1            0.0        -73.985893        40.763649   \n",
       "1440                  1            0.0        -74.014198        40.709988   \n",
       "1510                  1            0.0        -73.952507        40.817329   \n",
       "...                 ...            ...               ...              ...   \n",
       "972967                1            0.0        -73.945480        40.751400   \n",
       "973384                1            0.0        -73.983864        40.693813   \n",
       "973555                1            0.0        -74.008789        40.708740   \n",
       "973607                1            0.0        -73.974510        40.778297   \n",
       "973898                2            0.0        -73.978920        40.688160   \n",
       "\n",
       "        dropoff_longitude  dropoff_latitude payment_type  trip_duration  \\\n",
       "852            -74.002861         40.750446            2           21.0   \n",
       "1079           -73.988747         40.727280            3          136.0   \n",
       "1408           -73.985741         40.763672            2           65.0   \n",
       "1440           -74.014198         40.709988            3            3.0   \n",
       "1510           -73.952499         40.817322            2           13.0   \n",
       "...                   ...               ...          ...            ...   \n",
       "972967         -73.945496         40.751549            2          757.0   \n",
       "973384         -73.983910         40.693817            1            2.0   \n",
       "973555         -74.008659         40.708858            1           15.0   \n",
       "973607         -73.977272         40.754047            1          797.0   \n",
       "973898         -73.992317         40.749359            1         1364.0   \n",
       "\n",
       "       pickup_neighborhood dropoff_neighborhood  \n",
       "852                     AG                   AG  \n",
       "1079                     H                    H  \n",
       "1408                    AR                   AR  \n",
       "1440                    AU                   AU  \n",
       "1510                    AL                   AL  \n",
       "...                    ...                  ...  \n",
       "972967                  AN                   AN  \n",
       "973384                  AS                   AS  \n",
       "973555                  AU                   AU  \n",
       "973607                   I                   AD  \n",
       "973898                   V                    D  \n",
       "\n",
       "[3807 rows x 14 columns]"
      ]
     },
     "execution_count": 10,
     "metadata": {},
     "output_type": "execute_result"
    }
   ],
   "source": [
    "#Chekcing the rows where trip distance is 0\n",
    "trips[trips['trip_distance']==0]"
   ]
  },
  {
   "cell_type": "code",
   "execution_count": 11,
   "metadata": {},
   "outputs": [
    {
     "name": "stdout",
     "output_type": "stream",
     "text": [
      "We can observe we have 3807 rows where `trip_distance` is `0`.\n"
     ]
    }
   ],
   "source": [
    "noTripDistance=trips[trips['trip_distance']==0].shape[0]\n",
    "print(\"We can observe we have\", noTripDistance, \"rows where `trip_distance` is `0`.\")"
   ]
  },
  {
   "cell_type": "markdown",
   "metadata": {},
   "source": [
    "**Write your answers here:**\n",
    "- We can observe we have `3807` rows where `trip_distance` is `0`."
   ]
  },
  {
   "cell_type": "markdown",
   "metadata": {},
   "source": [
    "### Checking for the rows for which `trip_duration` is `0`"
   ]
  },
  {
   "cell_type": "code",
   "execution_count": 12,
   "metadata": {},
   "outputs": [
    {
     "name": "stdout",
     "output_type": "stream",
     "text": [
      "We can observe we have 25 rows where `trip_duration` is `0`.\n"
     ]
    }
   ],
   "source": [
    "noTripDuration=trips[trips['trip_duration']==0].shape[0]\n",
    "print(\"We can observe we have\", noTripDuration, \"rows where `trip_duration` is `0`.\")"
   ]
  },
  {
   "cell_type": "markdown",
   "metadata": {},
   "source": [
    "**Write your answers here:**\n",
    "- We can observe we have `25` rows where `trip_duration` is `0`."
   ]
  },
  {
   "cell_type": "markdown",
   "metadata": {},
   "source": [
    "#### Dropping the `0` values in `trip_distance` and `trip_duration`"
   ]
  },
  {
   "cell_type": "code",
   "execution_count": 13,
   "metadata": {},
   "outputs": [
    {
     "name": "stdout",
     "output_type": "stream",
     "text": [
      "The dataset has 3832 `0` values, representing the 0.393 % of the whole dataset\n"
     ]
    }
   ],
   "source": [
    "missingRows = noTripDistance+noTripDuration\n",
    "totalRows = trips.shape[0]\n",
    "missingRowsPercentage = (missingRows*100)/totalRows\n",
    "\n",
    "print(\"The dataset has\", missingRows, \"`0` values,\",\n",
    "      \"representing the\", round(missingRowsPercentage,3),\"% of the whole dataset\")"
   ]
  },
  {
   "cell_type": "markdown",
   "metadata": {},
   "source": [
    "- Given that we have `3832` rows with a value of `0` in features where it does not make sense to have `0` values, and our dataset is `974409` rows long. we will asume **there were missing valus which were replaced with `0` and we will drop the `0` values instead of imputing them to keep our predictions as accurate as possible.** Note that we are only loosing `~0.393%` of the dataset."
   ]
  },
  {
   "cell_type": "code",
   "execution_count": 14,
   "metadata": {},
   "outputs": [
    {
     "data": {
      "text/html": [
       "<div>\n",
       "<style scoped>\n",
       "    .dataframe tbody tr th:only-of-type {\n",
       "        vertical-align: middle;\n",
       "    }\n",
       "\n",
       "    .dataframe tbody tr th {\n",
       "        vertical-align: top;\n",
       "    }\n",
       "\n",
       "    .dataframe thead th {\n",
       "        text-align: right;\n",
       "    }\n",
       "</style>\n",
       "<table border=\"1\" class=\"dataframe\">\n",
       "  <thead>\n",
       "    <tr style=\"text-align: right;\">\n",
       "      <th></th>\n",
       "      <th>Total</th>\n",
       "      <th>Percent</th>\n",
       "    </tr>\n",
       "  </thead>\n",
       "  <tbody>\n",
       "    <tr>\n",
       "      <th>trip_distance</th>\n",
       "      <td>3807</td>\n",
       "      <td>0.003907</td>\n",
       "    </tr>\n",
       "    <tr>\n",
       "      <th>trip_duration</th>\n",
       "      <td>25</td>\n",
       "      <td>0.000026</td>\n",
       "    </tr>\n",
       "    <tr>\n",
       "      <th>id</th>\n",
       "      <td>0</td>\n",
       "      <td>0.000000</td>\n",
       "    </tr>\n",
       "    <tr>\n",
       "      <th>vendor_id</th>\n",
       "      <td>0</td>\n",
       "      <td>0.000000</td>\n",
       "    </tr>\n",
       "    <tr>\n",
       "      <th>pickup_datetime</th>\n",
       "      <td>0</td>\n",
       "      <td>0.000000</td>\n",
       "    </tr>\n",
       "    <tr>\n",
       "      <th>dropoff_datetime</th>\n",
       "      <td>0</td>\n",
       "      <td>0.000000</td>\n",
       "    </tr>\n",
       "    <tr>\n",
       "      <th>passenger_count</th>\n",
       "      <td>0</td>\n",
       "      <td>0.000000</td>\n",
       "    </tr>\n",
       "    <tr>\n",
       "      <th>pickup_longitude</th>\n",
       "      <td>0</td>\n",
       "      <td>0.000000</td>\n",
       "    </tr>\n",
       "    <tr>\n",
       "      <th>pickup_latitude</th>\n",
       "      <td>0</td>\n",
       "      <td>0.000000</td>\n",
       "    </tr>\n",
       "    <tr>\n",
       "      <th>dropoff_longitude</th>\n",
       "      <td>0</td>\n",
       "      <td>0.000000</td>\n",
       "    </tr>\n",
       "    <tr>\n",
       "      <th>dropoff_latitude</th>\n",
       "      <td>0</td>\n",
       "      <td>0.000000</td>\n",
       "    </tr>\n",
       "    <tr>\n",
       "      <th>payment_type</th>\n",
       "      <td>0</td>\n",
       "      <td>0.000000</td>\n",
       "    </tr>\n",
       "    <tr>\n",
       "      <th>pickup_neighborhood</th>\n",
       "      <td>0</td>\n",
       "      <td>0.000000</td>\n",
       "    </tr>\n",
       "    <tr>\n",
       "      <th>dropoff_neighborhood</th>\n",
       "      <td>0</td>\n",
       "      <td>0.000000</td>\n",
       "    </tr>\n",
       "  </tbody>\n",
       "</table>\n",
       "</div>"
      ],
      "text/plain": [
       "                      Total   Percent\n",
       "trip_distance          3807  0.003907\n",
       "trip_duration            25  0.000026\n",
       "id                        0  0.000000\n",
       "vendor_id                 0  0.000000\n",
       "pickup_datetime           0  0.000000\n",
       "dropoff_datetime          0  0.000000\n",
       "passenger_count           0  0.000000\n",
       "pickup_longitude          0  0.000000\n",
       "pickup_latitude           0  0.000000\n",
       "dropoff_longitude         0  0.000000\n",
       "dropoff_latitude          0  0.000000\n",
       "payment_type              0  0.000000\n",
       "pickup_neighborhood       0  0.000000\n",
       "dropoff_neighborhood      0  0.000000"
      ]
     },
     "execution_count": 14,
     "metadata": {},
     "output_type": "execute_result"
    }
   ],
   "source": [
    "trips['trip_distance'].replace(0, np.nan, inplace=True)\n",
    "trips['trip_duration'].replace(0, np.nan, inplace=True)\n",
    "missing_check(trips)"
   ]
  },
  {
   "cell_type": "markdown",
   "metadata": {},
   "source": [
    "- With the new considerations, we can observe that we have filtered out `~0.393%` of our data. This will marginally reduce the sample size, but will increase the accuracy of our predictions."
   ]
  },
  {
   "cell_type": "code",
   "execution_count": 15,
   "metadata": {},
   "outputs": [
    {
     "data": {
      "text/html": [
       "<div>\n",
       "<style scoped>\n",
       "    .dataframe tbody tr th:only-of-type {\n",
       "        vertical-align: middle;\n",
       "    }\n",
       "\n",
       "    .dataframe tbody tr th {\n",
       "        vertical-align: top;\n",
       "    }\n",
       "\n",
       "    .dataframe thead th {\n",
       "        text-align: right;\n",
       "    }\n",
       "</style>\n",
       "<table border=\"1\" class=\"dataframe\">\n",
       "  <thead>\n",
       "    <tr style=\"text-align: right;\">\n",
       "      <th></th>\n",
       "      <th>Total</th>\n",
       "      <th>Percent</th>\n",
       "    </tr>\n",
       "  </thead>\n",
       "  <tbody>\n",
       "    <tr>\n",
       "      <th>id</th>\n",
       "      <td>0</td>\n",
       "      <td>0.0</td>\n",
       "    </tr>\n",
       "    <tr>\n",
       "      <th>vendor_id</th>\n",
       "      <td>0</td>\n",
       "      <td>0.0</td>\n",
       "    </tr>\n",
       "    <tr>\n",
       "      <th>pickup_datetime</th>\n",
       "      <td>0</td>\n",
       "      <td>0.0</td>\n",
       "    </tr>\n",
       "    <tr>\n",
       "      <th>dropoff_datetime</th>\n",
       "      <td>0</td>\n",
       "      <td>0.0</td>\n",
       "    </tr>\n",
       "    <tr>\n",
       "      <th>passenger_count</th>\n",
       "      <td>0</td>\n",
       "      <td>0.0</td>\n",
       "    </tr>\n",
       "    <tr>\n",
       "      <th>trip_distance</th>\n",
       "      <td>0</td>\n",
       "      <td>0.0</td>\n",
       "    </tr>\n",
       "    <tr>\n",
       "      <th>pickup_longitude</th>\n",
       "      <td>0</td>\n",
       "      <td>0.0</td>\n",
       "    </tr>\n",
       "    <tr>\n",
       "      <th>pickup_latitude</th>\n",
       "      <td>0</td>\n",
       "      <td>0.0</td>\n",
       "    </tr>\n",
       "    <tr>\n",
       "      <th>dropoff_longitude</th>\n",
       "      <td>0</td>\n",
       "      <td>0.0</td>\n",
       "    </tr>\n",
       "    <tr>\n",
       "      <th>dropoff_latitude</th>\n",
       "      <td>0</td>\n",
       "      <td>0.0</td>\n",
       "    </tr>\n",
       "    <tr>\n",
       "      <th>payment_type</th>\n",
       "      <td>0</td>\n",
       "      <td>0.0</td>\n",
       "    </tr>\n",
       "    <tr>\n",
       "      <th>trip_duration</th>\n",
       "      <td>0</td>\n",
       "      <td>0.0</td>\n",
       "    </tr>\n",
       "    <tr>\n",
       "      <th>pickup_neighborhood</th>\n",
       "      <td>0</td>\n",
       "      <td>0.0</td>\n",
       "    </tr>\n",
       "    <tr>\n",
       "      <th>dropoff_neighborhood</th>\n",
       "      <td>0</td>\n",
       "      <td>0.0</td>\n",
       "    </tr>\n",
       "  </tbody>\n",
       "</table>\n",
       "</div>"
      ],
      "text/plain": [
       "                      Total  Percent\n",
       "id                        0      0.0\n",
       "vendor_id                 0      0.0\n",
       "pickup_datetime           0      0.0\n",
       "dropoff_datetime          0      0.0\n",
       "passenger_count           0      0.0\n",
       "trip_distance             0      0.0\n",
       "pickup_longitude          0      0.0\n",
       "pickup_latitude           0      0.0\n",
       "dropoff_longitude         0      0.0\n",
       "dropoff_latitude          0      0.0\n",
       "payment_type              0      0.0\n",
       "trip_duration             0      0.0\n",
       "pickup_neighborhood       0      0.0\n",
       "dropoff_neighborhood      0      0.0"
      ]
     },
     "execution_count": 15,
     "metadata": {},
     "output_type": "execute_result"
    }
   ],
   "source": [
    "trips = trips.dropna()\n",
    "missing_check(trips)"
   ]
  },
  {
   "cell_type": "markdown",
   "metadata": {},
   "source": [
    "## Question 2: Univariate Analysis"
   ]
  },
  {
   "cell_type": "markdown",
   "metadata": {},
   "source": [
    "### Question 2.1: Build histogram for numerical columns (1 Marks)"
   ]
  },
  {
   "cell_type": "code",
   "execution_count": 16,
   "metadata": {},
   "outputs": [
    {
     "data": {
      "image/png": "[encoded data removed]",
      "text/plain": [
       "<Figure size 1440x1440 with 12 Axes>"
      ]
     },
     "metadata": {
      "needs_background": "light"
     },
     "output_type": "display_data"
    }
   ],
   "source": [
    "trips.hist(figsize=(20,20))\n",
    "plt.show()"
   ]
  },
  {
   "cell_type": "markdown",
   "metadata": {},
   "source": [
    "**Write your answers here:**\n",
    "- Recall that *``id`` is just a trip identifier*, so it is **irrelevant** for this question.\n",
    "- ``pickup_datetime`` follows a nearly **unitary distribution**. This suggests there is basically the **same demand for taxi rides year round**.\n",
    "- `dropoff_datetime` is the same plot as `pickup_datetime`, this is to be expected since *it is not possible to start a ride and never finish it*.\n",
    "- `passenger_count` is **right skewed**. This suggests that **most taxy rides in NYC are for one or two passengers**. Note that the graph goes up to eight passengers. This means that we have at least one >8 passenger ride in our dataset, and we may have to remove it to clean up our results.\n",
    "- ``trip_distance`` seem to have some outlier values since we only see a bar at the zero value, we can investigate this further plotting a boxplot. \n",
    "- ``pickup_latitude`` and  ``dropoff_latitude`` follow a nearly **normal distribution**, while  ``pickup_longitude`` and ``dropoff_longitude``  are a bit **right skewed**.\n",
    "- ``trip_duration`` is **right skewed**. *Recall the vaues for this variable are in seconds*. The graph suggests **most trips are ~500 seconds long (~8 min.).**"
   ]
  },
  {
   "cell_type": "markdown",
   "metadata": {},
   "source": [
    "#### Clipping the outliers of `passenger_count` to 6"
   ]
  },
  {
   "cell_type": "code",
   "execution_count": 17,
   "metadata": {},
   "outputs": [
    {
     "data": {
      "image/png": "[encoded data removed]",
      "text/plain": [
       "<Figure size 432x288 with 1 Axes>"
      ]
     },
     "metadata": {
      "needs_background": "light"
     },
     "output_type": "display_data"
    }
   ],
   "source": [
    "sns.boxplot(trips['passenger_count'])\n",
    "plt.show()"
   ]
  },
  {
   "cell_type": "code",
   "execution_count": 18,
   "metadata": {},
   "outputs": [
    {
     "data": {
      "text/html": [
       "<div>\n",
       "<style scoped>\n",
       "    .dataframe tbody tr th:only-of-type {\n",
       "        vertical-align: middle;\n",
       "    }\n",
       "\n",
       "    .dataframe tbody tr th {\n",
       "        vertical-align: top;\n",
       "    }\n",
       "\n",
       "    .dataframe thead th {\n",
       "        text-align: right;\n",
       "    }\n",
       "</style>\n",
       "<table border=\"1\" class=\"dataframe\">\n",
       "  <thead>\n",
       "    <tr style=\"text-align: right;\">\n",
       "      <th></th>\n",
       "      <th>id</th>\n",
       "      <th>vendor_id</th>\n",
       "      <th>pickup_datetime</th>\n",
       "      <th>dropoff_datetime</th>\n",
       "      <th>passenger_count</th>\n",
       "      <th>trip_distance</th>\n",
       "      <th>pickup_longitude</th>\n",
       "      <th>pickup_latitude</th>\n",
       "      <th>dropoff_longitude</th>\n",
       "      <th>dropoff_latitude</th>\n",
       "      <th>payment_type</th>\n",
       "      <th>trip_duration</th>\n",
       "      <th>pickup_neighborhood</th>\n",
       "      <th>dropoff_neighborhood</th>\n",
       "    </tr>\n",
       "  </thead>\n",
       "  <tbody>\n",
       "    <tr>\n",
       "      <th>757983</th>\n",
       "      <td>793284</td>\n",
       "      <td>1</td>\n",
       "      <td>2016-05-19 21:24:55</td>\n",
       "      <td>2016-05-19 22:04:15</td>\n",
       "      <td>9</td>\n",
       "      <td>18.70</td>\n",
       "      <td>-73.787331</td>\n",
       "      <td>40.641785</td>\n",
       "      <td>-73.950508</td>\n",
       "      <td>40.809975</td>\n",
       "      <td>1</td>\n",
       "      <td>2360.0</td>\n",
       "      <td>G</td>\n",
       "      <td>AL</td>\n",
       "    </tr>\n",
       "    <tr>\n",
       "      <th>905094</th>\n",
       "      <td>947306</td>\n",
       "      <td>2</td>\n",
       "      <td>2016-06-17 09:15:22</td>\n",
       "      <td>2016-06-17 09:15:33</td>\n",
       "      <td>9</td>\n",
       "      <td>0.01</td>\n",
       "      <td>-73.987236</td>\n",
       "      <td>40.693108</td>\n",
       "      <td>-73.987343</td>\n",
       "      <td>40.693306</td>\n",
       "      <td>1</td>\n",
       "      <td>11.0</td>\n",
       "      <td>AS</td>\n",
       "      <td>AS</td>\n",
       "    </tr>\n",
       "  </tbody>\n",
       "</table>\n",
       "</div>"
      ],
      "text/plain": [
       "            id vendor_id     pickup_datetime    dropoff_datetime  \\\n",
       "757983  793284         1 2016-05-19 21:24:55 2016-05-19 22:04:15   \n",
       "905094  947306         2 2016-06-17 09:15:22 2016-06-17 09:15:33   \n",
       "\n",
       "        passenger_count  trip_distance  pickup_longitude  pickup_latitude  \\\n",
       "757983                9          18.70        -73.787331        40.641785   \n",
       "905094                9           0.01        -73.987236        40.693108   \n",
       "\n",
       "        dropoff_longitude  dropoff_latitude payment_type  trip_duration  \\\n",
       "757983         -73.950508         40.809975            1         2360.0   \n",
       "905094         -73.987343         40.693306            1           11.0   \n",
       "\n",
       "       pickup_neighborhood dropoff_neighborhood  \n",
       "757983                   G                   AL  \n",
       "905094                  AS                   AS  "
      ]
     },
     "execution_count": 18,
     "metadata": {},
     "output_type": "execute_result"
    }
   ],
   "source": [
    "trips[trips['passenger_count']>6]"
   ]
  },
  {
   "cell_type": "markdown",
   "metadata": {},
   "source": [
    "- We observe 2 outliers with 9 passengers per ride. Since we are predicting ride duration, we can clip these values without affecting our predictions."
   ]
  },
  {
   "cell_type": "code",
   "execution_count": 19,
   "metadata": {},
   "outputs": [],
   "source": [
    "trips['passenger_count']=trips['passenger_count'].clip(trips['passenger_count'].min(),6)"
   ]
  },
  {
   "cell_type": "code",
   "execution_count": 20,
   "metadata": {},
   "outputs": [
    {
     "data": {
      "image/png": "[encoded data removed]",
      "text/plain": [
       "<Figure size 432x288 with 1 Axes>"
      ]
     },
     "metadata": {
      "needs_background": "light"
     },
     "output_type": "display_data"
    }
   ],
   "source": [
    "sns.boxplot(trips['passenger_count'])\n",
    "plt.show()"
   ]
  },
  {
   "cell_type": "markdown",
   "metadata": {},
   "source": [
    "***"
   ]
  },
  {
   "cell_type": "markdown",
   "metadata": {},
   "source": [
    "#### Clipping the outliers of `trip_distance` to 50"
   ]
  },
  {
   "cell_type": "code",
   "execution_count": 21,
   "metadata": {},
   "outputs": [
    {
     "data": {
      "image/png": "[encoded data removed]",
      "text/plain": [
       "<Figure size 432x288 with 1 Axes>"
      ]
     },
     "metadata": {
      "needs_background": "light"
     },
     "output_type": "display_data"
    }
   ],
   "source": [
    "sns.boxplot(trips['trip_distance'])\n",
    "plt.show()"
   ]
  },
  {
   "cell_type": "markdown",
   "metadata": {},
   "source": [
    "- We observe an extreme outlier in the dataset, we drop it and investigate further"
   ]
  },
  {
   "cell_type": "code",
   "execution_count": 22,
   "metadata": {},
   "outputs": [
    {
     "data": {
      "text/html": [
       "<div>\n",
       "<style scoped>\n",
       "    .dataframe tbody tr th:only-of-type {\n",
       "        vertical-align: middle;\n",
       "    }\n",
       "\n",
       "    .dataframe tbody tr th {\n",
       "        vertical-align: top;\n",
       "    }\n",
       "\n",
       "    .dataframe thead th {\n",
       "        text-align: right;\n",
       "    }\n",
       "</style>\n",
       "<table border=\"1\" class=\"dataframe\">\n",
       "  <thead>\n",
       "    <tr style=\"text-align: right;\">\n",
       "      <th></th>\n",
       "      <th>id</th>\n",
       "      <th>vendor_id</th>\n",
       "      <th>pickup_datetime</th>\n",
       "      <th>dropoff_datetime</th>\n",
       "      <th>passenger_count</th>\n",
       "      <th>trip_distance</th>\n",
       "      <th>pickup_longitude</th>\n",
       "      <th>pickup_latitude</th>\n",
       "      <th>dropoff_longitude</th>\n",
       "      <th>dropoff_latitude</th>\n",
       "      <th>payment_type</th>\n",
       "      <th>trip_duration</th>\n",
       "      <th>pickup_neighborhood</th>\n",
       "      <th>dropoff_neighborhood</th>\n",
       "    </tr>\n",
       "  </thead>\n",
       "  <tbody>\n",
       "    <tr>\n",
       "      <th>171143</th>\n",
       "      <td>178815</td>\n",
       "      <td>1</td>\n",
       "      <td>2016-02-04 14:05:10</td>\n",
       "      <td>2016-02-04 14:56:37</td>\n",
       "      <td>1</td>\n",
       "      <td>156.2</td>\n",
       "      <td>-73.979149</td>\n",
       "      <td>40.765499</td>\n",
       "      <td>-73.782806</td>\n",
       "      <td>40.644009</td>\n",
       "      <td>1</td>\n",
       "      <td>3087.0</td>\n",
       "      <td>AR</td>\n",
       "      <td>G</td>\n",
       "    </tr>\n",
       "    <tr>\n",
       "      <th>248346</th>\n",
       "      <td>259490</td>\n",
       "      <td>1</td>\n",
       "      <td>2016-02-18 09:48:06</td>\n",
       "      <td>2016-02-18 09:50:27</td>\n",
       "      <td>1</td>\n",
       "      <td>501.4</td>\n",
       "      <td>-73.980087</td>\n",
       "      <td>40.782185</td>\n",
       "      <td>-73.981468</td>\n",
       "      <td>40.778519</td>\n",
       "      <td>2</td>\n",
       "      <td>141.0</td>\n",
       "      <td>I</td>\n",
       "      <td>AV</td>\n",
       "    </tr>\n",
       "    <tr>\n",
       "      <th>525084</th>\n",
       "      <td>548884</td>\n",
       "      <td>1</td>\n",
       "      <td>2016-04-07 21:19:03</td>\n",
       "      <td>2016-04-07 22:03:17</td>\n",
       "      <td>3</td>\n",
       "      <td>172.3</td>\n",
       "      <td>-73.783340</td>\n",
       "      <td>40.644176</td>\n",
       "      <td>-73.936028</td>\n",
       "      <td>40.737762</td>\n",
       "      <td>2</td>\n",
       "      <td>2654.0</td>\n",
       "      <td>G</td>\n",
       "      <td>AN</td>\n",
       "    </tr>\n",
       "    <tr>\n",
       "      <th>530340</th>\n",
       "      <td>554389</td>\n",
       "      <td>1</td>\n",
       "      <td>2016-04-08 19:19:32</td>\n",
       "      <td>2016-04-08 19:41:33</td>\n",
       "      <td>2</td>\n",
       "      <td>502.8</td>\n",
       "      <td>-73.995461</td>\n",
       "      <td>40.724884</td>\n",
       "      <td>-73.986099</td>\n",
       "      <td>40.762108</td>\n",
       "      <td>1</td>\n",
       "      <td>1321.0</td>\n",
       "      <td>X</td>\n",
       "      <td>AA</td>\n",
       "    </tr>\n",
       "    <tr>\n",
       "      <th>828650</th>\n",
       "      <td>867217</td>\n",
       "      <td>1</td>\n",
       "      <td>2016-06-02 21:30:17</td>\n",
       "      <td>2016-06-02 21:36:47</td>\n",
       "      <td>2</td>\n",
       "      <td>101.0</td>\n",
       "      <td>-73.961586</td>\n",
       "      <td>40.800968</td>\n",
       "      <td>-73.950165</td>\n",
       "      <td>40.802193</td>\n",
       "      <td>2</td>\n",
       "      <td>390.0</td>\n",
       "      <td>AH</td>\n",
       "      <td>J</td>\n",
       "    </tr>\n",
       "  </tbody>\n",
       "</table>\n",
       "</div>"
      ],
      "text/plain": [
       "            id vendor_id     pickup_datetime    dropoff_datetime  \\\n",
       "171143  178815         1 2016-02-04 14:05:10 2016-02-04 14:56:37   \n",
       "248346  259490         1 2016-02-18 09:48:06 2016-02-18 09:50:27   \n",
       "525084  548884         1 2016-04-07 21:19:03 2016-04-07 22:03:17   \n",
       "530340  554389         1 2016-04-08 19:19:32 2016-04-08 19:41:33   \n",
       "828650  867217         1 2016-06-02 21:30:17 2016-06-02 21:36:47   \n",
       "\n",
       "        passenger_count  trip_distance  pickup_longitude  pickup_latitude  \\\n",
       "171143                1          156.2        -73.979149        40.765499   \n",
       "248346                1          501.4        -73.980087        40.782185   \n",
       "525084                3          172.3        -73.783340        40.644176   \n",
       "530340                2          502.8        -73.995461        40.724884   \n",
       "828650                2          101.0        -73.961586        40.800968   \n",
       "\n",
       "        dropoff_longitude  dropoff_latitude payment_type  trip_duration  \\\n",
       "171143         -73.782806         40.644009            1         3087.0   \n",
       "248346         -73.981468         40.778519            2          141.0   \n",
       "525084         -73.936028         40.737762            2         2654.0   \n",
       "530340         -73.986099         40.762108            1         1321.0   \n",
       "828650         -73.950165         40.802193            2          390.0   \n",
       "\n",
       "       pickup_neighborhood dropoff_neighborhood  \n",
       "171143                  AR                    G  \n",
       "248346                   I                   AV  \n",
       "525084                   G                   AN  \n",
       "530340                   X                   AA  \n",
       "828650                  AH                    J  "
      ]
     },
     "execution_count": 22,
     "metadata": {},
     "output_type": "execute_result"
    }
   ],
   "source": [
    "trips[trips['trip_distance']>100]"
   ]
  },
  {
   "cell_type": "markdown",
   "metadata": {},
   "source": [
    "- We can observe that, there are 2 observations >500, and there is a huge gap in the `trip_duration` for them.\n",
    "- Covering 501.4 distance in 141 sec, is not possible, it is better we can clip these values to 50. "
   ]
  },
  {
   "cell_type": "code",
   "execution_count": 23,
   "metadata": {},
   "outputs": [],
   "source": [
    "trips['trip_distance']=trips['trip_distance'].clip(trips['trip_distance'].min(),50)"
   ]
  },
  {
   "cell_type": "code",
   "execution_count": 24,
   "metadata": {},
   "outputs": [
    {
     "data": {
      "image/png": "[encoded data removed]",
      "text/plain": [
       "<Figure size 432x288 with 1 Axes>"
      ]
     },
     "metadata": {
      "needs_background": "light"
     },
     "output_type": "display_data"
    }
   ],
   "source": [
    "sns.boxplot(trips['trip_distance'])\n",
    "plt.show()"
   ]
  },
  {
   "cell_type": "markdown",
   "metadata": {},
   "source": [
    "### Question 2.2 Plotting countplot for Passenger_count (1 Marks)"
   ]
  },
  {
   "cell_type": "code",
   "execution_count": 25,
   "metadata": {},
   "outputs": [
    {
     "data": {
      "image/png": "[encoded data removed]",
      "text/plain": [
       "<Figure size 1440x1440 with 1 Axes>"
      ]
     },
     "metadata": {
      "needs_background": "light"
     },
     "output_type": "display_data"
    }
   ],
   "source": [
    "import seaborn as sns\n",
    "plt.figure(figsize=(20,20))\n",
    "sns.countplot(trips.passenger_count)\n",
    "plt.show()"
   ]
  },
  {
   "cell_type": "code",
   "execution_count": 26,
   "metadata": {},
   "outputs": [
    {
     "data": {
      "text/plain": [
       "1    0.708863\n",
       "2    0.143620\n",
       "5    0.053524\n",
       "3    0.041210\n",
       "6    0.033414\n",
       "4    0.019357\n",
       "0    0.000011\n",
       "Name: passenger_count, dtype: float64"
      ]
     },
     "execution_count": 26,
     "metadata": {},
     "output_type": "execute_result"
    }
   ],
   "source": [
    "trips.passenger_count.value_counts(normalize=True)"
   ]
  },
  {
   "cell_type": "markdown",
   "metadata": {},
   "source": [
    "**Write your answers here:**\n",
    "- The plot above suggests most trips are for one passenger."
   ]
  },
  {
   "cell_type": "markdown",
   "metadata": {},
   "source": [
    "### Question 2.3 Plotting countplot for pickup_neighborhood and dropoff_neighborhood (2 Marks)"
   ]
  },
  {
   "cell_type": "code",
   "execution_count": 27,
   "metadata": {},
   "outputs": [
    {
     "data": {
      "text/plain": [
       "<AxesSubplot:>"
      ]
     },
     "execution_count": 27,
     "metadata": {},
     "output_type": "execute_result"
    },
    {
     "data": {
      "image/png": "[encoded data removed]",
      "text/plain": [
       "<Figure size 1440x720 with 1 Axes>"
      ]
     },
     "metadata": {
      "needs_background": "light"
     },
     "output_type": "display_data"
    }
   ],
   "source": [
    "trips.pickup_neighborhood.value_counts().sort_values(ascending=False).plot(kind='bar' ,figsize=(20,10))"
   ]
  },
  {
   "cell_type": "code",
   "execution_count": 28,
   "metadata": {},
   "outputs": [
    {
     "data": {
      "text/plain": [
       "<AxesSubplot:>"
      ]
     },
     "execution_count": 28,
     "metadata": {},
     "output_type": "execute_result"
    },
    {
     "data": {
      "image/png": "[encoded data removed]",
      "text/plain": [
       "<Figure size 1440x720 with 1 Axes>"
      ]
     },
     "metadata": {
      "needs_background": "light"
     },
     "output_type": "display_data"
    }
   ],
   "source": [
    "trips.dropoff_neighborhood.value_counts().sort_values(ascending=False).plot(kind='bar' ,figsize=(20,10))"
   ]
  },
  {
   "cell_type": "markdown",
   "metadata": {},
   "source": [
    "**Write your answers here:**\n",
    "- Most of the ``pickup_neighborhood`` and ``dropoff_neighborhood`` values are from area AD,A,AA and D; this may suggest these are are the most busy areas in the city. \n",
    "- Areas like AQ,AI and AE are some areas from where very few number of pickups and dropoff are happening. "
   ]
  },
  {
   "cell_type": "markdown",
   "metadata": {},
   "source": [
    "### Bivariate analysis"
   ]
  },
  {
   "cell_type": "markdown",
   "metadata": {},
   "source": [
    "#### Plot a scatter plot for trip distance and trip duration"
   ]
  },
  {
   "cell_type": "code",
   "execution_count": 29,
   "metadata": {},
   "outputs": [
    {
     "data": {
      "text/plain": [
       "<AxesSubplot:xlabel='trip_distance', ylabel='trip_duration'>"
      ]
     },
     "execution_count": 29,
     "metadata": {},
     "output_type": "execute_result"
    },
    {
     "data": {
      "image/png": "[encoded data removed]",
      "text/plain": [
       "<Figure size 432x288 with 1 Axes>"
      ]
     },
     "metadata": {
      "needs_background": "light"
     },
     "output_type": "display_data"
    }
   ],
   "source": [
    "sns.scatterplot(trips['trip_distance'],trips['trip_duration'])"
   ]
  },
  {
   "cell_type": "markdown",
   "metadata": {},
   "source": [
    "- There is some positive correlation between `trip_distance` and `trip_duration`. This is to be expected. However, note that the plot shows pretty much all possible combinations of `trip_duration` and `trip_distance`. At first glance this may suggest ther is not a strong correlation between the two variables; however, this behavior may be due to the fact that we are not taking traffic into account, if we did, the correlation may be clearer."
   ]
  },
  {
   "cell_type": "code",
   "execution_count": 30,
   "metadata": {},
   "outputs": [
    {
     "data": {
      "text/plain": [
       "<AxesSubplot:xlabel='passenger_count', ylabel='count'>"
      ]
     },
     "execution_count": 30,
     "metadata": {},
     "output_type": "execute_result"
    },
    {
     "data": {
      "image/png": "[encoded data removed]",
      "text/plain": [
       "<Figure size 432x288 with 1 Axes>"
      ]
     },
     "metadata": {
      "needs_background": "light"
     },
     "output_type": "display_data"
    }
   ],
   "source": [
    "sns.countplot(trips['passenger_count'],hue=trips['payment_type'])"
   ]
  },
  {
   "cell_type": "markdown",
   "metadata": {},
   "source": [
    "- Recall that the `payment_type` code is:\n",
    "  - 1= Credit card \n",
    "  - 2= Cash \n",
    "  - 3= No charge \n",
    "  - 4= Dispute \n",
    "  - 5= Unknown \n",
    "  - 6= Voided\n",
    "- The plot suggests that pretty much all trips are payed either in cash or card. \n",
    "- We expect to see close to no `payment_type` values with the codes 3,4,5 or 6 since they represent extremely rare situations."
   ]
  },
  {
   "cell_type": "markdown",
   "metadata": {},
   "source": [
    "### Step 2: Prepare the Data\n",
    "\n",
    "Lets create entities and relationships. The three entities in this data are \n",
    "* `trips` \n",
    "* `pickup_neighborhoods`\n",
    "* `dropoff_neighborhoods`\n",
    "\n",
    "This data has the following relationships\n",
    "* `pickup_neighborhoods` --> `trips` (one neighborhood can have multiple `trips` that start in it. This means `pickup_neighborhoods` is the ``parent_entity`` and `trips` is the child entity)\n",
    "* `dropoff_neighborhoods` --> `trips` (one neighborhood can have multiple `trips` that end in it. This means `dropoff_neighborhoods` is the ``parent_entity`` and `trips` is the child entity)\n",
    "\n",
    "In <a href=\"https://www.featuretools.com/\">featuretools (automated feature engineering software package)</a>, we specify the list of entities and relationships as follows: \n"
   ]
  },
  {
   "cell_type": "markdown",
   "metadata": {},
   "source": [
    "### Question 3: Define entities and relationships for the Deep Feature Synthesis (2 Marks)"
   ]
  },
  {
   "cell_type": "code",
   "execution_count": 31,
   "metadata": {
    "ExecuteTime": {
     "end_time": "2021-07-15T12:41:08.351728Z",
     "start_time": "2021-07-15T12:41:08.253155Z"
    }
   },
   "outputs": [],
   "source": [
    "entities = {\n",
    "            \"trips\": (trips, \"id\", 'pickup_datetime' ),\n",
    "            \"pickup_neighborhoods\": (pickup_neighborhoods, \"neighborhood_id\"),\n",
    "            \"dropoff_neighborhoods\": (dropoff_neighborhoods, \"neighborhood_id\"),\n",
    "            }\n",
    "\n",
    "relationships = [\n",
    "                (\"pickup_neighborhoods\", \"neighborhood_id\", \"trips\", \"pickup_neighborhood\"),\n",
    "                (\"dropoff_neighborhoods\", \"neighborhood_id\", \"trips\", \"dropoff_neighborhood\")\n",
    "                ]"
   ]
  },
  {
   "cell_type": "markdown",
   "metadata": {},
   "source": [
    "Next, we specify the `cutoff_time` for each instance of the target_entity, in this case ``trips``.This timestamp represents the last time data can be used for calculating features by DFS. In this scenario, that would be the pickup time because we would like to make the duration prediction using data before the trip starts. \n",
    "\n",
    "**For the purposes of the case study, we choose to only select trips that started after January 12th, 2016.**"
   ]
  },
  {
   "cell_type": "code",
   "execution_count": 32,
   "metadata": {
    "ExecuteTime": {
     "end_time": "2021-07-15T12:41:53.295477Z",
     "start_time": "2021-07-15T12:41:53.056658Z"
    }
   },
   "outputs": [
    {
     "data": {
      "text/html": [
       "<div>\n",
       "<style scoped>\n",
       "    .dataframe tbody tr th:only-of-type {\n",
       "        vertical-align: middle;\n",
       "    }\n",
       "\n",
       "    .dataframe tbody tr th {\n",
       "        vertical-align: top;\n",
       "    }\n",
       "\n",
       "    .dataframe thead th {\n",
       "        text-align: right;\n",
       "    }\n",
       "</style>\n",
       "<table border=\"1\" class=\"dataframe\">\n",
       "  <thead>\n",
       "    <tr style=\"text-align: right;\">\n",
       "      <th></th>\n",
       "      <th>id</th>\n",
       "      <th>pickup_datetime</th>\n",
       "    </tr>\n",
       "  </thead>\n",
       "  <tbody>\n",
       "    <tr>\n",
       "      <th>54031</th>\n",
       "      <td>56311</td>\n",
       "      <td>2016-01-12 00:00:25</td>\n",
       "    </tr>\n",
       "    <tr>\n",
       "      <th>667496</th>\n",
       "      <td>698305</td>\n",
       "      <td>2016-05-03 17:36:52</td>\n",
       "    </tr>\n",
       "    <tr>\n",
       "      <th>667497</th>\n",
       "      <td>698306</td>\n",
       "      <td>2016-05-03 17:36:56</td>\n",
       "    </tr>\n",
       "    <tr>\n",
       "      <th>667498</th>\n",
       "      <td>698307</td>\n",
       "      <td>2016-05-03 17:37:01</td>\n",
       "    </tr>\n",
       "    <tr>\n",
       "      <th>667499</th>\n",
       "      <td>698309</td>\n",
       "      <td>2016-05-03 17:37:11</td>\n",
       "    </tr>\n",
       "    <tr>\n",
       "      <th>667500</th>\n",
       "      <td>698310</td>\n",
       "      <td>2016-05-03 17:37:34</td>\n",
       "    </tr>\n",
       "    <tr>\n",
       "      <th>667501</th>\n",
       "      <td>698311</td>\n",
       "      <td>2016-05-03 17:37:45</td>\n",
       "    </tr>\n",
       "    <tr>\n",
       "      <th>667502</th>\n",
       "      <td>698312</td>\n",
       "      <td>2016-05-03 17:37:56</td>\n",
       "    </tr>\n",
       "    <tr>\n",
       "      <th>667503</th>\n",
       "      <td>698313</td>\n",
       "      <td>2016-05-03 17:38:03</td>\n",
       "    </tr>\n",
       "    <tr>\n",
       "      <th>667504</th>\n",
       "      <td>698314</td>\n",
       "      <td>2016-05-03 17:38:12</td>\n",
       "    </tr>\n",
       "  </tbody>\n",
       "</table>\n",
       "</div>"
      ],
      "text/plain": [
       "            id     pickup_datetime\n",
       "54031    56311 2016-01-12 00:00:25\n",
       "667496  698305 2016-05-03 17:36:52\n",
       "667497  698306 2016-05-03 17:36:56\n",
       "667498  698307 2016-05-03 17:37:01\n",
       "667499  698309 2016-05-03 17:37:11\n",
       "667500  698310 2016-05-03 17:37:34\n",
       "667501  698311 2016-05-03 17:37:45\n",
       "667502  698312 2016-05-03 17:37:56\n",
       "667503  698313 2016-05-03 17:38:03\n",
       "667504  698314 2016-05-03 17:38:12"
      ]
     },
     "execution_count": 32,
     "metadata": {},
     "output_type": "execute_result"
    }
   ],
   "source": [
    "cutoff_time = trips[['id', 'pickup_datetime']]\n",
    "cutoff_time = cutoff_time[cutoff_time['pickup_datetime'] > \"2016-01-12\"]\n",
    "preview(cutoff_time, 10)"
   ]
  },
  {
   "cell_type": "markdown",
   "metadata": {},
   "source": [
    "### Step 3: Create baseline features using Deep Feature Synthesis\n",
    "\n",
    "Instead of manually creating features, such as \"month of pickup datetime\", we can let DFS come up with them automatically. It does this by \n",
    "* interpreting the variable types of the columns e.g categorical, numeric and others \n",
    "* matching the columns to the primitives that can be applied to their variable types\n",
    "* creating features based on these matches"
   ]
  },
  {
   "cell_type": "markdown",
   "metadata": {},
   "source": [
    "**Create transform features using transform primitives**\n",
    "\n",
    "As we described in the video, features fall into two major categories, ``transform`` and ``aggregate``. In featuretools, we can create transform features by specifying ``transform`` primitives. Below we specify a ``transform`` primitive called ``weekend`` and here is what it does:\n",
    "\n",
    "* It can be applied to any ``datetime`` column in the data. \n",
    "* For each entry in the column, it assess if it is a ``weekend`` and returns a boolean. \n",
    "\n",
    "In this specific data, there are two ``datetime`` columns ``pickup_datetime`` and ``dropoff_datetime``. The tool automatically creates features using the primitive and these two columns as shown below. "
   ]
  },
  {
   "cell_type": "markdown",
   "metadata": {},
   "source": [
    "### Question 4: Creating a baseline model with only 1 transform primitive (10 Marks)\n",
    "\n",
    "**Question: 4.1 Define transform primitive for weekend and define features using dfs?** "
   ]
  },
  {
   "cell_type": "code",
   "execution_count": 33,
   "metadata": {
    "ExecuteTime": {
     "end_time": "2021-07-15T12:46:18.552030Z",
     "start_time": "2021-07-15T12:46:16.349739Z"
    }
   },
   "outputs": [],
   "source": [
    "trans_primitives = [IsWeekend]\n",
    "\n",
    "#Remove _________ and complete the code\n",
    "features = ft.dfs(entities=entities,\n",
    "                  relationships=relationships,\n",
    "                  target_entity=\"trips\",\n",
    "                  trans_primitives=trans_primitives,\n",
    "                  agg_primitives=[],\n",
    "                  ignore_variables={\"trips\": [\"pickup_latitude\", \"pickup_longitude\",\n",
    "                                              \"dropoff_latitude\", \"dropoff_longitude\"]},\n",
    "                  features_only=True)"
   ]
  },
  {
   "cell_type": "markdown",
   "metadata": {},
   "source": [
    "*If you're interested about parameters to DFS such as `ignore_variables`, you can learn more about these parameters [here](https://docs.featuretools.com/generated/featuretools.dfs.html#featuretools.dfs)*\n",
    "<p>Here are the features created.</p>"
   ]
  },
  {
   "cell_type": "code",
   "execution_count": 34,
   "metadata": {
    "ExecuteTime": {
     "end_time": "2021-07-15T12:46:24.799450Z",
     "start_time": "2021-07-15T12:46:24.699552Z"
    }
   },
   "outputs": [
    {
     "name": "stdout",
     "output_type": "stream",
     "text": [
      "Number of features: 13\n"
     ]
    },
    {
     "data": {
      "text/plain": [
       "[<Feature: vendor_id>,\n",
       " <Feature: passenger_count>,\n",
       " <Feature: trip_distance>,\n",
       " <Feature: payment_type>,\n",
       " <Feature: trip_duration>,\n",
       " <Feature: pickup_neighborhood>,\n",
       " <Feature: dropoff_neighborhood>,\n",
       " <Feature: IS_WEEKEND(dropoff_datetime)>,\n",
       " <Feature: IS_WEEKEND(pickup_datetime)>,\n",
       " <Feature: pickup_neighborhoods.latitude>,\n",
       " <Feature: pickup_neighborhoods.longitude>,\n",
       " <Feature: dropoff_neighborhoods.latitude>,\n",
       " <Feature: dropoff_neighborhoods.longitude>]"
      ]
     },
     "execution_count": 34,
     "metadata": {},
     "output_type": "execute_result"
    }
   ],
   "source": [
    "print (\"Number of features: %d\" % len(features))\n",
    "features"
   ]
  },
  {
   "cell_type": "markdown",
   "metadata": {},
   "source": [
    "\n",
    "Now let's compute the features. "
   ]
  },
  {
   "cell_type": "markdown",
   "metadata": {},
   "source": [
    "### Question: 4.2 Compute features and define feature matrix"
   ]
  },
  {
   "cell_type": "code",
   "execution_count": 35,
   "metadata": {
    "ExecuteTime": {
     "end_time": "2021-07-15T12:46:56.132642Z",
     "start_time": "2021-07-15T12:46:56.030342Z"
    }
   },
   "outputs": [],
   "source": [
    "def compute_features(features, cutoff_time):\n",
    "    # shuffle so we don't see encoded features in the front or backs\n",
    "\n",
    "    np.random.shuffle(features)\n",
    "    feature_matrix = ft.calculate_feature_matrix(features,\n",
    "                                                cutoff_time=cutoff_time,\n",
    "                                                approximate='36d',\n",
    "                                                verbose=True,entities=entities, relationships=relationships)\n",
    "    print(\"Finishing computing...\")\n",
    "    feature_matrix, features = ft.encode_features(feature_matrix, features,\n",
    "                                                  to_encode=[\"pickup_neighborhood\", \"dropoff_neighborhood\"],\n",
    "                                                  include_unknown=False)\n",
    "    return feature_matrix"
   ]
  },
  {
   "cell_type": "code",
   "execution_count": 36,
   "metadata": {},
   "outputs": [
    {
     "name": "stdout",
     "output_type": "stream",
     "text": [
      "Elapsed: 00:05 | Progress: 100%|██████████\n",
      "Finishing computing...\n"
     ]
    }
   ],
   "source": [
    "feature_matrix1 = compute_features(features, cutoff_time)"
   ]
  },
  {
   "cell_type": "code",
   "execution_count": 37,
   "metadata": {
    "ExecuteTime": {
     "end_time": "2021-07-15T12:47:21.290315Z",
     "start_time": "2021-07-15T12:47:20.995105Z"
    }
   },
   "outputs": [
    {
     "data": {
      "text/html": [
       "<div>\n",
       "<style scoped>\n",
       "    .dataframe tbody tr th:only-of-type {\n",
       "        vertical-align: middle;\n",
       "    }\n",
       "\n",
       "    .dataframe tbody tr th {\n",
       "        vertical-align: top;\n",
       "    }\n",
       "\n",
       "    .dataframe thead th {\n",
       "        text-align: right;\n",
       "    }\n",
       "</style>\n",
       "<table border=\"1\" class=\"dataframe\">\n",
       "  <thead>\n",
       "    <tr style=\"text-align: right;\">\n",
       "      <th>id</th>\n",
       "      <th>56311</th>\n",
       "      <th>698305</th>\n",
       "      <th>698306</th>\n",
       "      <th>698307</th>\n",
       "      <th>698309</th>\n",
       "    </tr>\n",
       "  </thead>\n",
       "  <tbody>\n",
       "    <tr>\n",
       "      <th>trip_duration</th>\n",
       "      <td>645.0</td>\n",
       "      <td>837.0</td>\n",
       "      <td>133.0</td>\n",
       "      <td>919.0</td>\n",
       "      <td>434.0</td>\n",
       "    </tr>\n",
       "    <tr>\n",
       "      <th>payment_type</th>\n",
       "      <td>1</td>\n",
       "      <td>1</td>\n",
       "      <td>2</td>\n",
       "      <td>2</td>\n",
       "      <td>1</td>\n",
       "    </tr>\n",
       "    <tr>\n",
       "      <th>passenger_count</th>\n",
       "      <td>1</td>\n",
       "      <td>1</td>\n",
       "      <td>1</td>\n",
       "      <td>1</td>\n",
       "      <td>1</td>\n",
       "    </tr>\n",
       "    <tr>\n",
       "      <th>pickup_neighborhood = AD</th>\n",
       "      <td>False</td>\n",
       "      <td>False</td>\n",
       "      <td>False</td>\n",
       "      <td>False</td>\n",
       "      <td>False</td>\n",
       "    </tr>\n",
       "    <tr>\n",
       "      <th>pickup_neighborhood = AA</th>\n",
       "      <td>False</td>\n",
       "      <td>True</td>\n",
       "      <td>True</td>\n",
       "      <td>False</td>\n",
       "      <td>False</td>\n",
       "    </tr>\n",
       "    <tr>\n",
       "      <th>pickup_neighborhood = D</th>\n",
       "      <td>False</td>\n",
       "      <td>False</td>\n",
       "      <td>False</td>\n",
       "      <td>False</td>\n",
       "      <td>False</td>\n",
       "    </tr>\n",
       "    <tr>\n",
       "      <th>pickup_neighborhood = A</th>\n",
       "      <td>False</td>\n",
       "      <td>False</td>\n",
       "      <td>False</td>\n",
       "      <td>False</td>\n",
       "      <td>False</td>\n",
       "    </tr>\n",
       "    <tr>\n",
       "      <th>pickup_neighborhood = AR</th>\n",
       "      <td>False</td>\n",
       "      <td>False</td>\n",
       "      <td>False</td>\n",
       "      <td>False</td>\n",
       "      <td>False</td>\n",
       "    </tr>\n",
       "    <tr>\n",
       "      <th>pickup_neighborhood = AK</th>\n",
       "      <td>False</td>\n",
       "      <td>False</td>\n",
       "      <td>False</td>\n",
       "      <td>False</td>\n",
       "      <td>False</td>\n",
       "    </tr>\n",
       "    <tr>\n",
       "      <th>pickup_neighborhood = AO</th>\n",
       "      <td>False</td>\n",
       "      <td>False</td>\n",
       "      <td>False</td>\n",
       "      <td>False</td>\n",
       "      <td>False</td>\n",
       "    </tr>\n",
       "    <tr>\n",
       "      <th>pickup_neighborhood = N</th>\n",
       "      <td>False</td>\n",
       "      <td>False</td>\n",
       "      <td>False</td>\n",
       "      <td>False</td>\n",
       "      <td>False</td>\n",
       "    </tr>\n",
       "    <tr>\n",
       "      <th>pickup_neighborhood = O</th>\n",
       "      <td>False</td>\n",
       "      <td>False</td>\n",
       "      <td>False</td>\n",
       "      <td>False</td>\n",
       "      <td>False</td>\n",
       "    </tr>\n",
       "    <tr>\n",
       "      <th>pickup_neighborhood = R</th>\n",
       "      <td>False</td>\n",
       "      <td>False</td>\n",
       "      <td>False</td>\n",
       "      <td>False</td>\n",
       "      <td>False</td>\n",
       "    </tr>\n",
       "    <tr>\n",
       "      <th>trip_distance</th>\n",
       "      <td>1.61</td>\n",
       "      <td>1.29</td>\n",
       "      <td>0.4</td>\n",
       "      <td>1.8</td>\n",
       "      <td>1.3</td>\n",
       "    </tr>\n",
       "    <tr>\n",
       "      <th>IS_WEEKEND(dropoff_datetime)</th>\n",
       "      <td>False</td>\n",
       "      <td>False</td>\n",
       "      <td>False</td>\n",
       "      <td>False</td>\n",
       "      <td>False</td>\n",
       "    </tr>\n",
       "    <tr>\n",
       "      <th>dropoff_neighborhoods.latitude</th>\n",
       "      <td>40.721435</td>\n",
       "      <td>40.742531</td>\n",
       "      <td>40.766488</td>\n",
       "      <td>40.77627</td>\n",
       "      <td>40.756598</td>\n",
       "    </tr>\n",
       "    <tr>\n",
       "      <th>IS_WEEKEND(pickup_datetime)</th>\n",
       "      <td>False</td>\n",
       "      <td>False</td>\n",
       "      <td>False</td>\n",
       "      <td>False</td>\n",
       "      <td>False</td>\n",
       "    </tr>\n",
       "    <tr>\n",
       "      <th>pickup_neighborhoods.longitude</th>\n",
       "      <td>-73.987205</td>\n",
       "      <td>-73.986446</td>\n",
       "      <td>-73.986446</td>\n",
       "      <td>-73.956886</td>\n",
       "      <td>-73.956886</td>\n",
       "    </tr>\n",
       "    <tr>\n",
       "      <th>pickup_neighborhoods.latitude</th>\n",
       "      <td>40.720245</td>\n",
       "      <td>40.757707</td>\n",
       "      <td>40.757707</td>\n",
       "      <td>40.766809</td>\n",
       "      <td>40.766809</td>\n",
       "    </tr>\n",
       "    <tr>\n",
       "      <th>dropoff_neighborhoods.longitude</th>\n",
       "      <td>-73.998366</td>\n",
       "      <td>-73.977943</td>\n",
       "      <td>-73.983998</td>\n",
       "      <td>-73.982322</td>\n",
       "      <td>-73.968312</td>\n",
       "    </tr>\n",
       "    <tr>\n",
       "      <th>vendor_id</th>\n",
       "      <td>2</td>\n",
       "      <td>2</td>\n",
       "      <td>1</td>\n",
       "      <td>1</td>\n",
       "      <td>1</td>\n",
       "    </tr>\n",
       "    <tr>\n",
       "      <th>dropoff_neighborhood = AD</th>\n",
       "      <td>False</td>\n",
       "      <td>False</td>\n",
       "      <td>False</td>\n",
       "      <td>False</td>\n",
       "      <td>False</td>\n",
       "    </tr>\n",
       "    <tr>\n",
       "      <th>dropoff_neighborhood = A</th>\n",
       "      <td>False</td>\n",
       "      <td>False</td>\n",
       "      <td>False</td>\n",
       "      <td>False</td>\n",
       "      <td>False</td>\n",
       "    </tr>\n",
       "    <tr>\n",
       "      <th>dropoff_neighborhood = AA</th>\n",
       "      <td>False</td>\n",
       "      <td>False</td>\n",
       "      <td>False</td>\n",
       "      <td>False</td>\n",
       "      <td>False</td>\n",
       "    </tr>\n",
       "    <tr>\n",
       "      <th>dropoff_neighborhood = D</th>\n",
       "      <td>False</td>\n",
       "      <td>False</td>\n",
       "      <td>False</td>\n",
       "      <td>False</td>\n",
       "      <td>False</td>\n",
       "    </tr>\n",
       "    <tr>\n",
       "      <th>dropoff_neighborhood = AR</th>\n",
       "      <td>False</td>\n",
       "      <td>False</td>\n",
       "      <td>True</td>\n",
       "      <td>False</td>\n",
       "      <td>False</td>\n",
       "    </tr>\n",
       "    <tr>\n",
       "      <th>dropoff_neighborhood = C</th>\n",
       "      <td>False</td>\n",
       "      <td>False</td>\n",
       "      <td>False</td>\n",
       "      <td>False</td>\n",
       "      <td>False</td>\n",
       "    </tr>\n",
       "    <tr>\n",
       "      <th>dropoff_neighborhood = O</th>\n",
       "      <td>False</td>\n",
       "      <td>False</td>\n",
       "      <td>False</td>\n",
       "      <td>False</td>\n",
       "      <td>False</td>\n",
       "    </tr>\n",
       "    <tr>\n",
       "      <th>dropoff_neighborhood = N</th>\n",
       "      <td>False</td>\n",
       "      <td>False</td>\n",
       "      <td>False</td>\n",
       "      <td>False</td>\n",
       "      <td>True</td>\n",
       "    </tr>\n",
       "    <tr>\n",
       "      <th>dropoff_neighborhood = AK</th>\n",
       "      <td>False</td>\n",
       "      <td>False</td>\n",
       "      <td>False</td>\n",
       "      <td>False</td>\n",
       "      <td>False</td>\n",
       "    </tr>\n",
       "    <tr>\n",
       "      <th>dropoff_neighborhood = AO</th>\n",
       "      <td>False</td>\n",
       "      <td>False</td>\n",
       "      <td>False</td>\n",
       "      <td>False</td>\n",
       "      <td>False</td>\n",
       "    </tr>\n",
       "  </tbody>\n",
       "</table>\n",
       "</div>"
      ],
      "text/plain": [
       "id                                  56311      698305     698306     698307  \\\n",
       "trip_duration                        645.0      837.0      133.0      919.0   \n",
       "payment_type                             1          1          2          2   \n",
       "passenger_count                          1          1          1          1   \n",
       "pickup_neighborhood = AD             False      False      False      False   \n",
       "pickup_neighborhood = AA             False       True       True      False   \n",
       "pickup_neighborhood = D              False      False      False      False   \n",
       "pickup_neighborhood = A              False      False      False      False   \n",
       "pickup_neighborhood = AR             False      False      False      False   \n",
       "pickup_neighborhood = AK             False      False      False      False   \n",
       "pickup_neighborhood = AO             False      False      False      False   \n",
       "pickup_neighborhood = N              False      False      False      False   \n",
       "pickup_neighborhood = O              False      False      False      False   \n",
       "pickup_neighborhood = R              False      False      False      False   \n",
       "trip_distance                         1.61       1.29        0.4        1.8   \n",
       "IS_WEEKEND(dropoff_datetime)         False      False      False      False   \n",
       "dropoff_neighborhoods.latitude   40.721435  40.742531  40.766488   40.77627   \n",
       "IS_WEEKEND(pickup_datetime)          False      False      False      False   \n",
       "pickup_neighborhoods.longitude  -73.987205 -73.986446 -73.986446 -73.956886   \n",
       "pickup_neighborhoods.latitude    40.720245  40.757707  40.757707  40.766809   \n",
       "dropoff_neighborhoods.longitude -73.998366 -73.977943 -73.983998 -73.982322   \n",
       "vendor_id                                2          2          1          1   \n",
       "dropoff_neighborhood = AD            False      False      False      False   \n",
       "dropoff_neighborhood = A             False      False      False      False   \n",
       "dropoff_neighborhood = AA            False      False      False      False   \n",
       "dropoff_neighborhood = D             False      False      False      False   \n",
       "dropoff_neighborhood = AR            False      False       True      False   \n",
       "dropoff_neighborhood = C             False      False      False      False   \n",
       "dropoff_neighborhood = O             False      False      False      False   \n",
       "dropoff_neighborhood = N             False      False      False      False   \n",
       "dropoff_neighborhood = AK            False      False      False      False   \n",
       "dropoff_neighborhood = AO            False      False      False      False   \n",
       "\n",
       "id                                  698309  \n",
       "trip_duration                        434.0  \n",
       "payment_type                             1  \n",
       "passenger_count                          1  \n",
       "pickup_neighborhood = AD             False  \n",
       "pickup_neighborhood = AA             False  \n",
       "pickup_neighborhood = D              False  \n",
       "pickup_neighborhood = A              False  \n",
       "pickup_neighborhood = AR             False  \n",
       "pickup_neighborhood = AK             False  \n",
       "pickup_neighborhood = AO             False  \n",
       "pickup_neighborhood = N              False  \n",
       "pickup_neighborhood = O              False  \n",
       "pickup_neighborhood = R              False  \n",
       "trip_distance                          1.3  \n",
       "IS_WEEKEND(dropoff_datetime)         False  \n",
       "dropoff_neighborhoods.latitude   40.756598  \n",
       "IS_WEEKEND(pickup_datetime)          False  \n",
       "pickup_neighborhoods.longitude  -73.956886  \n",
       "pickup_neighborhoods.latitude    40.766809  \n",
       "dropoff_neighborhoods.longitude -73.968312  \n",
       "vendor_id                                1  \n",
       "dropoff_neighborhood = AD            False  \n",
       "dropoff_neighborhood = A             False  \n",
       "dropoff_neighborhood = AA            False  \n",
       "dropoff_neighborhood = D             False  \n",
       "dropoff_neighborhood = AR            False  \n",
       "dropoff_neighborhood = C             False  \n",
       "dropoff_neighborhood = O             False  \n",
       "dropoff_neighborhood = N              True  \n",
       "dropoff_neighborhood = AK            False  \n",
       "dropoff_neighborhood = AO            False  "
      ]
     },
     "execution_count": 37,
     "metadata": {},
     "output_type": "execute_result"
    }
   ],
   "source": [
    "preview(feature_matrix1, 5).T"
   ]
  },
  {
   "cell_type": "code",
   "execution_count": 38,
   "metadata": {},
   "outputs": [
    {
     "data": {
      "text/plain": [
       "(916765, 31)"
      ]
     },
     "execution_count": 38,
     "metadata": {},
     "output_type": "execute_result"
    }
   ],
   "source": [
    "feature_matrix1.shape"
   ]
  },
  {
   "cell_type": "markdown",
   "metadata": {},
   "source": [
    "### Build the Model\n",
    "\n",
    "To build a model, we\n",
    "* Separate the data into a portion for ``training`` (75% in this case) and a portion for ``testing`` \n",
    "* Get the log of the trip duration so that a more linear relationship can be found.\n",
    "* Train a model using a `Linear Regression, Decision Tree `and` Random Forest model`"
   ]
  },
  {
   "cell_type": "markdown",
   "metadata": {},
   "source": [
    "#### Transforming the duration variable on sqrt and log"
   ]
  },
  {
   "cell_type": "code",
   "execution_count": 39,
   "metadata": {},
   "outputs": [
    {
     "data": {
      "text/plain": [
       "(array([  1961.,  35086., 163693., 249450., 225270., 149512.,  80443.,\n",
       "         38469.,  18048.,   8652.]),\n",
       " array([ 1.        ,  6.90499792, 12.80999584, 18.71499376, 24.61999167,\n",
       "        30.52498959, 36.42998751, 42.33498543, 48.23998335, 54.14498127,\n",
       "        60.04997918]),\n",
       " <BarContainer object of 10 artists>)"
      ]
     },
     "execution_count": 39,
     "metadata": {},
     "output_type": "execute_result"
    },
    {
     "data": {
      "image/png": "[encoded data removed]",
      "text/plain": [
       "<Figure size 432x288 with 1 Axes>"
      ]
     },
     "metadata": {
      "needs_background": "light"
     },
     "output_type": "display_data"
    }
   ],
   "source": [
    "plt.hist(np.sqrt(trips['trip_duration']))"
   ]
  },
  {
   "cell_type": "code",
   "execution_count": 40,
   "metadata": {},
   "outputs": [
    {
     "data": {
      "text/plain": [
       "(array([8.00000e+01, 1.69000e+02, 2.06000e+02, 5.15000e+02, 2.06000e+03,\n",
       "        1.95530e+04, 1.35559e+05, 3.69553e+05, 3.50708e+05, 9.21810e+04]),\n",
       " array([0.        , 0.81903544, 1.63807088, 2.45710632, 3.27614176,\n",
       "        4.0951772 , 4.91421264, 5.73324808, 6.55228352, 7.37131896,\n",
       "        8.1903544 ]),\n",
       " <BarContainer object of 10 artists>)"
      ]
     },
     "execution_count": 40,
     "metadata": {},
     "output_type": "execute_result"
    },
    {
     "data": {
      "image/png": "[encoded data removed]",
      "text/plain": [
       "<Figure size 432x288 with 1 Axes>"
      ]
     },
     "metadata": {
      "needs_background": "light"
     },
     "output_type": "display_data"
    }
   ],
   "source": [
    "plt.hist(np.log(trips['trip_duration']))"
   ]
  },
  {
   "cell_type": "markdown",
   "metadata": {},
   "source": [
    "- We can clearly see that the sqrt transformation is giving nearly normal distribution, there for we can choose the sqrt transformation on the dependent(`trip_duration`) variable."
   ]
  },
  {
   "cell_type": "markdown",
   "metadata": {},
   "source": [
    "### Splitting the data into train and test"
   ]
  },
  {
   "cell_type": "code",
   "execution_count": 41,
   "metadata": {
    "ExecuteTime": {
     "end_time": "2021-07-15T12:47:30.919229Z",
     "start_time": "2021-07-15T12:47:24.754592Z"
    }
   },
   "outputs": [],
   "source": [
    "# separates the whole feature matrix into train data feature matrix, \n",
    "# train data labels, and test data feature matrix \n",
    "X_train, y_train, X_test, y_test = get_train_test_fm(feature_matrix1,.75)\n",
    "y_train = np.sqrt(y_train)\n",
    "y_test = np.sqrt(y_test)"
   ]
  },
  {
   "cell_type": "markdown",
   "metadata": {},
   "source": [
    "### Defining function for to check the performance of the model. "
   ]
  },
  {
   "cell_type": "code",
   "execution_count": 42,
   "metadata": {},
   "outputs": [],
   "source": [
    "#RMSE\n",
    "def rmse(predictions, targets):\n",
    "    return np.sqrt(((targets - predictions) ** 2).mean())\n",
    "\n",
    "# MAE\n",
    "def mae(predictions, targets):\n",
    "    return np.mean(np.abs((targets - predictions)))\n",
    "\n",
    "\n",
    "# Model Performance on test and train data\n",
    "def model_pref(model, x_train, x_test, y_train,y_test, naming):\n",
    "\n",
    "    # Insample Prediction\n",
    "    y_pred_train = model.predict(x_train)\n",
    "    y_observed_train = y_train\n",
    "\n",
    "    # Prediction on test data\n",
    "    y_pred_test = model.predict(x_test)\n",
    "    y_observed_test = y_test\n",
    "\n",
    "    performanceTable = pd.DataFrame(\n",
    "                                    {\n",
    "                                      naming: [\"Train\", \"Test\"],\n",
    "                                      'RSquared':\n",
    "                                          [round(r2_score(y_observed_train,y_pred_train),3),\n",
    "                                          round(r2_score(y_observed_test,y_pred_test),3)\n",
    "                                          ],\n",
    "                                      \"RMSE\": [\n",
    "                                          round(rmse(y_pred_train, y_observed_train),3),\n",
    "                                          round(rmse(y_pred_test, y_observed_test),3),\n",
    "                                      ],\n",
    "                                      \"MAE\": [\n",
    "                                          round(mae(y_pred_train, y_observed_train),3),\n",
    "                                          round(mae(y_pred_test, y_observed_test),3),\n",
    "                                      ],\n",
    "                                    }\n",
    "                                  )\n",
    "    performanceTable.name = naming\n",
    "    return(performanceTable);"
   ]
  },
  {
   "cell_type": "markdown",
   "metadata": {},
   "source": [
    "#### Question 4.3 Build Linear regression using only weekend transform primitive"
   ]
  },
  {
   "cell_type": "code",
   "execution_count": 43,
   "metadata": {},
   "outputs": [
    {
     "data": {
      "text/plain": [
       "LinearRegression()"
      ]
     },
     "execution_count": 43,
     "metadata": {},
     "output_type": "execute_result"
    }
   ],
   "source": [
    "#defining the model\n",
    "\n",
    "lr1=LinearRegression()\n",
    "\n",
    "#fitting the model\n",
    "lr1.fit(X_train,y_train)\n"
   ]
  },
  {
   "cell_type": "markdown",
   "metadata": {},
   "source": [
    "#### Check the performance of the model"
   ]
  },
  {
   "cell_type": "code",
   "execution_count": 44,
   "metadata": {},
   "outputs": [
    {
     "data": {
      "text/html": [
       "<div>\n",
       "<style scoped>\n",
       "    .dataframe tbody tr th:only-of-type {\n",
       "        vertical-align: middle;\n",
       "    }\n",
       "\n",
       "    .dataframe tbody tr th {\n",
       "        vertical-align: top;\n",
       "    }\n",
       "\n",
       "    .dataframe thead th {\n",
       "        text-align: right;\n",
       "    }\n",
       "</style>\n",
       "<table border=\"1\" class=\"dataframe\">\n",
       "  <thead>\n",
       "    <tr style=\"text-align: right;\">\n",
       "      <th></th>\n",
       "      <th>lr1</th>\n",
       "      <th>RSquared</th>\n",
       "      <th>RMSE</th>\n",
       "      <th>MAE</th>\n",
       "    </tr>\n",
       "  </thead>\n",
       "  <tbody>\n",
       "    <tr>\n",
       "      <th>0</th>\n",
       "      <td>Train</td>\n",
       "      <td>0.580</td>\n",
       "      <td>6.060</td>\n",
       "      <td>4.702</td>\n",
       "    </tr>\n",
       "    <tr>\n",
       "      <th>1</th>\n",
       "      <td>Test</td>\n",
       "      <td>0.559</td>\n",
       "      <td>6.481</td>\n",
       "      <td>4.984</td>\n",
       "    </tr>\n",
       "  </tbody>\n",
       "</table>\n",
       "</div>"
      ],
      "text/plain": [
       "     lr1  RSquared   RMSE    MAE\n",
       "0  Train     0.580  6.060  4.702\n",
       "1   Test     0.559  6.481  4.984"
      ]
     },
     "execution_count": 44,
     "metadata": {},
     "output_type": "execute_result"
    }
   ],
   "source": [
    "lr1Performance = model_pref(lr1, X_train, X_test,y_train,y_test,'lr1')\n",
    "\n",
    "lr1Performance"
   ]
  },
  {
   "cell_type": "markdown",
   "metadata": {},
   "source": [
    "**Write your answers here:**\n",
    "- Model is giving only `~0.56` $\\mathrm{R}^2$, with RMSE of `~6.48` and MAE of `~4.98`.\n",
    "- Model is slightly overfitting."
   ]
  },
  {
   "cell_type": "markdown",
   "metadata": {},
   "source": [
    "#### Question 4.4 Building decision tree using only weekend transform primitive"
   ]
  },
  {
   "cell_type": "code",
   "execution_count": 45,
   "metadata": {},
   "outputs": [
    {
     "data": {
      "text/plain": [
       "DecisionTreeRegressor()"
      ]
     },
     "execution_count": 45,
     "metadata": {},
     "output_type": "execute_result"
    }
   ],
   "source": [
    "#define the model\n",
    "dt=DecisionTreeRegressor()\n",
    "\n",
    "#fit the model\n",
    "\n",
    "dt.fit(X_train,y_train)"
   ]
  },
  {
   "cell_type": "markdown",
   "metadata": {},
   "source": [
    "#### Check the performance of the model"
   ]
  },
  {
   "cell_type": "code",
   "execution_count": 46,
   "metadata": {},
   "outputs": [
    {
     "data": {
      "text/html": [
       "<div>\n",
       "<style scoped>\n",
       "    .dataframe tbody tr th:only-of-type {\n",
       "        vertical-align: middle;\n",
       "    }\n",
       "\n",
       "    .dataframe tbody tr th {\n",
       "        vertical-align: top;\n",
       "    }\n",
       "\n",
       "    .dataframe thead th {\n",
       "        text-align: right;\n",
       "    }\n",
       "</style>\n",
       "<table border=\"1\" class=\"dataframe\">\n",
       "  <thead>\n",
       "    <tr style=\"text-align: right;\">\n",
       "      <th></th>\n",
       "      <th>dt1</th>\n",
       "      <th>RSquared</th>\n",
       "      <th>RMSE</th>\n",
       "      <th>MAE</th>\n",
       "    </tr>\n",
       "  </thead>\n",
       "  <tbody>\n",
       "    <tr>\n",
       "      <th>0</th>\n",
       "      <td>Train</td>\n",
       "      <td>0.916</td>\n",
       "      <td>2.707</td>\n",
       "      <td>1.515</td>\n",
       "    </tr>\n",
       "    <tr>\n",
       "      <th>1</th>\n",
       "      <td>Test</td>\n",
       "      <td>0.592</td>\n",
       "      <td>6.238</td>\n",
       "      <td>4.639</td>\n",
       "    </tr>\n",
       "  </tbody>\n",
       "</table>\n",
       "</div>"
      ],
      "text/plain": [
       "     dt1  RSquared   RMSE    MAE\n",
       "0  Train     0.916  2.707  1.515\n",
       "1   Test     0.592  6.238  4.639"
      ]
     },
     "metadata": {},
     "output_type": "display_data"
    }
   ],
   "source": [
    "dt1Performance = model_pref(dt, X_train, X_test,y_train,y_test,'dt1')\n",
    "\n",
    "display(dt1Performance)"
   ]
  },
  {
   "cell_type": "markdown",
   "metadata": {},
   "source": [
    "**Write your answers here:**\n",
    "- The model is overfitting a lot, with train $\\mathrm{R}^2$ of `~0.92` while test $\\mathrm{R}^2$ is `~0.59`\n",
    "- This generally happens in decision trees, one solution for this is to Prune the decision tree, let's try pruning and see if the performance improves. \n"
   ]
  },
  {
   "cell_type": "markdown",
   "metadata": {},
   "source": [
    "#### Question 4.5 Building Pruned decision tree using only weekend transform primitive"
   ]
  },
  {
   "cell_type": "code",
   "execution_count": 47,
   "metadata": {},
   "outputs": [
    {
     "data": {
      "text/plain": [
       "DecisionTreeRegressor(max_depth=7)"
      ]
     },
     "execution_count": 47,
     "metadata": {},
     "output_type": "execute_result"
    }
   ],
   "source": [
    "#define the model\n",
    "\n",
    "#use max_depth=7\n",
    "dt_pruned=DecisionTreeRegressor(max_depth=7)\n",
    "\n",
    "#fit the model\n",
    "dt_pruned.fit(X_train,y_train)"
   ]
  },
  {
   "cell_type": "markdown",
   "metadata": {},
   "source": [
    "#### Check the performance of the model"
   ]
  },
  {
   "cell_type": "code",
   "execution_count": 48,
   "metadata": {},
   "outputs": [
    {
     "data": {
      "text/html": [
       "<div>\n",
       "<style scoped>\n",
       "    .dataframe tbody tr th:only-of-type {\n",
       "        vertical-align: middle;\n",
       "    }\n",
       "\n",
       "    .dataframe tbody tr th {\n",
       "        vertical-align: top;\n",
       "    }\n",
       "\n",
       "    .dataframe thead th {\n",
       "        text-align: right;\n",
       "    }\n",
       "</style>\n",
       "<table border=\"1\" class=\"dataframe\">\n",
       "  <thead>\n",
       "    <tr style=\"text-align: right;\">\n",
       "      <th></th>\n",
       "      <th>lr1</th>\n",
       "      <th>RSquared</th>\n",
       "      <th>RMSE</th>\n",
       "      <th>MAE</th>\n",
       "    </tr>\n",
       "  </thead>\n",
       "  <tbody>\n",
       "    <tr>\n",
       "      <th>0</th>\n",
       "      <td>Train</td>\n",
       "      <td>0.580</td>\n",
       "      <td>6.060</td>\n",
       "      <td>4.702</td>\n",
       "    </tr>\n",
       "    <tr>\n",
       "      <th>1</th>\n",
       "      <td>Test</td>\n",
       "      <td>0.559</td>\n",
       "      <td>6.481</td>\n",
       "      <td>4.984</td>\n",
       "    </tr>\n",
       "  </tbody>\n",
       "</table>\n",
       "</div>"
      ],
      "text/plain": [
       "     lr1  RSquared   RMSE    MAE\n",
       "0  Train     0.580  6.060  4.702\n",
       "1   Test     0.559  6.481  4.984"
      ]
     },
     "metadata": {},
     "output_type": "display_data"
    },
    {
     "data": {
      "text/html": [
       "<div>\n",
       "<style scoped>\n",
       "    .dataframe tbody tr th:only-of-type {\n",
       "        vertical-align: middle;\n",
       "    }\n",
       "\n",
       "    .dataframe tbody tr th {\n",
       "        vertical-align: top;\n",
       "    }\n",
       "\n",
       "    .dataframe thead th {\n",
       "        text-align: right;\n",
       "    }\n",
       "</style>\n",
       "<table border=\"1\" class=\"dataframe\">\n",
       "  <thead>\n",
       "    <tr style=\"text-align: right;\">\n",
       "      <th></th>\n",
       "      <th>dt1</th>\n",
       "      <th>RSquared</th>\n",
       "      <th>RMSE</th>\n",
       "      <th>MAE</th>\n",
       "    </tr>\n",
       "  </thead>\n",
       "  <tbody>\n",
       "    <tr>\n",
       "      <th>0</th>\n",
       "      <td>Train</td>\n",
       "      <td>0.916</td>\n",
       "      <td>2.707</td>\n",
       "      <td>1.515</td>\n",
       "    </tr>\n",
       "    <tr>\n",
       "      <th>1</th>\n",
       "      <td>Test</td>\n",
       "      <td>0.592</td>\n",
       "      <td>6.238</td>\n",
       "      <td>4.639</td>\n",
       "    </tr>\n",
       "  </tbody>\n",
       "</table>\n",
       "</div>"
      ],
      "text/plain": [
       "     dt1  RSquared   RMSE    MAE\n",
       "0  Train     0.916  2.707  1.515\n",
       "1   Test     0.592  6.238  4.639"
      ]
     },
     "metadata": {},
     "output_type": "display_data"
    },
    {
     "data": {
      "text/html": [
       "<div>\n",
       "<style scoped>\n",
       "    .dataframe tbody tr th:only-of-type {\n",
       "        vertical-align: middle;\n",
       "    }\n",
       "\n",
       "    .dataframe tbody tr th {\n",
       "        vertical-align: top;\n",
       "    }\n",
       "\n",
       "    .dataframe thead th {\n",
       "        text-align: right;\n",
       "    }\n",
       "</style>\n",
       "<table border=\"1\" class=\"dataframe\">\n",
       "  <thead>\n",
       "    <tr style=\"text-align: right;\">\n",
       "      <th></th>\n",
       "      <th>dt1_p</th>\n",
       "      <th>RSquared</th>\n",
       "      <th>RMSE</th>\n",
       "      <th>MAE</th>\n",
       "    </tr>\n",
       "  </thead>\n",
       "  <tbody>\n",
       "    <tr>\n",
       "      <th>0</th>\n",
       "      <td>Train</td>\n",
       "      <td>0.735</td>\n",
       "      <td>4.811</td>\n",
       "      <td>3.673</td>\n",
       "    </tr>\n",
       "    <tr>\n",
       "      <th>1</th>\n",
       "      <td>Test</td>\n",
       "      <td>0.705</td>\n",
       "      <td>5.303</td>\n",
       "      <td>4.015</td>\n",
       "    </tr>\n",
       "  </tbody>\n",
       "</table>\n",
       "</div>"
      ],
      "text/plain": [
       "   dt1_p  RSquared   RMSE    MAE\n",
       "0  Train     0.735  4.811  3.673\n",
       "1   Test     0.705  5.303  4.015"
      ]
     },
     "metadata": {},
     "output_type": "display_data"
    }
   ],
   "source": [
    "dt1_pPerformance = model_pref(dt_pruned, X_train, X_test,y_train,y_test, 'dt1_p')\n",
    "\n",
    "display(lr1Performance, dt1Performance, dt1_pPerformance)"
   ]
  },
  {
   "cell_type": "markdown",
   "metadata": {},
   "source": [
    "**Write your answers here:**\n",
    "- The pruned model is performing better than both baseline decision tree(`dt1`) and linear regression(`lr1`), with $\\mathrm{R}^2$ of `~0.70`.\n"
   ]
  },
  {
   "cell_type": "markdown",
   "metadata": {},
   "source": [
    "#### Question 4.6 Building Random Forest using only weekend transform primitive"
   ]
  },
  {
   "cell_type": "code",
   "execution_count": 49,
   "metadata": {},
   "outputs": [],
   "source": [
    "#define the model\n",
    "\n",
    "#using (n_estimators=60,max_depth=7)\n",
    "\n",
    "rf=RandomForestRegressor(n_estimators=60,max_depth=7)"
   ]
  },
  {
   "cell_type": "code",
   "execution_count": 50,
   "metadata": {},
   "outputs": [
    {
     "data": {
      "text/plain": [
       "RandomForestRegressor(max_depth=7, n_estimators=60)"
      ]
     },
     "execution_count": 50,
     "metadata": {},
     "output_type": "execute_result"
    }
   ],
   "source": [
    "#fit the model\n",
    "\n",
    "rf.fit(X_train,y_train)"
   ]
  },
  {
   "cell_type": "markdown",
   "metadata": {},
   "source": [
    "#### Check the performance of the model"
   ]
  },
  {
   "cell_type": "code",
   "execution_count": 51,
   "metadata": {
    "scrolled": true
   },
   "outputs": [
    {
     "data": {
      "text/html": [
       "<div>\n",
       "<style scoped>\n",
       "    .dataframe tbody tr th:only-of-type {\n",
       "        vertical-align: middle;\n",
       "    }\n",
       "\n",
       "    .dataframe tbody tr th {\n",
       "        vertical-align: top;\n",
       "    }\n",
       "\n",
       "    .dataframe thead th {\n",
       "        text-align: right;\n",
       "    }\n",
       "</style>\n",
       "<table border=\"1\" class=\"dataframe\">\n",
       "  <thead>\n",
       "    <tr style=\"text-align: right;\">\n",
       "      <th></th>\n",
       "      <th>lr1</th>\n",
       "      <th>RSquared</th>\n",
       "      <th>RMSE</th>\n",
       "      <th>MAE</th>\n",
       "    </tr>\n",
       "  </thead>\n",
       "  <tbody>\n",
       "    <tr>\n",
       "      <th>0</th>\n",
       "      <td>Train</td>\n",
       "      <td>0.580</td>\n",
       "      <td>6.060</td>\n",
       "      <td>4.702</td>\n",
       "    </tr>\n",
       "    <tr>\n",
       "      <th>1</th>\n",
       "      <td>Test</td>\n",
       "      <td>0.559</td>\n",
       "      <td>6.481</td>\n",
       "      <td>4.984</td>\n",
       "    </tr>\n",
       "  </tbody>\n",
       "</table>\n",
       "</div>"
      ],
      "text/plain": [
       "     lr1  RSquared   RMSE    MAE\n",
       "0  Train     0.580  6.060  4.702\n",
       "1   Test     0.559  6.481  4.984"
      ]
     },
     "metadata": {},
     "output_type": "display_data"
    },
    {
     "data": {
      "text/html": [
       "<div>\n",
       "<style scoped>\n",
       "    .dataframe tbody tr th:only-of-type {\n",
       "        vertical-align: middle;\n",
       "    }\n",
       "\n",
       "    .dataframe tbody tr th {\n",
       "        vertical-align: top;\n",
       "    }\n",
       "\n",
       "    .dataframe thead th {\n",
       "        text-align: right;\n",
       "    }\n",
       "</style>\n",
       "<table border=\"1\" class=\"dataframe\">\n",
       "  <thead>\n",
       "    <tr style=\"text-align: right;\">\n",
       "      <th></th>\n",
       "      <th>dt1</th>\n",
       "      <th>RSquared</th>\n",
       "      <th>RMSE</th>\n",
       "      <th>MAE</th>\n",
       "    </tr>\n",
       "  </thead>\n",
       "  <tbody>\n",
       "    <tr>\n",
       "      <th>0</th>\n",
       "      <td>Train</td>\n",
       "      <td>0.916</td>\n",
       "      <td>2.707</td>\n",
       "      <td>1.515</td>\n",
       "    </tr>\n",
       "    <tr>\n",
       "      <th>1</th>\n",
       "      <td>Test</td>\n",
       "      <td>0.592</td>\n",
       "      <td>6.238</td>\n",
       "      <td>4.639</td>\n",
       "    </tr>\n",
       "  </tbody>\n",
       "</table>\n",
       "</div>"
      ],
      "text/plain": [
       "     dt1  RSquared   RMSE    MAE\n",
       "0  Train     0.916  2.707  1.515\n",
       "1   Test     0.592  6.238  4.639"
      ]
     },
     "metadata": {},
     "output_type": "display_data"
    },
    {
     "data": {
      "text/html": [
       "<div>\n",
       "<style scoped>\n",
       "    .dataframe tbody tr th:only-of-type {\n",
       "        vertical-align: middle;\n",
       "    }\n",
       "\n",
       "    .dataframe tbody tr th {\n",
       "        vertical-align: top;\n",
       "    }\n",
       "\n",
       "    .dataframe thead th {\n",
       "        text-align: right;\n",
       "    }\n",
       "</style>\n",
       "<table border=\"1\" class=\"dataframe\">\n",
       "  <thead>\n",
       "    <tr style=\"text-align: right;\">\n",
       "      <th></th>\n",
       "      <th>dt1_p</th>\n",
       "      <th>RSquared</th>\n",
       "      <th>RMSE</th>\n",
       "      <th>MAE</th>\n",
       "    </tr>\n",
       "  </thead>\n",
       "  <tbody>\n",
       "    <tr>\n",
       "      <th>0</th>\n",
       "      <td>Train</td>\n",
       "      <td>0.735</td>\n",
       "      <td>4.811</td>\n",
       "      <td>3.673</td>\n",
       "    </tr>\n",
       "    <tr>\n",
       "      <th>1</th>\n",
       "      <td>Test</td>\n",
       "      <td>0.705</td>\n",
       "      <td>5.303</td>\n",
       "      <td>4.015</td>\n",
       "    </tr>\n",
       "  </tbody>\n",
       "</table>\n",
       "</div>"
      ],
      "text/plain": [
       "   dt1_p  RSquared   RMSE    MAE\n",
       "0  Train     0.735  4.811  3.673\n",
       "1   Test     0.705  5.303  4.015"
      ]
     },
     "metadata": {},
     "output_type": "display_data"
    },
    {
     "data": {
      "text/html": [
       "<div>\n",
       "<style scoped>\n",
       "    .dataframe tbody tr th:only-of-type {\n",
       "        vertical-align: middle;\n",
       "    }\n",
       "\n",
       "    .dataframe tbody tr th {\n",
       "        vertical-align: top;\n",
       "    }\n",
       "\n",
       "    .dataframe thead th {\n",
       "        text-align: right;\n",
       "    }\n",
       "</style>\n",
       "<table border=\"1\" class=\"dataframe\">\n",
       "  <thead>\n",
       "    <tr style=\"text-align: right;\">\n",
       "      <th></th>\n",
       "      <th>rf1</th>\n",
       "      <th>RSquared</th>\n",
       "      <th>RMSE</th>\n",
       "      <th>MAE</th>\n",
       "    </tr>\n",
       "  </thead>\n",
       "  <tbody>\n",
       "    <tr>\n",
       "      <th>0</th>\n",
       "      <td>Train</td>\n",
       "      <td>0.739</td>\n",
       "      <td>4.773</td>\n",
       "      <td>3.644</td>\n",
       "    </tr>\n",
       "    <tr>\n",
       "      <th>1</th>\n",
       "      <td>Test</td>\n",
       "      <td>0.709</td>\n",
       "      <td>5.269</td>\n",
       "      <td>3.987</td>\n",
       "    </tr>\n",
       "  </tbody>\n",
       "</table>\n",
       "</div>"
      ],
      "text/plain": [
       "     rf1  RSquared   RMSE    MAE\n",
       "0  Train     0.739  4.773  3.644\n",
       "1   Test     0.709  5.269  3.987"
      ]
     },
     "metadata": {},
     "output_type": "display_data"
    }
   ],
   "source": [
    "rf1Performance = model_pref(rf, X_train, X_test,y_train,y_test, 'rf1')\n",
    "\n",
    "display(lr1Performance, dt1Performance, dt1_pPerformance, rf1Performance)"
   ]
  },
  {
   "cell_type": "markdown",
   "metadata": {},
   "source": [
    "**Write your answers here:**\n",
    "- The score for the model with only 1 transform primitive is `~71%`. \n",
    "- This model is performing marginally better than the pruned decision tree model(`dt1_p`)."
   ]
  },
  {
   "cell_type": "markdown",
   "metadata": {},
   "source": [
    "### Step 4: Adding more Transform Primitives and creating new model\n",
    "\n",
    "* Add ``Minute``, ``Hour``, ``Month``, ``Weekday`` , etc primitives\n",
    "* All these transform primitives apply to ``datetime`` columns\n",
    "\n",
    "### Question 5: Create models with more transform primitives (10 Marks)\n",
    "\n",
    "**Question 5.1 Define more transform primitives and define features using dfs?**"
   ]
  },
  {
   "cell_type": "code",
   "execution_count": 52,
   "metadata": {
    "ExecuteTime": {
     "end_time": "2021-07-15T12:51:54.063760Z",
     "start_time": "2021-07-15T12:51:51.694558Z"
    }
   },
   "outputs": [],
   "source": [
    "trans_primitives = [Minute, Hour, Day, Month, Weekday, IsWeekend]\n",
    "\n",
    "features = ft.dfs(entities=entities,\n",
    "                  relationships=relationships,\n",
    "                  target_entity=\"trips\",\n",
    "                  trans_primitives=trans_primitives,\n",
    "                  agg_primitives=[],\n",
    "                  ignore_variables={\"trips\": [\"pickup_latitude\", \"pickup_longitude\",\n",
    "                                              \"dropoff_latitude\", \"dropoff_longitude\"]},\n",
    "                  features_only=True)"
   ]
  },
  {
   "cell_type": "code",
   "execution_count": 53,
   "metadata": {
    "ExecuteTime": {
     "end_time": "2021-07-15T12:52:31.456696Z",
     "start_time": "2021-07-15T12:52:31.362945Z"
    }
   },
   "outputs": [
    {
     "name": "stdout",
     "output_type": "stream",
     "text": [
      "Number of features: 23\n"
     ]
    },
    {
     "data": {
      "text/plain": [
       "[<Feature: vendor_id>,\n",
       " <Feature: passenger_count>,\n",
       " <Feature: trip_distance>,\n",
       " <Feature: payment_type>,\n",
       " <Feature: trip_duration>,\n",
       " <Feature: pickup_neighborhood>,\n",
       " <Feature: dropoff_neighborhood>,\n",
       " <Feature: DAY(dropoff_datetime)>,\n",
       " <Feature: DAY(pickup_datetime)>,\n",
       " <Feature: HOUR(dropoff_datetime)>,\n",
       " <Feature: HOUR(pickup_datetime)>,\n",
       " <Feature: IS_WEEKEND(dropoff_datetime)>,\n",
       " <Feature: IS_WEEKEND(pickup_datetime)>,\n",
       " <Feature: MINUTE(dropoff_datetime)>,\n",
       " <Feature: MINUTE(pickup_datetime)>,\n",
       " <Feature: MONTH(dropoff_datetime)>,\n",
       " <Feature: MONTH(pickup_datetime)>,\n",
       " <Feature: WEEKDAY(dropoff_datetime)>,\n",
       " <Feature: WEEKDAY(pickup_datetime)>,\n",
       " <Feature: pickup_neighborhoods.latitude>,\n",
       " <Feature: pickup_neighborhoods.longitude>,\n",
       " <Feature: dropoff_neighborhoods.latitude>,\n",
       " <Feature: dropoff_neighborhoods.longitude>]"
      ]
     },
     "execution_count": 53,
     "metadata": {},
     "output_type": "execute_result"
    }
   ],
   "source": [
    "print (\"Number of features: %d\" % len(features))\n",
    "features"
   ]
  },
  {
   "cell_type": "markdown",
   "metadata": {},
   "source": [
    "Now let's compute the features. "
   ]
  },
  {
   "cell_type": "markdown",
   "metadata": {},
   "source": [
    "**Question: 5.2 Compute features and define feature matrix**"
   ]
  },
  {
   "cell_type": "code",
   "execution_count": 54,
   "metadata": {
    "ExecuteTime": {
     "end_time": "2021-07-15T12:52:48.471903Z",
     "start_time": "2021-07-15T12:52:34.218475Z"
    }
   },
   "outputs": [
    {
     "name": "stdout",
     "output_type": "stream",
     "text": [
      "Elapsed: 00:06 | Progress: 100%|██████████\n",
      "Finishing computing...\n"
     ]
    }
   ],
   "source": [
    "feature_matrix2 = compute_features(features, cutoff_time)"
   ]
  },
  {
   "cell_type": "code",
   "execution_count": 55,
   "metadata": {
    "ExecuteTime": {
     "end_time": "2021-07-15T12:52:50.630760Z",
     "start_time": "2021-07-15T12:52:50.137051Z"
    }
   },
   "outputs": [
    {
     "data": {
      "text/plain": [
       "(916765, 41)"
      ]
     },
     "execution_count": 55,
     "metadata": {},
     "output_type": "execute_result"
    }
   ],
   "source": [
    "feature_matrix2.shape"
   ]
  },
  {
   "cell_type": "code",
   "execution_count": 56,
   "metadata": {},
   "outputs": [
    {
     "data": {
      "text/html": [
       "<div>\n",
       "<style scoped>\n",
       "    .dataframe tbody tr th:only-of-type {\n",
       "        vertical-align: middle;\n",
       "    }\n",
       "\n",
       "    .dataframe tbody tr th {\n",
       "        vertical-align: top;\n",
       "    }\n",
       "\n",
       "    .dataframe thead th {\n",
       "        text-align: right;\n",
       "    }\n",
       "</style>\n",
       "<table border=\"1\" class=\"dataframe\">\n",
       "  <thead>\n",
       "    <tr style=\"text-align: right;\">\n",
       "      <th>id</th>\n",
       "      <th>56311</th>\n",
       "      <th>56312</th>\n",
       "      <th>56313</th>\n",
       "      <th>56314</th>\n",
       "      <th>56315</th>\n",
       "    </tr>\n",
       "  </thead>\n",
       "  <tbody>\n",
       "    <tr>\n",
       "      <th>dropoff_neighborhoods.longitude</th>\n",
       "      <td>-73.998366</td>\n",
       "      <td>-73.954298</td>\n",
       "      <td>-73.948046</td>\n",
       "      <td>-73.977943</td>\n",
       "      <td>-73.948046</td>\n",
       "    </tr>\n",
       "    <tr>\n",
       "      <th>MINUTE(dropoff_datetime)</th>\n",
       "      <td>11</td>\n",
       "      <td>23</td>\n",
       "      <td>5</td>\n",
       "      <td>6</td>\n",
       "      <td>13</td>\n",
       "    </tr>\n",
       "    <tr>\n",
       "      <th>vendor_id</th>\n",
       "      <td>2</td>\n",
       "      <td>2</td>\n",
       "      <td>1</td>\n",
       "      <td>2</td>\n",
       "      <td>2</td>\n",
       "    </tr>\n",
       "    <tr>\n",
       "      <th>payment_type</th>\n",
       "      <td>1</td>\n",
       "      <td>2</td>\n",
       "      <td>1</td>\n",
       "      <td>2</td>\n",
       "      <td>1</td>\n",
       "    </tr>\n",
       "    <tr>\n",
       "      <th>MONTH(dropoff_datetime)</th>\n",
       "      <td>1</td>\n",
       "      <td>1</td>\n",
       "      <td>1</td>\n",
       "      <td>1</td>\n",
       "      <td>1</td>\n",
       "    </tr>\n",
       "    <tr>\n",
       "      <th>DAY(dropoff_datetime)</th>\n",
       "      <td>12</td>\n",
       "      <td>12</td>\n",
       "      <td>12</td>\n",
       "      <td>12</td>\n",
       "      <td>12</td>\n",
       "    </tr>\n",
       "    <tr>\n",
       "      <th>trip_duration</th>\n",
       "      <td>645.0</td>\n",
       "      <td>1270.0</td>\n",
       "      <td>207.0</td>\n",
       "      <td>214.0</td>\n",
       "      <td>570.0</td>\n",
       "    </tr>\n",
       "    <tr>\n",
       "      <th>trip_distance</th>\n",
       "      <td>1.61</td>\n",
       "      <td>16.15</td>\n",
       "      <td>0.8</td>\n",
       "      <td>1.33</td>\n",
       "      <td>2.35</td>\n",
       "    </tr>\n",
       "    <tr>\n",
       "      <th>passenger_count</th>\n",
       "      <td>1</td>\n",
       "      <td>1</td>\n",
       "      <td>1</td>\n",
       "      <td>5</td>\n",
       "      <td>1</td>\n",
       "    </tr>\n",
       "    <tr>\n",
       "      <th>IS_WEEKEND(pickup_datetime)</th>\n",
       "      <td>False</td>\n",
       "      <td>False</td>\n",
       "      <td>False</td>\n",
       "      <td>False</td>\n",
       "      <td>False</td>\n",
       "    </tr>\n",
       "    <tr>\n",
       "      <th>HOUR(dropoff_datetime)</th>\n",
       "      <td>0</td>\n",
       "      <td>0</td>\n",
       "      <td>0</td>\n",
       "      <td>0</td>\n",
       "      <td>0</td>\n",
       "    </tr>\n",
       "    <tr>\n",
       "      <th>MINUTE(pickup_datetime)</th>\n",
       "      <td>0</td>\n",
       "      <td>2</td>\n",
       "      <td>2</td>\n",
       "      <td>2</td>\n",
       "      <td>3</td>\n",
       "    </tr>\n",
       "    <tr>\n",
       "      <th>IS_WEEKEND(dropoff_datetime)</th>\n",
       "      <td>False</td>\n",
       "      <td>False</td>\n",
       "      <td>False</td>\n",
       "      <td>False</td>\n",
       "      <td>False</td>\n",
       "    </tr>\n",
       "    <tr>\n",
       "      <th>dropoff_neighborhoods.latitude</th>\n",
       "      <td>40.721435</td>\n",
       "      <td>40.715828</td>\n",
       "      <td>40.818445</td>\n",
       "      <td>40.742531</td>\n",
       "      <td>40.818445</td>\n",
       "    </tr>\n",
       "    <tr>\n",
       "      <th>pickup_neighborhoods.latitude</th>\n",
       "      <td>40.720245</td>\n",
       "      <td>40.646194</td>\n",
       "      <td>40.818445</td>\n",
       "      <td>40.729652</td>\n",
       "      <td>40.793597</td>\n",
       "    </tr>\n",
       "    <tr>\n",
       "      <th>DAY(pickup_datetime)</th>\n",
       "      <td>12</td>\n",
       "      <td>12</td>\n",
       "      <td>12</td>\n",
       "      <td>12</td>\n",
       "      <td>12</td>\n",
       "    </tr>\n",
       "    <tr>\n",
       "      <th>pickup_neighborhood = AD</th>\n",
       "      <td>False</td>\n",
       "      <td>False</td>\n",
       "      <td>False</td>\n",
       "      <td>False</td>\n",
       "      <td>False</td>\n",
       "    </tr>\n",
       "    <tr>\n",
       "      <th>pickup_neighborhood = AA</th>\n",
       "      <td>False</td>\n",
       "      <td>False</td>\n",
       "      <td>False</td>\n",
       "      <td>False</td>\n",
       "      <td>False</td>\n",
       "    </tr>\n",
       "    <tr>\n",
       "      <th>pickup_neighborhood = D</th>\n",
       "      <td>False</td>\n",
       "      <td>False</td>\n",
       "      <td>False</td>\n",
       "      <td>False</td>\n",
       "      <td>False</td>\n",
       "    </tr>\n",
       "    <tr>\n",
       "      <th>pickup_neighborhood = A</th>\n",
       "      <td>False</td>\n",
       "      <td>False</td>\n",
       "      <td>False</td>\n",
       "      <td>False</td>\n",
       "      <td>False</td>\n",
       "    </tr>\n",
       "    <tr>\n",
       "      <th>pickup_neighborhood = AR</th>\n",
       "      <td>False</td>\n",
       "      <td>False</td>\n",
       "      <td>False</td>\n",
       "      <td>False</td>\n",
       "      <td>False</td>\n",
       "    </tr>\n",
       "    <tr>\n",
       "      <th>pickup_neighborhood = AK</th>\n",
       "      <td>False</td>\n",
       "      <td>False</td>\n",
       "      <td>False</td>\n",
       "      <td>False</td>\n",
       "      <td>False</td>\n",
       "    </tr>\n",
       "    <tr>\n",
       "      <th>pickup_neighborhood = AO</th>\n",
       "      <td>False</td>\n",
       "      <td>False</td>\n",
       "      <td>False</td>\n",
       "      <td>False</td>\n",
       "      <td>False</td>\n",
       "    </tr>\n",
       "    <tr>\n",
       "      <th>pickup_neighborhood = N</th>\n",
       "      <td>False</td>\n",
       "      <td>False</td>\n",
       "      <td>False</td>\n",
       "      <td>False</td>\n",
       "      <td>False</td>\n",
       "    </tr>\n",
       "    <tr>\n",
       "      <th>pickup_neighborhood = O</th>\n",
       "      <td>False</td>\n",
       "      <td>False</td>\n",
       "      <td>False</td>\n",
       "      <td>False</td>\n",
       "      <td>False</td>\n",
       "    </tr>\n",
       "    <tr>\n",
       "      <th>pickup_neighborhood = R</th>\n",
       "      <td>False</td>\n",
       "      <td>False</td>\n",
       "      <td>False</td>\n",
       "      <td>False</td>\n",
       "      <td>False</td>\n",
       "    </tr>\n",
       "    <tr>\n",
       "      <th>pickup_neighborhoods.longitude</th>\n",
       "      <td>-73.987205</td>\n",
       "      <td>-73.785073</td>\n",
       "      <td>-73.948046</td>\n",
       "      <td>-73.991595</td>\n",
       "      <td>-73.969822</td>\n",
       "    </tr>\n",
       "    <tr>\n",
       "      <th>MONTH(pickup_datetime)</th>\n",
       "      <td>1</td>\n",
       "      <td>1</td>\n",
       "      <td>1</td>\n",
       "      <td>1</td>\n",
       "      <td>1</td>\n",
       "    </tr>\n",
       "    <tr>\n",
       "      <th>dropoff_neighborhood = AD</th>\n",
       "      <td>False</td>\n",
       "      <td>False</td>\n",
       "      <td>False</td>\n",
       "      <td>False</td>\n",
       "      <td>False</td>\n",
       "    </tr>\n",
       "    <tr>\n",
       "      <th>dropoff_neighborhood = A</th>\n",
       "      <td>False</td>\n",
       "      <td>False</td>\n",
       "      <td>False</td>\n",
       "      <td>False</td>\n",
       "      <td>False</td>\n",
       "    </tr>\n",
       "    <tr>\n",
       "      <th>dropoff_neighborhood = AA</th>\n",
       "      <td>False</td>\n",
       "      <td>False</td>\n",
       "      <td>False</td>\n",
       "      <td>False</td>\n",
       "      <td>False</td>\n",
       "    </tr>\n",
       "    <tr>\n",
       "      <th>dropoff_neighborhood = D</th>\n",
       "      <td>False</td>\n",
       "      <td>False</td>\n",
       "      <td>False</td>\n",
       "      <td>False</td>\n",
       "      <td>False</td>\n",
       "    </tr>\n",
       "    <tr>\n",
       "      <th>dropoff_neighborhood = AR</th>\n",
       "      <td>False</td>\n",
       "      <td>False</td>\n",
       "      <td>False</td>\n",
       "      <td>False</td>\n",
       "      <td>False</td>\n",
       "    </tr>\n",
       "    <tr>\n",
       "      <th>dropoff_neighborhood = C</th>\n",
       "      <td>False</td>\n",
       "      <td>False</td>\n",
       "      <td>False</td>\n",
       "      <td>False</td>\n",
       "      <td>False</td>\n",
       "    </tr>\n",
       "    <tr>\n",
       "      <th>dropoff_neighborhood = O</th>\n",
       "      <td>False</td>\n",
       "      <td>False</td>\n",
       "      <td>False</td>\n",
       "      <td>False</td>\n",
       "      <td>False</td>\n",
       "    </tr>\n",
       "    <tr>\n",
       "      <th>dropoff_neighborhood = N</th>\n",
       "      <td>False</td>\n",
       "      <td>False</td>\n",
       "      <td>False</td>\n",
       "      <td>False</td>\n",
       "      <td>False</td>\n",
       "    </tr>\n",
       "    <tr>\n",
       "      <th>dropoff_neighborhood = AK</th>\n",
       "      <td>False</td>\n",
       "      <td>False</td>\n",
       "      <td>False</td>\n",
       "      <td>False</td>\n",
       "      <td>False</td>\n",
       "    </tr>\n",
       "    <tr>\n",
       "      <th>dropoff_neighborhood = AO</th>\n",
       "      <td>False</td>\n",
       "      <td>False</td>\n",
       "      <td>False</td>\n",
       "      <td>False</td>\n",
       "      <td>False</td>\n",
       "    </tr>\n",
       "    <tr>\n",
       "      <th>WEEKDAY(pickup_datetime)</th>\n",
       "      <td>1</td>\n",
       "      <td>1</td>\n",
       "      <td>1</td>\n",
       "      <td>1</td>\n",
       "      <td>1</td>\n",
       "    </tr>\n",
       "    <tr>\n",
       "      <th>HOUR(pickup_datetime)</th>\n",
       "      <td>0</td>\n",
       "      <td>0</td>\n",
       "      <td>0</td>\n",
       "      <td>0</td>\n",
       "      <td>0</td>\n",
       "    </tr>\n",
       "    <tr>\n",
       "      <th>WEEKDAY(dropoff_datetime)</th>\n",
       "      <td>1</td>\n",
       "      <td>1</td>\n",
       "      <td>1</td>\n",
       "      <td>1</td>\n",
       "      <td>1</td>\n",
       "    </tr>\n",
       "  </tbody>\n",
       "</table>\n",
       "</div>"
      ],
      "text/plain": [
       "id                                   56311      56312      56313      56314  \\\n",
       "dropoff_neighborhoods.longitude -73.998366 -73.954298 -73.948046 -73.977943   \n",
       "MINUTE(dropoff_datetime)                11         23          5          6   \n",
       "vendor_id                                2          2          1          2   \n",
       "payment_type                             1          2          1          2   \n",
       "MONTH(dropoff_datetime)                  1          1          1          1   \n",
       "DAY(dropoff_datetime)                   12         12         12         12   \n",
       "trip_duration                        645.0     1270.0      207.0      214.0   \n",
       "trip_distance                         1.61      16.15        0.8       1.33   \n",
       "passenger_count                          1          1          1          5   \n",
       "IS_WEEKEND(pickup_datetime)          False      False      False      False   \n",
       "HOUR(dropoff_datetime)                   0          0          0          0   \n",
       "MINUTE(pickup_datetime)                  0          2          2          2   \n",
       "IS_WEEKEND(dropoff_datetime)         False      False      False      False   \n",
       "dropoff_neighborhoods.latitude   40.721435  40.715828  40.818445  40.742531   \n",
       "pickup_neighborhoods.latitude    40.720245  40.646194  40.818445  40.729652   \n",
       "DAY(pickup_datetime)                    12         12         12         12   \n",
       "pickup_neighborhood = AD             False      False      False      False   \n",
       "pickup_neighborhood = AA             False      False      False      False   \n",
       "pickup_neighborhood = D              False      False      False      False   \n",
       "pickup_neighborhood = A              False      False      False      False   \n",
       "pickup_neighborhood = AR             False      False      False      False   \n",
       "pickup_neighborhood = AK             False      False      False      False   \n",
       "pickup_neighborhood = AO             False      False      False      False   \n",
       "pickup_neighborhood = N              False      False      False      False   \n",
       "pickup_neighborhood = O              False      False      False      False   \n",
       "pickup_neighborhood = R              False      False      False      False   \n",
       "pickup_neighborhoods.longitude  -73.987205 -73.785073 -73.948046 -73.991595   \n",
       "MONTH(pickup_datetime)                   1          1          1          1   \n",
       "dropoff_neighborhood = AD            False      False      False      False   \n",
       "dropoff_neighborhood = A             False      False      False      False   \n",
       "dropoff_neighborhood = AA            False      False      False      False   \n",
       "dropoff_neighborhood = D             False      False      False      False   \n",
       "dropoff_neighborhood = AR            False      False      False      False   \n",
       "dropoff_neighborhood = C             False      False      False      False   \n",
       "dropoff_neighborhood = O             False      False      False      False   \n",
       "dropoff_neighborhood = N             False      False      False      False   \n",
       "dropoff_neighborhood = AK            False      False      False      False   \n",
       "dropoff_neighborhood = AO            False      False      False      False   \n",
       "WEEKDAY(pickup_datetime)                 1          1          1          1   \n",
       "HOUR(pickup_datetime)                    0          0          0          0   \n",
       "WEEKDAY(dropoff_datetime)                1          1          1          1   \n",
       "\n",
       "id                                   56315  \n",
       "dropoff_neighborhoods.longitude -73.948046  \n",
       "MINUTE(dropoff_datetime)                13  \n",
       "vendor_id                                2  \n",
       "payment_type                             1  \n",
       "MONTH(dropoff_datetime)                  1  \n",
       "DAY(dropoff_datetime)                   12  \n",
       "trip_duration                        570.0  \n",
       "trip_distance                         2.35  \n",
       "passenger_count                          1  \n",
       "IS_WEEKEND(pickup_datetime)          False  \n",
       "HOUR(dropoff_datetime)                   0  \n",
       "MINUTE(pickup_datetime)                  3  \n",
       "IS_WEEKEND(dropoff_datetime)         False  \n",
       "dropoff_neighborhoods.latitude   40.818445  \n",
       "pickup_neighborhoods.latitude    40.793597  \n",
       "DAY(pickup_datetime)                    12  \n",
       "pickup_neighborhood = AD             False  \n",
       "pickup_neighborhood = AA             False  \n",
       "pickup_neighborhood = D              False  \n",
       "pickup_neighborhood = A              False  \n",
       "pickup_neighborhood = AR             False  \n",
       "pickup_neighborhood = AK             False  \n",
       "pickup_neighborhood = AO             False  \n",
       "pickup_neighborhood = N              False  \n",
       "pickup_neighborhood = O              False  \n",
       "pickup_neighborhood = R              False  \n",
       "pickup_neighborhoods.longitude  -73.969822  \n",
       "MONTH(pickup_datetime)                   1  \n",
       "dropoff_neighborhood = AD            False  \n",
       "dropoff_neighborhood = A             False  \n",
       "dropoff_neighborhood = AA            False  \n",
       "dropoff_neighborhood = D             False  \n",
       "dropoff_neighborhood = AR            False  \n",
       "dropoff_neighborhood = C             False  \n",
       "dropoff_neighborhood = O             False  \n",
       "dropoff_neighborhood = N             False  \n",
       "dropoff_neighborhood = AK            False  \n",
       "dropoff_neighborhood = AO            False  \n",
       "WEEKDAY(pickup_datetime)                 1  \n",
       "HOUR(pickup_datetime)                    0  \n",
       "WEEKDAY(dropoff_datetime)                1  "
      ]
     },
     "execution_count": 56,
     "metadata": {},
     "output_type": "execute_result"
    }
   ],
   "source": [
    "feature_matrix2.head().T"
   ]
  },
  {
   "cell_type": "markdown",
   "metadata": {},
   "source": [
    "### Build the new models more transform features"
   ]
  },
  {
   "cell_type": "code",
   "execution_count": 57,
   "metadata": {
    "ExecuteTime": {
     "end_time": "2021-07-15T12:55:38.459145Z",
     "start_time": "2021-07-15T12:55:32.592515Z"
    }
   },
   "outputs": [],
   "source": [
    "# separates the whole feature matrix into train data feature matrix,\n",
    "# train data labels, and test data feature matrix \n",
    "X_train2, y_train2, X_test2, y_test2 = get_train_test_fm(feature_matrix2,.75)\n",
    "y_train2 = np.sqrt(y_train2)\n",
    "y_test2 = np.sqrt(y_test2)"
   ]
  },
  {
   "cell_type": "markdown",
   "metadata": {},
   "source": [
    "#### Question 5.3 Building Linear regression using more transform primitive"
   ]
  },
  {
   "cell_type": "code",
   "execution_count": 58,
   "metadata": {},
   "outputs": [
    {
     "data": {
      "text/plain": [
       "LinearRegression()"
      ]
     },
     "execution_count": 58,
     "metadata": {},
     "output_type": "execute_result"
    }
   ],
   "source": [
    "#defining the model\n",
    "\n",
    "lr2=LinearRegression()\n",
    "\n",
    "#fitting the model\n",
    "lr2.fit(X_train2,y_train2)\n"
   ]
  },
  {
   "cell_type": "markdown",
   "metadata": {},
   "source": [
    "#### Check the performance of the model"
   ]
  },
  {
   "cell_type": "code",
   "execution_count": 59,
   "metadata": {},
   "outputs": [
    {
     "data": {
      "text/html": [
       "<div>\n",
       "<style scoped>\n",
       "    .dataframe tbody tr th:only-of-type {\n",
       "        vertical-align: middle;\n",
       "    }\n",
       "\n",
       "    .dataframe tbody tr th {\n",
       "        vertical-align: top;\n",
       "    }\n",
       "\n",
       "    .dataframe thead th {\n",
       "        text-align: right;\n",
       "    }\n",
       "</style>\n",
       "<table border=\"1\" class=\"dataframe\">\n",
       "  <thead>\n",
       "    <tr style=\"text-align: right;\">\n",
       "      <th></th>\n",
       "      <th>lr1</th>\n",
       "      <th>RSquared</th>\n",
       "      <th>RMSE</th>\n",
       "      <th>MAE</th>\n",
       "    </tr>\n",
       "  </thead>\n",
       "  <tbody>\n",
       "    <tr>\n",
       "      <th>0</th>\n",
       "      <td>Train</td>\n",
       "      <td>0.580</td>\n",
       "      <td>6.060</td>\n",
       "      <td>4.702</td>\n",
       "    </tr>\n",
       "    <tr>\n",
       "      <th>1</th>\n",
       "      <td>Test</td>\n",
       "      <td>0.559</td>\n",
       "      <td>6.481</td>\n",
       "      <td>4.984</td>\n",
       "    </tr>\n",
       "  </tbody>\n",
       "</table>\n",
       "</div>"
      ],
      "text/plain": [
       "     lr1  RSquared   RMSE    MAE\n",
       "0  Train     0.580  6.060  4.702\n",
       "1   Test     0.559  6.481  4.984"
      ]
     },
     "metadata": {},
     "output_type": "display_data"
    },
    {
     "data": {
      "text/html": [
       "<div>\n",
       "<style scoped>\n",
       "    .dataframe tbody tr th:only-of-type {\n",
       "        vertical-align: middle;\n",
       "    }\n",
       "\n",
       "    .dataframe tbody tr th {\n",
       "        vertical-align: top;\n",
       "    }\n",
       "\n",
       "    .dataframe thead th {\n",
       "        text-align: right;\n",
       "    }\n",
       "</style>\n",
       "<table border=\"1\" class=\"dataframe\">\n",
       "  <thead>\n",
       "    <tr style=\"text-align: right;\">\n",
       "      <th></th>\n",
       "      <th>lr2</th>\n",
       "      <th>RSquared</th>\n",
       "      <th>RMSE</th>\n",
       "      <th>MAE</th>\n",
       "    </tr>\n",
       "  </thead>\n",
       "  <tbody>\n",
       "    <tr>\n",
       "      <th>0</th>\n",
       "      <td>Train</td>\n",
       "      <td>0.627</td>\n",
       "      <td>5.713</td>\n",
       "      <td>4.246</td>\n",
       "    </tr>\n",
       "    <tr>\n",
       "      <th>1</th>\n",
       "      <td>Test</td>\n",
       "      <td>0.627</td>\n",
       "      <td>5.966</td>\n",
       "      <td>4.508</td>\n",
       "    </tr>\n",
       "  </tbody>\n",
       "</table>\n",
       "</div>"
      ],
      "text/plain": [
       "     lr2  RSquared   RMSE    MAE\n",
       "0  Train     0.627  5.713  4.246\n",
       "1   Test     0.627  5.966  4.508"
      ]
     },
     "metadata": {},
     "output_type": "display_data"
    },
    {
     "data": {
      "text/html": [
       "<div>\n",
       "<style scoped>\n",
       "    .dataframe tbody tr th:only-of-type {\n",
       "        vertical-align: middle;\n",
       "    }\n",
       "\n",
       "    .dataframe tbody tr th {\n",
       "        vertical-align: top;\n",
       "    }\n",
       "\n",
       "    .dataframe thead th {\n",
       "        text-align: right;\n",
       "    }\n",
       "</style>\n",
       "<table border=\"1\" class=\"dataframe\">\n",
       "  <thead>\n",
       "    <tr style=\"text-align: right;\">\n",
       "      <th></th>\n",
       "      <th>dt1</th>\n",
       "      <th>RSquared</th>\n",
       "      <th>RMSE</th>\n",
       "      <th>MAE</th>\n",
       "    </tr>\n",
       "  </thead>\n",
       "  <tbody>\n",
       "    <tr>\n",
       "      <th>0</th>\n",
       "      <td>Train</td>\n",
       "      <td>0.916</td>\n",
       "      <td>2.707</td>\n",
       "      <td>1.515</td>\n",
       "    </tr>\n",
       "    <tr>\n",
       "      <th>1</th>\n",
       "      <td>Test</td>\n",
       "      <td>0.592</td>\n",
       "      <td>6.238</td>\n",
       "      <td>4.639</td>\n",
       "    </tr>\n",
       "  </tbody>\n",
       "</table>\n",
       "</div>"
      ],
      "text/plain": [
       "     dt1  RSquared   RMSE    MAE\n",
       "0  Train     0.916  2.707  1.515\n",
       "1   Test     0.592  6.238  4.639"
      ]
     },
     "metadata": {},
     "output_type": "display_data"
    },
    {
     "data": {
      "text/html": [
       "<div>\n",
       "<style scoped>\n",
       "    .dataframe tbody tr th:only-of-type {\n",
       "        vertical-align: middle;\n",
       "    }\n",
       "\n",
       "    .dataframe tbody tr th {\n",
       "        vertical-align: top;\n",
       "    }\n",
       "\n",
       "    .dataframe thead th {\n",
       "        text-align: right;\n",
       "    }\n",
       "</style>\n",
       "<table border=\"1\" class=\"dataframe\">\n",
       "  <thead>\n",
       "    <tr style=\"text-align: right;\">\n",
       "      <th></th>\n",
       "      <th>dt1_p</th>\n",
       "      <th>RSquared</th>\n",
       "      <th>RMSE</th>\n",
       "      <th>MAE</th>\n",
       "    </tr>\n",
       "  </thead>\n",
       "  <tbody>\n",
       "    <tr>\n",
       "      <th>0</th>\n",
       "      <td>Train</td>\n",
       "      <td>0.735</td>\n",
       "      <td>4.811</td>\n",
       "      <td>3.673</td>\n",
       "    </tr>\n",
       "    <tr>\n",
       "      <th>1</th>\n",
       "      <td>Test</td>\n",
       "      <td>0.705</td>\n",
       "      <td>5.303</td>\n",
       "      <td>4.015</td>\n",
       "    </tr>\n",
       "  </tbody>\n",
       "</table>\n",
       "</div>"
      ],
      "text/plain": [
       "   dt1_p  RSquared   RMSE    MAE\n",
       "0  Train     0.735  4.811  3.673\n",
       "1   Test     0.705  5.303  4.015"
      ]
     },
     "metadata": {},
     "output_type": "display_data"
    },
    {
     "data": {
      "text/html": [
       "<div>\n",
       "<style scoped>\n",
       "    .dataframe tbody tr th:only-of-type {\n",
       "        vertical-align: middle;\n",
       "    }\n",
       "\n",
       "    .dataframe tbody tr th {\n",
       "        vertical-align: top;\n",
       "    }\n",
       "\n",
       "    .dataframe thead th {\n",
       "        text-align: right;\n",
       "    }\n",
       "</style>\n",
       "<table border=\"1\" class=\"dataframe\">\n",
       "  <thead>\n",
       "    <tr style=\"text-align: right;\">\n",
       "      <th></th>\n",
       "      <th>rf1</th>\n",
       "      <th>RSquared</th>\n",
       "      <th>RMSE</th>\n",
       "      <th>MAE</th>\n",
       "    </tr>\n",
       "  </thead>\n",
       "  <tbody>\n",
       "    <tr>\n",
       "      <th>0</th>\n",
       "      <td>Train</td>\n",
       "      <td>0.739</td>\n",
       "      <td>4.773</td>\n",
       "      <td>3.644</td>\n",
       "    </tr>\n",
       "    <tr>\n",
       "      <th>1</th>\n",
       "      <td>Test</td>\n",
       "      <td>0.709</td>\n",
       "      <td>5.269</td>\n",
       "      <td>3.987</td>\n",
       "    </tr>\n",
       "  </tbody>\n",
       "</table>\n",
       "</div>"
      ],
      "text/plain": [
       "     rf1  RSquared   RMSE    MAE\n",
       "0  Train     0.739  4.773  3.644\n",
       "1   Test     0.709  5.269  3.987"
      ]
     },
     "metadata": {},
     "output_type": "display_data"
    }
   ],
   "source": [
    "lr2Performance = model_pref(lr2, X_train2, X_test2,y_train2,y_test2, 'lr2')\n",
    "\n",
    "display(lr1Performance, lr2Performance, \n",
    "        dt1Performance, \n",
    "        dt1_pPerformance, \n",
    "        rf1Performance)"
   ]
  },
  {
   "cell_type": "markdown",
   "metadata": {},
   "source": [
    "**Write your answers here:**\n",
    "- The model(`lr2`) is giving `~0.62` $\\mathrm{R}^2$, with RMSE of `~6.04` and MAE of `~4.54`.\n",
    "- The model performance has worsened compared to the last model(`rf1`) by adding more transform primitives, but improved compared to its predecessor(`lr1`)\n",
    "- The model is not overfitting, thus giving generalized results."
   ]
  },
  {
   "cell_type": "markdown",
   "metadata": {},
   "source": [
    "#### Question 5.4 Building Decision tree using more transform primitive"
   ]
  },
  {
   "cell_type": "code",
   "execution_count": 60,
   "metadata": {},
   "outputs": [
    {
     "data": {
      "text/plain": [
       "DecisionTreeRegressor()"
      ]
     },
     "execution_count": 60,
     "metadata": {},
     "output_type": "execute_result"
    }
   ],
   "source": [
    "#define the model\n",
    "dt2=DecisionTreeRegressor()\n",
    "\n",
    "#fit the model\n",
    "\n",
    "dt2.fit(X_train2,y_train2)"
   ]
  },
  {
   "cell_type": "markdown",
   "metadata": {},
   "source": [
    "#### Check the performance of the model"
   ]
  },
  {
   "cell_type": "code",
   "execution_count": 61,
   "metadata": {},
   "outputs": [
    {
     "data": {
      "text/html": [
       "<div>\n",
       "<style scoped>\n",
       "    .dataframe tbody tr th:only-of-type {\n",
       "        vertical-align: middle;\n",
       "    }\n",
       "\n",
       "    .dataframe tbody tr th {\n",
       "        vertical-align: top;\n",
       "    }\n",
       "\n",
       "    .dataframe thead th {\n",
       "        text-align: right;\n",
       "    }\n",
       "</style>\n",
       "<table border=\"1\" class=\"dataframe\">\n",
       "  <thead>\n",
       "    <tr style=\"text-align: right;\">\n",
       "      <th></th>\n",
       "      <th>lr1</th>\n",
       "      <th>RSquared</th>\n",
       "      <th>RMSE</th>\n",
       "      <th>MAE</th>\n",
       "    </tr>\n",
       "  </thead>\n",
       "  <tbody>\n",
       "    <tr>\n",
       "      <th>0</th>\n",
       "      <td>Train</td>\n",
       "      <td>0.580</td>\n",
       "      <td>6.060</td>\n",
       "      <td>4.702</td>\n",
       "    </tr>\n",
       "    <tr>\n",
       "      <th>1</th>\n",
       "      <td>Test</td>\n",
       "      <td>0.559</td>\n",
       "      <td>6.481</td>\n",
       "      <td>4.984</td>\n",
       "    </tr>\n",
       "  </tbody>\n",
       "</table>\n",
       "</div>"
      ],
      "text/plain": [
       "     lr1  RSquared   RMSE    MAE\n",
       "0  Train     0.580  6.060  4.702\n",
       "1   Test     0.559  6.481  4.984"
      ]
     },
     "metadata": {},
     "output_type": "display_data"
    },
    {
     "data": {
      "text/html": [
       "<div>\n",
       "<style scoped>\n",
       "    .dataframe tbody tr th:only-of-type {\n",
       "        vertical-align: middle;\n",
       "    }\n",
       "\n",
       "    .dataframe tbody tr th {\n",
       "        vertical-align: top;\n",
       "    }\n",
       "\n",
       "    .dataframe thead th {\n",
       "        text-align: right;\n",
       "    }\n",
       "</style>\n",
       "<table border=\"1\" class=\"dataframe\">\n",
       "  <thead>\n",
       "    <tr style=\"text-align: right;\">\n",
       "      <th></th>\n",
       "      <th>lr2</th>\n",
       "      <th>RSquared</th>\n",
       "      <th>RMSE</th>\n",
       "      <th>MAE</th>\n",
       "    </tr>\n",
       "  </thead>\n",
       "  <tbody>\n",
       "    <tr>\n",
       "      <th>0</th>\n",
       "      <td>Train</td>\n",
       "      <td>0.627</td>\n",
       "      <td>5.713</td>\n",
       "      <td>4.246</td>\n",
       "    </tr>\n",
       "    <tr>\n",
       "      <th>1</th>\n",
       "      <td>Test</td>\n",
       "      <td>0.627</td>\n",
       "      <td>5.966</td>\n",
       "      <td>4.508</td>\n",
       "    </tr>\n",
       "  </tbody>\n",
       "</table>\n",
       "</div>"
      ],
      "text/plain": [
       "     lr2  RSquared   RMSE    MAE\n",
       "0  Train     0.627  5.713  4.246\n",
       "1   Test     0.627  5.966  4.508"
      ]
     },
     "metadata": {},
     "output_type": "display_data"
    },
    {
     "data": {
      "text/html": [
       "<div>\n",
       "<style scoped>\n",
       "    .dataframe tbody tr th:only-of-type {\n",
       "        vertical-align: middle;\n",
       "    }\n",
       "\n",
       "    .dataframe tbody tr th {\n",
       "        vertical-align: top;\n",
       "    }\n",
       "\n",
       "    .dataframe thead th {\n",
       "        text-align: right;\n",
       "    }\n",
       "</style>\n",
       "<table border=\"1\" class=\"dataframe\">\n",
       "  <thead>\n",
       "    <tr style=\"text-align: right;\">\n",
       "      <th></th>\n",
       "      <th>dt1</th>\n",
       "      <th>RSquared</th>\n",
       "      <th>RMSE</th>\n",
       "      <th>MAE</th>\n",
       "    </tr>\n",
       "  </thead>\n",
       "  <tbody>\n",
       "    <tr>\n",
       "      <th>0</th>\n",
       "      <td>Train</td>\n",
       "      <td>0.916</td>\n",
       "      <td>2.707</td>\n",
       "      <td>1.515</td>\n",
       "    </tr>\n",
       "    <tr>\n",
       "      <th>1</th>\n",
       "      <td>Test</td>\n",
       "      <td>0.592</td>\n",
       "      <td>6.238</td>\n",
       "      <td>4.639</td>\n",
       "    </tr>\n",
       "  </tbody>\n",
       "</table>\n",
       "</div>"
      ],
      "text/plain": [
       "     dt1  RSquared   RMSE    MAE\n",
       "0  Train     0.916  2.707  1.515\n",
       "1   Test     0.592  6.238  4.639"
      ]
     },
     "metadata": {},
     "output_type": "display_data"
    },
    {
     "data": {
      "text/html": [
       "<div>\n",
       "<style scoped>\n",
       "    .dataframe tbody tr th:only-of-type {\n",
       "        vertical-align: middle;\n",
       "    }\n",
       "\n",
       "    .dataframe tbody tr th {\n",
       "        vertical-align: top;\n",
       "    }\n",
       "\n",
       "    .dataframe thead th {\n",
       "        text-align: right;\n",
       "    }\n",
       "</style>\n",
       "<table border=\"1\" class=\"dataframe\">\n",
       "  <thead>\n",
       "    <tr style=\"text-align: right;\">\n",
       "      <th></th>\n",
       "      <th>dt2</th>\n",
       "      <th>RSquared</th>\n",
       "      <th>RMSE</th>\n",
       "      <th>MAE</th>\n",
       "    </tr>\n",
       "  </thead>\n",
       "  <tbody>\n",
       "    <tr>\n",
       "      <th>0</th>\n",
       "      <td>Train</td>\n",
       "      <td>1.000</td>\n",
       "      <td>0.001</td>\n",
       "      <td>0.000</td>\n",
       "    </tr>\n",
       "    <tr>\n",
       "      <th>1</th>\n",
       "      <td>Test</td>\n",
       "      <td>0.718</td>\n",
       "      <td>5.189</td>\n",
       "      <td>3.742</td>\n",
       "    </tr>\n",
       "  </tbody>\n",
       "</table>\n",
       "</div>"
      ],
      "text/plain": [
       "     dt2  RSquared   RMSE    MAE\n",
       "0  Train     1.000  0.001  0.000\n",
       "1   Test     0.718  5.189  3.742"
      ]
     },
     "metadata": {},
     "output_type": "display_data"
    },
    {
     "data": {
      "text/html": [
       "<div>\n",
       "<style scoped>\n",
       "    .dataframe tbody tr th:only-of-type {\n",
       "        vertical-align: middle;\n",
       "    }\n",
       "\n",
       "    .dataframe tbody tr th {\n",
       "        vertical-align: top;\n",
       "    }\n",
       "\n",
       "    .dataframe thead th {\n",
       "        text-align: right;\n",
       "    }\n",
       "</style>\n",
       "<table border=\"1\" class=\"dataframe\">\n",
       "  <thead>\n",
       "    <tr style=\"text-align: right;\">\n",
       "      <th></th>\n",
       "      <th>dt1_p</th>\n",
       "      <th>RSquared</th>\n",
       "      <th>RMSE</th>\n",
       "      <th>MAE</th>\n",
       "    </tr>\n",
       "  </thead>\n",
       "  <tbody>\n",
       "    <tr>\n",
       "      <th>0</th>\n",
       "      <td>Train</td>\n",
       "      <td>0.735</td>\n",
       "      <td>4.811</td>\n",
       "      <td>3.673</td>\n",
       "    </tr>\n",
       "    <tr>\n",
       "      <th>1</th>\n",
       "      <td>Test</td>\n",
       "      <td>0.705</td>\n",
       "      <td>5.303</td>\n",
       "      <td>4.015</td>\n",
       "    </tr>\n",
       "  </tbody>\n",
       "</table>\n",
       "</div>"
      ],
      "text/plain": [
       "   dt1_p  RSquared   RMSE    MAE\n",
       "0  Train     0.735  4.811  3.673\n",
       "1   Test     0.705  5.303  4.015"
      ]
     },
     "metadata": {},
     "output_type": "display_data"
    },
    {
     "data": {
      "text/html": [
       "<div>\n",
       "<style scoped>\n",
       "    .dataframe tbody tr th:only-of-type {\n",
       "        vertical-align: middle;\n",
       "    }\n",
       "\n",
       "    .dataframe tbody tr th {\n",
       "        vertical-align: top;\n",
       "    }\n",
       "\n",
       "    .dataframe thead th {\n",
       "        text-align: right;\n",
       "    }\n",
       "</style>\n",
       "<table border=\"1\" class=\"dataframe\">\n",
       "  <thead>\n",
       "    <tr style=\"text-align: right;\">\n",
       "      <th></th>\n",
       "      <th>rf1</th>\n",
       "      <th>RSquared</th>\n",
       "      <th>RMSE</th>\n",
       "      <th>MAE</th>\n",
       "    </tr>\n",
       "  </thead>\n",
       "  <tbody>\n",
       "    <tr>\n",
       "      <th>0</th>\n",
       "      <td>Train</td>\n",
       "      <td>0.739</td>\n",
       "      <td>4.773</td>\n",
       "      <td>3.644</td>\n",
       "    </tr>\n",
       "    <tr>\n",
       "      <th>1</th>\n",
       "      <td>Test</td>\n",
       "      <td>0.709</td>\n",
       "      <td>5.269</td>\n",
       "      <td>3.987</td>\n",
       "    </tr>\n",
       "  </tbody>\n",
       "</table>\n",
       "</div>"
      ],
      "text/plain": [
       "     rf1  RSquared   RMSE    MAE\n",
       "0  Train     0.739  4.773  3.644\n",
       "1   Test     0.709  5.269  3.987"
      ]
     },
     "metadata": {},
     "output_type": "display_data"
    }
   ],
   "source": [
    "dt2Performance = model_pref(dt2, X_train2, X_test2,y_train2,y_test2, 'dt2')\n",
    "\n",
    "display(lr1Performance, lr2Performance,\n",
    "        dt1Performance, dt2Performance,\n",
    "        dt1_pPerformance,\n",
    "        rf1Performance)"
   ]
  },
  {
   "cell_type": "markdown",
   "metadata": {},
   "source": [
    "**Write your answers here:**\n",
    "- The model(`dt2`) is overfitting a lot, with train $\\mathrm{R}^2$ of `1` while test $\\mathrm{R}^2$ is `~0.72`.\n",
    "- As stated before, this usually happens with decision trees, one solution for this is to Prune the decision tree, let's prune and see if the performance improves."
   ]
  },
  {
   "cell_type": "markdown",
   "metadata": {},
   "source": [
    "#### Question 5.5 Building Pruned Decision tree using more transform primitive"
   ]
  },
  {
   "cell_type": "code",
   "execution_count": 62,
   "metadata": {},
   "outputs": [
    {
     "data": {
      "text/plain": [
       "DecisionTreeRegressor(max_depth=7)"
      ]
     },
     "execution_count": 62,
     "metadata": {},
     "output_type": "execute_result"
    }
   ],
   "source": [
    "#define the model\n",
    "\n",
    "#use max_depth=7\n",
    "dt_pruned2=DecisionTreeRegressor(max_depth=7)\n",
    "\n",
    "#fit the model\n",
    "dt_pruned2.fit(X_train2,y_train2)"
   ]
  },
  {
   "cell_type": "markdown",
   "metadata": {},
   "source": [
    "#### Check the performance of the model"
   ]
  },
  {
   "cell_type": "code",
   "execution_count": 63,
   "metadata": {},
   "outputs": [
    {
     "data": {
      "text/html": [
       "<div>\n",
       "<style scoped>\n",
       "    .dataframe tbody tr th:only-of-type {\n",
       "        vertical-align: middle;\n",
       "    }\n",
       "\n",
       "    .dataframe tbody tr th {\n",
       "        vertical-align: top;\n",
       "    }\n",
       "\n",
       "    .dataframe thead th {\n",
       "        text-align: right;\n",
       "    }\n",
       "</style>\n",
       "<table border=\"1\" class=\"dataframe\">\n",
       "  <thead>\n",
       "    <tr style=\"text-align: right;\">\n",
       "      <th></th>\n",
       "      <th>lr1</th>\n",
       "      <th>RSquared</th>\n",
       "      <th>RMSE</th>\n",
       "      <th>MAE</th>\n",
       "    </tr>\n",
       "  </thead>\n",
       "  <tbody>\n",
       "    <tr>\n",
       "      <th>0</th>\n",
       "      <td>Train</td>\n",
       "      <td>0.580</td>\n",
       "      <td>6.060</td>\n",
       "      <td>4.702</td>\n",
       "    </tr>\n",
       "    <tr>\n",
       "      <th>1</th>\n",
       "      <td>Test</td>\n",
       "      <td>0.559</td>\n",
       "      <td>6.481</td>\n",
       "      <td>4.984</td>\n",
       "    </tr>\n",
       "  </tbody>\n",
       "</table>\n",
       "</div>"
      ],
      "text/plain": [
       "     lr1  RSquared   RMSE    MAE\n",
       "0  Train     0.580  6.060  4.702\n",
       "1   Test     0.559  6.481  4.984"
      ]
     },
     "metadata": {},
     "output_type": "display_data"
    },
    {
     "data": {
      "text/html": [
       "<div>\n",
       "<style scoped>\n",
       "    .dataframe tbody tr th:only-of-type {\n",
       "        vertical-align: middle;\n",
       "    }\n",
       "\n",
       "    .dataframe tbody tr th {\n",
       "        vertical-align: top;\n",
       "    }\n",
       "\n",
       "    .dataframe thead th {\n",
       "        text-align: right;\n",
       "    }\n",
       "</style>\n",
       "<table border=\"1\" class=\"dataframe\">\n",
       "  <thead>\n",
       "    <tr style=\"text-align: right;\">\n",
       "      <th></th>\n",
       "      <th>lr2</th>\n",
       "      <th>RSquared</th>\n",
       "      <th>RMSE</th>\n",
       "      <th>MAE</th>\n",
       "    </tr>\n",
       "  </thead>\n",
       "  <tbody>\n",
       "    <tr>\n",
       "      <th>0</th>\n",
       "      <td>Train</td>\n",
       "      <td>0.627</td>\n",
       "      <td>5.713</td>\n",
       "      <td>4.246</td>\n",
       "    </tr>\n",
       "    <tr>\n",
       "      <th>1</th>\n",
       "      <td>Test</td>\n",
       "      <td>0.627</td>\n",
       "      <td>5.966</td>\n",
       "      <td>4.508</td>\n",
       "    </tr>\n",
       "  </tbody>\n",
       "</table>\n",
       "</div>"
      ],
      "text/plain": [
       "     lr2  RSquared   RMSE    MAE\n",
       "0  Train     0.627  5.713  4.246\n",
       "1   Test     0.627  5.966  4.508"
      ]
     },
     "metadata": {},
     "output_type": "display_data"
    },
    {
     "data": {
      "text/html": [
       "<div>\n",
       "<style scoped>\n",
       "    .dataframe tbody tr th:only-of-type {\n",
       "        vertical-align: middle;\n",
       "    }\n",
       "\n",
       "    .dataframe tbody tr th {\n",
       "        vertical-align: top;\n",
       "    }\n",
       "\n",
       "    .dataframe thead th {\n",
       "        text-align: right;\n",
       "    }\n",
       "</style>\n",
       "<table border=\"1\" class=\"dataframe\">\n",
       "  <thead>\n",
       "    <tr style=\"text-align: right;\">\n",
       "      <th></th>\n",
       "      <th>dt1</th>\n",
       "      <th>RSquared</th>\n",
       "      <th>RMSE</th>\n",
       "      <th>MAE</th>\n",
       "    </tr>\n",
       "  </thead>\n",
       "  <tbody>\n",
       "    <tr>\n",
       "      <th>0</th>\n",
       "      <td>Train</td>\n",
       "      <td>0.916</td>\n",
       "      <td>2.707</td>\n",
       "      <td>1.515</td>\n",
       "    </tr>\n",
       "    <tr>\n",
       "      <th>1</th>\n",
       "      <td>Test</td>\n",
       "      <td>0.592</td>\n",
       "      <td>6.238</td>\n",
       "      <td>4.639</td>\n",
       "    </tr>\n",
       "  </tbody>\n",
       "</table>\n",
       "</div>"
      ],
      "text/plain": [
       "     dt1  RSquared   RMSE    MAE\n",
       "0  Train     0.916  2.707  1.515\n",
       "1   Test     0.592  6.238  4.639"
      ]
     },
     "metadata": {},
     "output_type": "display_data"
    },
    {
     "data": {
      "text/html": [
       "<div>\n",
       "<style scoped>\n",
       "    .dataframe tbody tr th:only-of-type {\n",
       "        vertical-align: middle;\n",
       "    }\n",
       "\n",
       "    .dataframe tbody tr th {\n",
       "        vertical-align: top;\n",
       "    }\n",
       "\n",
       "    .dataframe thead th {\n",
       "        text-align: right;\n",
       "    }\n",
       "</style>\n",
       "<table border=\"1\" class=\"dataframe\">\n",
       "  <thead>\n",
       "    <tr style=\"text-align: right;\">\n",
       "      <th></th>\n",
       "      <th>dt2</th>\n",
       "      <th>RSquared</th>\n",
       "      <th>RMSE</th>\n",
       "      <th>MAE</th>\n",
       "    </tr>\n",
       "  </thead>\n",
       "  <tbody>\n",
       "    <tr>\n",
       "      <th>0</th>\n",
       "      <td>Train</td>\n",
       "      <td>1.000</td>\n",
       "      <td>0.001</td>\n",
       "      <td>0.000</td>\n",
       "    </tr>\n",
       "    <tr>\n",
       "      <th>1</th>\n",
       "      <td>Test</td>\n",
       "      <td>0.718</td>\n",
       "      <td>5.189</td>\n",
       "      <td>3.742</td>\n",
       "    </tr>\n",
       "  </tbody>\n",
       "</table>\n",
       "</div>"
      ],
      "text/plain": [
       "     dt2  RSquared   RMSE    MAE\n",
       "0  Train     1.000  0.001  0.000\n",
       "1   Test     0.718  5.189  3.742"
      ]
     },
     "metadata": {},
     "output_type": "display_data"
    },
    {
     "data": {
      "text/html": [
       "<div>\n",
       "<style scoped>\n",
       "    .dataframe tbody tr th:only-of-type {\n",
       "        vertical-align: middle;\n",
       "    }\n",
       "\n",
       "    .dataframe tbody tr th {\n",
       "        vertical-align: top;\n",
       "    }\n",
       "\n",
       "    .dataframe thead th {\n",
       "        text-align: right;\n",
       "    }\n",
       "</style>\n",
       "<table border=\"1\" class=\"dataframe\">\n",
       "  <thead>\n",
       "    <tr style=\"text-align: right;\">\n",
       "      <th></th>\n",
       "      <th>dt1_p</th>\n",
       "      <th>RSquared</th>\n",
       "      <th>RMSE</th>\n",
       "      <th>MAE</th>\n",
       "    </tr>\n",
       "  </thead>\n",
       "  <tbody>\n",
       "    <tr>\n",
       "      <th>0</th>\n",
       "      <td>Train</td>\n",
       "      <td>0.735</td>\n",
       "      <td>4.811</td>\n",
       "      <td>3.673</td>\n",
       "    </tr>\n",
       "    <tr>\n",
       "      <th>1</th>\n",
       "      <td>Test</td>\n",
       "      <td>0.705</td>\n",
       "      <td>5.303</td>\n",
       "      <td>4.015</td>\n",
       "    </tr>\n",
       "  </tbody>\n",
       "</table>\n",
       "</div>"
      ],
      "text/plain": [
       "   dt1_p  RSquared   RMSE    MAE\n",
       "0  Train     0.735  4.811  3.673\n",
       "1   Test     0.705  5.303  4.015"
      ]
     },
     "metadata": {},
     "output_type": "display_data"
    },
    {
     "data": {
      "text/html": [
       "<div>\n",
       "<style scoped>\n",
       "    .dataframe tbody tr th:only-of-type {\n",
       "        vertical-align: middle;\n",
       "    }\n",
       "\n",
       "    .dataframe tbody tr th {\n",
       "        vertical-align: top;\n",
       "    }\n",
       "\n",
       "    .dataframe thead th {\n",
       "        text-align: right;\n",
       "    }\n",
       "</style>\n",
       "<table border=\"1\" class=\"dataframe\">\n",
       "  <thead>\n",
       "    <tr style=\"text-align: right;\">\n",
       "      <th></th>\n",
       "      <th>dt2_p</th>\n",
       "      <th>RSquared</th>\n",
       "      <th>RMSE</th>\n",
       "      <th>MAE</th>\n",
       "    </tr>\n",
       "  </thead>\n",
       "  <tbody>\n",
       "    <tr>\n",
       "      <th>0</th>\n",
       "      <td>Train</td>\n",
       "      <td>0.773</td>\n",
       "      <td>4.459</td>\n",
       "      <td>3.366</td>\n",
       "    </tr>\n",
       "    <tr>\n",
       "      <th>1</th>\n",
       "      <td>Test</td>\n",
       "      <td>0.751</td>\n",
       "      <td>4.872</td>\n",
       "      <td>3.627</td>\n",
       "    </tr>\n",
       "  </tbody>\n",
       "</table>\n",
       "</div>"
      ],
      "text/plain": [
       "   dt2_p  RSquared   RMSE    MAE\n",
       "0  Train     0.773  4.459  3.366\n",
       "1   Test     0.751  4.872  3.627"
      ]
     },
     "metadata": {},
     "output_type": "display_data"
    },
    {
     "data": {
      "text/html": [
       "<div>\n",
       "<style scoped>\n",
       "    .dataframe tbody tr th:only-of-type {\n",
       "        vertical-align: middle;\n",
       "    }\n",
       "\n",
       "    .dataframe tbody tr th {\n",
       "        vertical-align: top;\n",
       "    }\n",
       "\n",
       "    .dataframe thead th {\n",
       "        text-align: right;\n",
       "    }\n",
       "</style>\n",
       "<table border=\"1\" class=\"dataframe\">\n",
       "  <thead>\n",
       "    <tr style=\"text-align: right;\">\n",
       "      <th></th>\n",
       "      <th>rf1</th>\n",
       "      <th>RSquared</th>\n",
       "      <th>RMSE</th>\n",
       "      <th>MAE</th>\n",
       "    </tr>\n",
       "  </thead>\n",
       "  <tbody>\n",
       "    <tr>\n",
       "      <th>0</th>\n",
       "      <td>Train</td>\n",
       "      <td>0.739</td>\n",
       "      <td>4.773</td>\n",
       "      <td>3.644</td>\n",
       "    </tr>\n",
       "    <tr>\n",
       "      <th>1</th>\n",
       "      <td>Test</td>\n",
       "      <td>0.709</td>\n",
       "      <td>5.269</td>\n",
       "      <td>3.987</td>\n",
       "    </tr>\n",
       "  </tbody>\n",
       "</table>\n",
       "</div>"
      ],
      "text/plain": [
       "     rf1  RSquared   RMSE    MAE\n",
       "0  Train     0.739  4.773  3.644\n",
       "1   Test     0.709  5.269  3.987"
      ]
     },
     "metadata": {},
     "output_type": "display_data"
    }
   ],
   "source": [
    "dt2_pPerformance = model_pref(dt_pruned2, X_train2, X_test2,y_train2,y_test2, 'dt2_p')\n",
    "\n",
    "display(lr1Performance, lr2Performance,\n",
    "        dt1Performance, dt2Performance,\n",
    "        dt1_pPerformance, dt2_pPerformance,\n",
    "        rf1Performance)"
   ]
  },
  {
   "cell_type": "markdown",
   "metadata": {},
   "source": [
    "**Write your answers here:**\n",
    "- Model(`dt2_p`) is giving $\\mathrm{R}^2$ of `~0.75`, with RSME of `~4.96` and MAE of `~3.70`.\n",
    "- Model performance has improved over `dt2` by adding more transform features, and **is currently the best performing of the bunch**.\n",
    "- Model is slightly overfitting."
   ]
  },
  {
   "cell_type": "markdown",
   "metadata": {},
   "source": [
    "#### Question 5.6 Building Random Forest using more transform primitive"
   ]
  },
  {
   "cell_type": "code",
   "execution_count": 64,
   "metadata": {},
   "outputs": [
    {
     "data": {
      "text/plain": [
       "RandomForestRegressor(max_depth=7, n_estimators=60)"
      ]
     },
     "execution_count": 64,
     "metadata": {},
     "output_type": "execute_result"
    }
   ],
   "source": [
    "#fit the model\n",
    "\n",
    "#using (n_estimators=60,max_depth=7)\n",
    "\n",
    "rf2=RandomForestRegressor(n_estimators=60,max_depth=7)\n",
    "\n",
    "#fit the model\n",
    "\n",
    "rf2.fit(X_train2,y_train2)"
   ]
  },
  {
   "cell_type": "markdown",
   "metadata": {},
   "source": [
    "#### Check the performance of the model"
   ]
  },
  {
   "cell_type": "code",
   "execution_count": 65,
   "metadata": {},
   "outputs": [
    {
     "data": {
      "text/html": [
       "<div>\n",
       "<style scoped>\n",
       "    .dataframe tbody tr th:only-of-type {\n",
       "        vertical-align: middle;\n",
       "    }\n",
       "\n",
       "    .dataframe tbody tr th {\n",
       "        vertical-align: top;\n",
       "    }\n",
       "\n",
       "    .dataframe thead th {\n",
       "        text-align: right;\n",
       "    }\n",
       "</style>\n",
       "<table border=\"1\" class=\"dataframe\">\n",
       "  <thead>\n",
       "    <tr style=\"text-align: right;\">\n",
       "      <th></th>\n",
       "      <th>lr1</th>\n",
       "      <th>RSquared</th>\n",
       "      <th>RMSE</th>\n",
       "      <th>MAE</th>\n",
       "    </tr>\n",
       "  </thead>\n",
       "  <tbody>\n",
       "    <tr>\n",
       "      <th>0</th>\n",
       "      <td>Train</td>\n",
       "      <td>0.580</td>\n",
       "      <td>6.060</td>\n",
       "      <td>4.702</td>\n",
       "    </tr>\n",
       "    <tr>\n",
       "      <th>1</th>\n",
       "      <td>Test</td>\n",
       "      <td>0.559</td>\n",
       "      <td>6.481</td>\n",
       "      <td>4.984</td>\n",
       "    </tr>\n",
       "  </tbody>\n",
       "</table>\n",
       "</div>"
      ],
      "text/plain": [
       "     lr1  RSquared   RMSE    MAE\n",
       "0  Train     0.580  6.060  4.702\n",
       "1   Test     0.559  6.481  4.984"
      ]
     },
     "metadata": {},
     "output_type": "display_data"
    },
    {
     "data": {
      "text/html": [
       "<div>\n",
       "<style scoped>\n",
       "    .dataframe tbody tr th:only-of-type {\n",
       "        vertical-align: middle;\n",
       "    }\n",
       "\n",
       "    .dataframe tbody tr th {\n",
       "        vertical-align: top;\n",
       "    }\n",
       "\n",
       "    .dataframe thead th {\n",
       "        text-align: right;\n",
       "    }\n",
       "</style>\n",
       "<table border=\"1\" class=\"dataframe\">\n",
       "  <thead>\n",
       "    <tr style=\"text-align: right;\">\n",
       "      <th></th>\n",
       "      <th>lr2</th>\n",
       "      <th>RSquared</th>\n",
       "      <th>RMSE</th>\n",
       "      <th>MAE</th>\n",
       "    </tr>\n",
       "  </thead>\n",
       "  <tbody>\n",
       "    <tr>\n",
       "      <th>0</th>\n",
       "      <td>Train</td>\n",
       "      <td>0.627</td>\n",
       "      <td>5.713</td>\n",
       "      <td>4.246</td>\n",
       "    </tr>\n",
       "    <tr>\n",
       "      <th>1</th>\n",
       "      <td>Test</td>\n",
       "      <td>0.627</td>\n",
       "      <td>5.966</td>\n",
       "      <td>4.508</td>\n",
       "    </tr>\n",
       "  </tbody>\n",
       "</table>\n",
       "</div>"
      ],
      "text/plain": [
       "     lr2  RSquared   RMSE    MAE\n",
       "0  Train     0.627  5.713  4.246\n",
       "1   Test     0.627  5.966  4.508"
      ]
     },
     "metadata": {},
     "output_type": "display_data"
    },
    {
     "data": {
      "text/html": [
       "<div>\n",
       "<style scoped>\n",
       "    .dataframe tbody tr th:only-of-type {\n",
       "        vertical-align: middle;\n",
       "    }\n",
       "\n",
       "    .dataframe tbody tr th {\n",
       "        vertical-align: top;\n",
       "    }\n",
       "\n",
       "    .dataframe thead th {\n",
       "        text-align: right;\n",
       "    }\n",
       "</style>\n",
       "<table border=\"1\" class=\"dataframe\">\n",
       "  <thead>\n",
       "    <tr style=\"text-align: right;\">\n",
       "      <th></th>\n",
       "      <th>dt1</th>\n",
       "      <th>RSquared</th>\n",
       "      <th>RMSE</th>\n",
       "      <th>MAE</th>\n",
       "    </tr>\n",
       "  </thead>\n",
       "  <tbody>\n",
       "    <tr>\n",
       "      <th>0</th>\n",
       "      <td>Train</td>\n",
       "      <td>0.916</td>\n",
       "      <td>2.707</td>\n",
       "      <td>1.515</td>\n",
       "    </tr>\n",
       "    <tr>\n",
       "      <th>1</th>\n",
       "      <td>Test</td>\n",
       "      <td>0.592</td>\n",
       "      <td>6.238</td>\n",
       "      <td>4.639</td>\n",
       "    </tr>\n",
       "  </tbody>\n",
       "</table>\n",
       "</div>"
      ],
      "text/plain": [
       "     dt1  RSquared   RMSE    MAE\n",
       "0  Train     0.916  2.707  1.515\n",
       "1   Test     0.592  6.238  4.639"
      ]
     },
     "metadata": {},
     "output_type": "display_data"
    },
    {
     "data": {
      "text/html": [
       "<div>\n",
       "<style scoped>\n",
       "    .dataframe tbody tr th:only-of-type {\n",
       "        vertical-align: middle;\n",
       "    }\n",
       "\n",
       "    .dataframe tbody tr th {\n",
       "        vertical-align: top;\n",
       "    }\n",
       "\n",
       "    .dataframe thead th {\n",
       "        text-align: right;\n",
       "    }\n",
       "</style>\n",
       "<table border=\"1\" class=\"dataframe\">\n",
       "  <thead>\n",
       "    <tr style=\"text-align: right;\">\n",
       "      <th></th>\n",
       "      <th>dt2</th>\n",
       "      <th>RSquared</th>\n",
       "      <th>RMSE</th>\n",
       "      <th>MAE</th>\n",
       "    </tr>\n",
       "  </thead>\n",
       "  <tbody>\n",
       "    <tr>\n",
       "      <th>0</th>\n",
       "      <td>Train</td>\n",
       "      <td>1.000</td>\n",
       "      <td>0.001</td>\n",
       "      <td>0.000</td>\n",
       "    </tr>\n",
       "    <tr>\n",
       "      <th>1</th>\n",
       "      <td>Test</td>\n",
       "      <td>0.718</td>\n",
       "      <td>5.189</td>\n",
       "      <td>3.742</td>\n",
       "    </tr>\n",
       "  </tbody>\n",
       "</table>\n",
       "</div>"
      ],
      "text/plain": [
       "     dt2  RSquared   RMSE    MAE\n",
       "0  Train     1.000  0.001  0.000\n",
       "1   Test     0.718  5.189  3.742"
      ]
     },
     "metadata": {},
     "output_type": "display_data"
    },
    {
     "data": {
      "text/html": [
       "<div>\n",
       "<style scoped>\n",
       "    .dataframe tbody tr th:only-of-type {\n",
       "        vertical-align: middle;\n",
       "    }\n",
       "\n",
       "    .dataframe tbody tr th {\n",
       "        vertical-align: top;\n",
       "    }\n",
       "\n",
       "    .dataframe thead th {\n",
       "        text-align: right;\n",
       "    }\n",
       "</style>\n",
       "<table border=\"1\" class=\"dataframe\">\n",
       "  <thead>\n",
       "    <tr style=\"text-align: right;\">\n",
       "      <th></th>\n",
       "      <th>dt1_p</th>\n",
       "      <th>RSquared</th>\n",
       "      <th>RMSE</th>\n",
       "      <th>MAE</th>\n",
       "    </tr>\n",
       "  </thead>\n",
       "  <tbody>\n",
       "    <tr>\n",
       "      <th>0</th>\n",
       "      <td>Train</td>\n",
       "      <td>0.735</td>\n",
       "      <td>4.811</td>\n",
       "      <td>3.673</td>\n",
       "    </tr>\n",
       "    <tr>\n",
       "      <th>1</th>\n",
       "      <td>Test</td>\n",
       "      <td>0.705</td>\n",
       "      <td>5.303</td>\n",
       "      <td>4.015</td>\n",
       "    </tr>\n",
       "  </tbody>\n",
       "</table>\n",
       "</div>"
      ],
      "text/plain": [
       "   dt1_p  RSquared   RMSE    MAE\n",
       "0  Train     0.735  4.811  3.673\n",
       "1   Test     0.705  5.303  4.015"
      ]
     },
     "metadata": {},
     "output_type": "display_data"
    },
    {
     "data": {
      "text/html": [
       "<div>\n",
       "<style scoped>\n",
       "    .dataframe tbody tr th:only-of-type {\n",
       "        vertical-align: middle;\n",
       "    }\n",
       "\n",
       "    .dataframe tbody tr th {\n",
       "        vertical-align: top;\n",
       "    }\n",
       "\n",
       "    .dataframe thead th {\n",
       "        text-align: right;\n",
       "    }\n",
       "</style>\n",
       "<table border=\"1\" class=\"dataframe\">\n",
       "  <thead>\n",
       "    <tr style=\"text-align: right;\">\n",
       "      <th></th>\n",
       "      <th>dt2_p</th>\n",
       "      <th>RSquared</th>\n",
       "      <th>RMSE</th>\n",
       "      <th>MAE</th>\n",
       "    </tr>\n",
       "  </thead>\n",
       "  <tbody>\n",
       "    <tr>\n",
       "      <th>0</th>\n",
       "      <td>Train</td>\n",
       "      <td>0.773</td>\n",
       "      <td>4.459</td>\n",
       "      <td>3.366</td>\n",
       "    </tr>\n",
       "    <tr>\n",
       "      <th>1</th>\n",
       "      <td>Test</td>\n",
       "      <td>0.751</td>\n",
       "      <td>4.872</td>\n",
       "      <td>3.627</td>\n",
       "    </tr>\n",
       "  </tbody>\n",
       "</table>\n",
       "</div>"
      ],
      "text/plain": [
       "   dt2_p  RSquared   RMSE    MAE\n",
       "0  Train     0.773  4.459  3.366\n",
       "1   Test     0.751  4.872  3.627"
      ]
     },
     "metadata": {},
     "output_type": "display_data"
    },
    {
     "data": {
      "text/html": [
       "<div>\n",
       "<style scoped>\n",
       "    .dataframe tbody tr th:only-of-type {\n",
       "        vertical-align: middle;\n",
       "    }\n",
       "\n",
       "    .dataframe tbody tr th {\n",
       "        vertical-align: top;\n",
       "    }\n",
       "\n",
       "    .dataframe thead th {\n",
       "        text-align: right;\n",
       "    }\n",
       "</style>\n",
       "<table border=\"1\" class=\"dataframe\">\n",
       "  <thead>\n",
       "    <tr style=\"text-align: right;\">\n",
       "      <th></th>\n",
       "      <th>rf1</th>\n",
       "      <th>RSquared</th>\n",
       "      <th>RMSE</th>\n",
       "      <th>MAE</th>\n",
       "    </tr>\n",
       "  </thead>\n",
       "  <tbody>\n",
       "    <tr>\n",
       "      <th>0</th>\n",
       "      <td>Train</td>\n",
       "      <td>0.739</td>\n",
       "      <td>4.773</td>\n",
       "      <td>3.644</td>\n",
       "    </tr>\n",
       "    <tr>\n",
       "      <th>1</th>\n",
       "      <td>Test</td>\n",
       "      <td>0.709</td>\n",
       "      <td>5.269</td>\n",
       "      <td>3.987</td>\n",
       "    </tr>\n",
       "  </tbody>\n",
       "</table>\n",
       "</div>"
      ],
      "text/plain": [
       "     rf1  RSquared   RMSE    MAE\n",
       "0  Train     0.739  4.773  3.644\n",
       "1   Test     0.709  5.269  3.987"
      ]
     },
     "metadata": {},
     "output_type": "display_data"
    },
    {
     "data": {
      "text/html": [
       "<div>\n",
       "<style scoped>\n",
       "    .dataframe tbody tr th:only-of-type {\n",
       "        vertical-align: middle;\n",
       "    }\n",
       "\n",
       "    .dataframe tbody tr th {\n",
       "        vertical-align: top;\n",
       "    }\n",
       "\n",
       "    .dataframe thead th {\n",
       "        text-align: right;\n",
       "    }\n",
       "</style>\n",
       "<table border=\"1\" class=\"dataframe\">\n",
       "  <thead>\n",
       "    <tr style=\"text-align: right;\">\n",
       "      <th></th>\n",
       "      <th>rf2</th>\n",
       "      <th>RSquared</th>\n",
       "      <th>RMSE</th>\n",
       "      <th>MAE</th>\n",
       "    </tr>\n",
       "  </thead>\n",
       "  <tbody>\n",
       "    <tr>\n",
       "      <th>0</th>\n",
       "      <td>Train</td>\n",
       "      <td>0.778</td>\n",
       "      <td>4.403</td>\n",
       "      <td>3.317</td>\n",
       "    </tr>\n",
       "    <tr>\n",
       "      <th>1</th>\n",
       "      <td>Test</td>\n",
       "      <td>0.756</td>\n",
       "      <td>4.820</td>\n",
       "      <td>3.581</td>\n",
       "    </tr>\n",
       "  </tbody>\n",
       "</table>\n",
       "</div>"
      ],
      "text/plain": [
       "     rf2  RSquared   RMSE    MAE\n",
       "0  Train     0.778  4.403  3.317\n",
       "1   Test     0.756  4.820  3.581"
      ]
     },
     "metadata": {},
     "output_type": "display_data"
    }
   ],
   "source": [
    "rf2Performance = model_pref(rf2, X_train2, X_test2,y_train2,y_test2, 'rf2')\n",
    "\n",
    "display(lr1Performance, lr2Performance,\n",
    "        dt1Performance, dt2Performance,\n",
    "        dt1_pPerformance, dt2_pPerformance,\n",
    "        rf1Performance, rf2Performance)"
   ]
  },
  {
   "cell_type": "markdown",
   "metadata": {},
   "source": [
    "**Write your answers here:**\n",
    "- The score for this model(`rf2`) with more transform primitive is `~75%`. \n",
    "- When compared to its predecesor(`rf1`), the score has improved, as well as when compared to the previous model(`dt2_p`)\n",
    "- **This is currently the best performing model of the bunch**."
   ]
  },
  {
   "cell_type": "markdown",
   "metadata": {},
   "source": [
    "### Question 5.7: Comment on how the modeling accuracy differs when including more transform features."
   ]
  },
  {
   "cell_type": "markdown",
   "metadata": {},
   "source": [
    "**Write your answers here:**\n",
    "- When buiding our models with mode transform feature (with the current parameters), we observe an increase in performance across the board. This inidcates that including more transfom features makes a big improvement and it was worth testing."
   ]
  },
  {
   "cell_type": "markdown",
   "metadata": {},
   "source": [
    "### Step 5: Add Aggregation Primitives\n",
    "\n",
    "Now let's add aggregation primitives. These primitives will generate features for the parent entities ``pickup_neighborhoods``, and ``dropoff_neighborhood`` and then add them to the `trips` entity, which is the entity for which we are trying to make predictions."
   ]
  },
  {
   "cell_type": "markdown",
   "metadata": {},
   "source": [
    "### Question 6: Create models with transform and aggregate primitive. (10 Marks)\n",
    "#### 6.1 Define more transform and aggregate primitive and define features using dfs"
   ]
  },
  {
   "cell_type": "code",
   "execution_count": 66,
   "metadata": {
    "ExecuteTime": {
     "end_time": "2021-07-15T12:59:43.977607Z",
     "start_time": "2021-07-15T12:59:41.353328Z"
    }
   },
   "outputs": [],
   "source": [
    "trans_primitives = [Minute, Hour, Day, Month, Weekday, IsWeekend]\n",
    "aggregation_primitives = [Count, Sum, Mean, Median, Std, Max, Min]\n",
    "\n",
    "features = ft.dfs(entities=entities,\n",
    "                  relationships=relationships,\n",
    "                  target_entity=\"trips\",\n",
    "                  trans_primitives=trans_primitives,\n",
    "                  agg_primitives=aggregation_primitives,\n",
    "                  ignore_variables={\"trips\": [\"pickup_latitude\", \"pickup_longitude\",\n",
    "                                              \"dropoff_latitude\", \"dropoff_longitude\"]},\n",
    "                  features_only=True)"
   ]
  },
  {
   "cell_type": "code",
   "execution_count": 67,
   "metadata": {
    "ExecuteTime": {
     "end_time": "2021-07-15T12:59:45.888070Z",
     "start_time": "2021-07-15T12:59:45.782499Z"
    },
    "scrolled": false
   },
   "outputs": [
    {
     "name": "stdout",
     "output_type": "stream",
     "text": [
      "Number of features: 61\n"
     ]
    },
    {
     "data": {
      "text/plain": [
       "[<Feature: vendor_id>,\n",
       " <Feature: passenger_count>,\n",
       " <Feature: trip_distance>,\n",
       " <Feature: payment_type>,\n",
       " <Feature: trip_duration>,\n",
       " <Feature: pickup_neighborhood>,\n",
       " <Feature: dropoff_neighborhood>,\n",
       " <Feature: DAY(dropoff_datetime)>,\n",
       " <Feature: DAY(pickup_datetime)>,\n",
       " <Feature: HOUR(dropoff_datetime)>,\n",
       " <Feature: HOUR(pickup_datetime)>,\n",
       " <Feature: IS_WEEKEND(dropoff_datetime)>,\n",
       " <Feature: IS_WEEKEND(pickup_datetime)>,\n",
       " <Feature: MINUTE(dropoff_datetime)>,\n",
       " <Feature: MINUTE(pickup_datetime)>,\n",
       " <Feature: MONTH(dropoff_datetime)>,\n",
       " <Feature: MONTH(pickup_datetime)>,\n",
       " <Feature: WEEKDAY(dropoff_datetime)>,\n",
       " <Feature: WEEKDAY(pickup_datetime)>,\n",
       " <Feature: pickup_neighborhoods.latitude>,\n",
       " <Feature: pickup_neighborhoods.longitude>,\n",
       " <Feature: dropoff_neighborhoods.latitude>,\n",
       " <Feature: dropoff_neighborhoods.longitude>,\n",
       " <Feature: pickup_neighborhoods.COUNT(trips)>,\n",
       " <Feature: pickup_neighborhoods.MAX(trips.passenger_count)>,\n",
       " <Feature: pickup_neighborhoods.MAX(trips.trip_distance)>,\n",
       " <Feature: pickup_neighborhoods.MAX(trips.trip_duration)>,\n",
       " <Feature: pickup_neighborhoods.MEAN(trips.passenger_count)>,\n",
       " <Feature: pickup_neighborhoods.MEAN(trips.trip_distance)>,\n",
       " <Feature: pickup_neighborhoods.MEAN(trips.trip_duration)>,\n",
       " <Feature: pickup_neighborhoods.MEDIAN(trips.passenger_count)>,\n",
       " <Feature: pickup_neighborhoods.MEDIAN(trips.trip_distance)>,\n",
       " <Feature: pickup_neighborhoods.MEDIAN(trips.trip_duration)>,\n",
       " <Feature: pickup_neighborhoods.MIN(trips.passenger_count)>,\n",
       " <Feature: pickup_neighborhoods.MIN(trips.trip_distance)>,\n",
       " <Feature: pickup_neighborhoods.MIN(trips.trip_duration)>,\n",
       " <Feature: pickup_neighborhoods.STD(trips.passenger_count)>,\n",
       " <Feature: pickup_neighborhoods.STD(trips.trip_distance)>,\n",
       " <Feature: pickup_neighborhoods.STD(trips.trip_duration)>,\n",
       " <Feature: pickup_neighborhoods.SUM(trips.passenger_count)>,\n",
       " <Feature: pickup_neighborhoods.SUM(trips.trip_distance)>,\n",
       " <Feature: pickup_neighborhoods.SUM(trips.trip_duration)>,\n",
       " <Feature: dropoff_neighborhoods.COUNT(trips)>,\n",
       " <Feature: dropoff_neighborhoods.MAX(trips.passenger_count)>,\n",
       " <Feature: dropoff_neighborhoods.MAX(trips.trip_distance)>,\n",
       " <Feature: dropoff_neighborhoods.MAX(trips.trip_duration)>,\n",
       " <Feature: dropoff_neighborhoods.MEAN(trips.passenger_count)>,\n",
       " <Feature: dropoff_neighborhoods.MEAN(trips.trip_distance)>,\n",
       " <Feature: dropoff_neighborhoods.MEAN(trips.trip_duration)>,\n",
       " <Feature: dropoff_neighborhoods.MEDIAN(trips.passenger_count)>,\n",
       " <Feature: dropoff_neighborhoods.MEDIAN(trips.trip_distance)>,\n",
       " <Feature: dropoff_neighborhoods.MEDIAN(trips.trip_duration)>,\n",
       " <Feature: dropoff_neighborhoods.MIN(trips.passenger_count)>,\n",
       " <Feature: dropoff_neighborhoods.MIN(trips.trip_distance)>,\n",
       " <Feature: dropoff_neighborhoods.MIN(trips.trip_duration)>,\n",
       " <Feature: dropoff_neighborhoods.STD(trips.passenger_count)>,\n",
       " <Feature: dropoff_neighborhoods.STD(trips.trip_distance)>,\n",
       " <Feature: dropoff_neighborhoods.STD(trips.trip_duration)>,\n",
       " <Feature: dropoff_neighborhoods.SUM(trips.passenger_count)>,\n",
       " <Feature: dropoff_neighborhoods.SUM(trips.trip_distance)>,\n",
       " <Feature: dropoff_neighborhoods.SUM(trips.trip_duration)>]"
      ]
     },
     "execution_count": 67,
     "metadata": {},
     "output_type": "execute_result"
    }
   ],
   "source": [
    "print (\"Number of features: %d\" % len(features))\n",
    "features"
   ]
  },
  {
   "cell_type": "markdown",
   "metadata": {},
   "source": [
    "#### Question: 6.2 Compute features and define feature matrix"
   ]
  },
  {
   "cell_type": "code",
   "execution_count": 68,
   "metadata": {
    "ExecuteTime": {
     "end_time": "2021-07-09T11:13:54.617340Z",
     "start_time": "2021-07-09T11:13:28.226824Z"
    }
   },
   "outputs": [
    {
     "name": "stdout",
     "output_type": "stream",
     "text": [
      "Elapsed: 00:14 | Progress: 100%|██████████\n",
      "Finishing computing...\n"
     ]
    }
   ],
   "source": [
    "feature_matrix3 = compute_features(features, cutoff_time)"
   ]
  },
  {
   "cell_type": "code",
   "execution_count": 69,
   "metadata": {
    "ExecuteTime": {
     "end_time": "2021-07-09T11:14:02.858716Z",
     "start_time": "2021-07-09T11:14:02.439924Z"
    }
   },
   "outputs": [
    {
     "data": {
      "text/html": [
       "<div>\n",
       "<style scoped>\n",
       "    .dataframe tbody tr th:only-of-type {\n",
       "        vertical-align: middle;\n",
       "    }\n",
       "\n",
       "    .dataframe tbody tr th {\n",
       "        vertical-align: top;\n",
       "    }\n",
       "\n",
       "    .dataframe thead th {\n",
       "        text-align: right;\n",
       "    }\n",
       "</style>\n",
       "<table border=\"1\" class=\"dataframe\">\n",
       "  <thead>\n",
       "    <tr style=\"text-align: right;\">\n",
       "      <th>id</th>\n",
       "      <th>56311</th>\n",
       "      <th>56312</th>\n",
       "      <th>56313</th>\n",
       "      <th>56314</th>\n",
       "      <th>56315</th>\n",
       "    </tr>\n",
       "  </thead>\n",
       "  <tbody>\n",
       "    <tr>\n",
       "      <th>dropoff_neighborhoods.MAX(trips.passenger_count)</th>\n",
       "      <td>6</td>\n",
       "      <td>6</td>\n",
       "      <td>6</td>\n",
       "      <td>6</td>\n",
       "      <td>6</td>\n",
       "    </tr>\n",
       "    <tr>\n",
       "      <th>dropoff_neighborhoods.SUM(trips.trip_distance)</th>\n",
       "      <td>3380.99</td>\n",
       "      <td>3649.84</td>\n",
       "      <td>2489.35</td>\n",
       "      <td>3609.21</td>\n",
       "      <td>2489.35</td>\n",
       "    </tr>\n",
       "    <tr>\n",
       "      <th>dropoff_neighborhoods.STD(trips.passenger_count)</th>\n",
       "      <td>1.305519</td>\n",
       "      <td>1.338534</td>\n",
       "      <td>1.285643</td>\n",
       "      <td>1.376742</td>\n",
       "      <td>1.285643</td>\n",
       "    </tr>\n",
       "    <tr>\n",
       "      <th>pickup_neighborhoods.MEDIAN(trips.trip_distance)</th>\n",
       "      <td>2.475</td>\n",
       "      <td>17.52</td>\n",
       "      <td>1.8</td>\n",
       "      <td>1.6</td>\n",
       "      <td>1.6</td>\n",
       "    </tr>\n",
       "    <tr>\n",
       "      <th>WEEKDAY(pickup_datetime)</th>\n",
       "      <td>1</td>\n",
       "      <td>1</td>\n",
       "      <td>1</td>\n",
       "      <td>1</td>\n",
       "      <td>1</td>\n",
       "    </tr>\n",
       "    <tr>\n",
       "      <th>...</th>\n",
       "      <td>...</td>\n",
       "      <td>...</td>\n",
       "      <td>...</td>\n",
       "      <td>...</td>\n",
       "      <td>...</td>\n",
       "    </tr>\n",
       "    <tr>\n",
       "      <th>pickup_neighborhoods.MAX(trips.trip_distance)</th>\n",
       "      <td>18.57</td>\n",
       "      <td>32.3</td>\n",
       "      <td>18.5</td>\n",
       "      <td>18.3</td>\n",
       "      <td>20.3</td>\n",
       "    </tr>\n",
       "    <tr>\n",
       "      <th>MINUTE(dropoff_datetime)</th>\n",
       "      <td>11</td>\n",
       "      <td>23</td>\n",
       "      <td>5</td>\n",
       "      <td>6</td>\n",
       "      <td>13</td>\n",
       "    </tr>\n",
       "    <tr>\n",
       "      <th>dropoff_neighborhoods.MEAN(trips.trip_duration)</th>\n",
       "      <td>778.764842</td>\n",
       "      <td>1040.469636</td>\n",
       "      <td>941.165029</td>\n",
       "      <td>571.123111</td>\n",
       "      <td>941.165029</td>\n",
       "    </tr>\n",
       "    <tr>\n",
       "      <th>pickup_neighborhoods.MEAN(trips.trip_distance)</th>\n",
       "      <td>3.012473</td>\n",
       "      <td>15.858882</td>\n",
       "      <td>2.897559</td>\n",
       "      <td>2.288295</td>\n",
       "      <td>2.147905</td>\n",
       "    </tr>\n",
       "    <tr>\n",
       "      <th>dropoff_neighborhoods.MEAN(trips.passenger_count)</th>\n",
       "      <td>1.713955</td>\n",
       "      <td>1.724696</td>\n",
       "      <td>1.732809</td>\n",
       "      <td>1.721321</td>\n",
       "      <td>1.732809</td>\n",
       "    </tr>\n",
       "  </tbody>\n",
       "</table>\n",
       "<p>79 rows × 5 columns</p>\n",
       "</div>"
      ],
      "text/plain": [
       "id                                                      56311        56312  \\\n",
       "dropoff_neighborhoods.MAX(trips.passenger_count)            6            6   \n",
       "dropoff_neighborhoods.SUM(trips.trip_distance)        3380.99      3649.84   \n",
       "dropoff_neighborhoods.STD(trips.passenger_count)     1.305519     1.338534   \n",
       "pickup_neighborhoods.MEDIAN(trips.trip_distance)        2.475        17.52   \n",
       "WEEKDAY(pickup_datetime)                                    1            1   \n",
       "...                                                       ...          ...   \n",
       "pickup_neighborhoods.MAX(trips.trip_distance)           18.57         32.3   \n",
       "MINUTE(dropoff_datetime)                                   11           23   \n",
       "dropoff_neighborhoods.MEAN(trips.trip_duration)    778.764842  1040.469636   \n",
       "pickup_neighborhoods.MEAN(trips.trip_distance)       3.012473    15.858882   \n",
       "dropoff_neighborhoods.MEAN(trips.passenger_count)    1.713955     1.724696   \n",
       "\n",
       "id                                                      56313       56314  \\\n",
       "dropoff_neighborhoods.MAX(trips.passenger_count)            6           6   \n",
       "dropoff_neighborhoods.SUM(trips.trip_distance)        2489.35     3609.21   \n",
       "dropoff_neighborhoods.STD(trips.passenger_count)     1.285643    1.376742   \n",
       "pickup_neighborhoods.MEDIAN(trips.trip_distance)          1.8         1.6   \n",
       "WEEKDAY(pickup_datetime)                                    1           1   \n",
       "...                                                       ...         ...   \n",
       "pickup_neighborhoods.MAX(trips.trip_distance)            18.5        18.3   \n",
       "MINUTE(dropoff_datetime)                                    5           6   \n",
       "dropoff_neighborhoods.MEAN(trips.trip_duration)    941.165029  571.123111   \n",
       "pickup_neighborhoods.MEAN(trips.trip_distance)       2.897559    2.288295   \n",
       "dropoff_neighborhoods.MEAN(trips.passenger_count)    1.732809    1.721321   \n",
       "\n",
       "id                                                      56315  \n",
       "dropoff_neighborhoods.MAX(trips.passenger_count)            6  \n",
       "dropoff_neighborhoods.SUM(trips.trip_distance)        2489.35  \n",
       "dropoff_neighborhoods.STD(trips.passenger_count)     1.285643  \n",
       "pickup_neighborhoods.MEDIAN(trips.trip_distance)          1.6  \n",
       "WEEKDAY(pickup_datetime)                                    1  \n",
       "...                                                       ...  \n",
       "pickup_neighborhoods.MAX(trips.trip_distance)            20.3  \n",
       "MINUTE(dropoff_datetime)                                   13  \n",
       "dropoff_neighborhoods.MEAN(trips.trip_duration)    941.165029  \n",
       "pickup_neighborhoods.MEAN(trips.trip_distance)       2.147905  \n",
       "dropoff_neighborhoods.MEAN(trips.passenger_count)    1.732809  \n",
       "\n",
       "[79 rows x 5 columns]"
      ]
     },
     "execution_count": 69,
     "metadata": {},
     "output_type": "execute_result"
    }
   ],
   "source": [
    "feature_matrix3.head().T"
   ]
  },
  {
   "cell_type": "markdown",
   "metadata": {},
   "source": [
    "### Build the new models with more transform and aggregate features"
   ]
  },
  {
   "cell_type": "code",
   "execution_count": 70,
   "metadata": {
    "ExecuteTime": {
     "end_time": "2021-07-09T11:14:41.627956Z",
     "start_time": "2021-07-09T11:14:07.052570Z"
    }
   },
   "outputs": [],
   "source": [
    "# separates the whole feature matrix into train data feature matrix,\n",
    "# train data labels, and test data feature matrix \n",
    "X_train3, y_train3, X_test3, y_test3 = get_train_test_fm(feature_matrix3,.75)\n",
    "y_train3 = np.sqrt(y_train3)\n",
    "y_test3 = np.sqrt(y_test3)"
   ]
  },
  {
   "cell_type": "markdown",
   "metadata": {},
   "source": [
    "#### Question 6.3 Building  Linear regression model with transform and aggregate primitive."
   ]
  },
  {
   "cell_type": "code",
   "execution_count": 71,
   "metadata": {},
   "outputs": [
    {
     "data": {
      "text/plain": [
       "LinearRegression()"
      ]
     },
     "execution_count": 71,
     "metadata": {},
     "output_type": "execute_result"
    }
   ],
   "source": [
    "#defining the model\n",
    "\n",
    "lr3=LinearRegression()\n",
    "\n",
    "#fitting the model\n",
    "lr3.fit(X_train3,y_train3)\n"
   ]
  },
  {
   "cell_type": "markdown",
   "metadata": {},
   "source": [
    "#### Check the performance of the model"
   ]
  },
  {
   "cell_type": "code",
   "execution_count": 72,
   "metadata": {},
   "outputs": [
    {
     "data": {
      "text/html": [
       "<div>\n",
       "<style scoped>\n",
       "    .dataframe tbody tr th:only-of-type {\n",
       "        vertical-align: middle;\n",
       "    }\n",
       "\n",
       "    .dataframe tbody tr th {\n",
       "        vertical-align: top;\n",
       "    }\n",
       "\n",
       "    .dataframe thead th {\n",
       "        text-align: right;\n",
       "    }\n",
       "</style>\n",
       "<table border=\"1\" class=\"dataframe\">\n",
       "  <thead>\n",
       "    <tr style=\"text-align: right;\">\n",
       "      <th></th>\n",
       "      <th>lr1</th>\n",
       "      <th>RSquared</th>\n",
       "      <th>RMSE</th>\n",
       "      <th>MAE</th>\n",
       "    </tr>\n",
       "  </thead>\n",
       "  <tbody>\n",
       "    <tr>\n",
       "      <th>0</th>\n",
       "      <td>Train</td>\n",
       "      <td>0.580</td>\n",
       "      <td>6.060</td>\n",
       "      <td>4.702</td>\n",
       "    </tr>\n",
       "    <tr>\n",
       "      <th>1</th>\n",
       "      <td>Test</td>\n",
       "      <td>0.559</td>\n",
       "      <td>6.481</td>\n",
       "      <td>4.984</td>\n",
       "    </tr>\n",
       "  </tbody>\n",
       "</table>\n",
       "</div>"
      ],
      "text/plain": [
       "     lr1  RSquared   RMSE    MAE\n",
       "0  Train     0.580  6.060  4.702\n",
       "1   Test     0.559  6.481  4.984"
      ]
     },
     "metadata": {},
     "output_type": "display_data"
    },
    {
     "data": {
      "text/html": [
       "<div>\n",
       "<style scoped>\n",
       "    .dataframe tbody tr th:only-of-type {\n",
       "        vertical-align: middle;\n",
       "    }\n",
       "\n",
       "    .dataframe tbody tr th {\n",
       "        vertical-align: top;\n",
       "    }\n",
       "\n",
       "    .dataframe thead th {\n",
       "        text-align: right;\n",
       "    }\n",
       "</style>\n",
       "<table border=\"1\" class=\"dataframe\">\n",
       "  <thead>\n",
       "    <tr style=\"text-align: right;\">\n",
       "      <th></th>\n",
       "      <th>lr2</th>\n",
       "      <th>RSquared</th>\n",
       "      <th>RMSE</th>\n",
       "      <th>MAE</th>\n",
       "    </tr>\n",
       "  </thead>\n",
       "  <tbody>\n",
       "    <tr>\n",
       "      <th>0</th>\n",
       "      <td>Train</td>\n",
       "      <td>0.627</td>\n",
       "      <td>5.713</td>\n",
       "      <td>4.246</td>\n",
       "    </tr>\n",
       "    <tr>\n",
       "      <th>1</th>\n",
       "      <td>Test</td>\n",
       "      <td>0.627</td>\n",
       "      <td>5.966</td>\n",
       "      <td>4.508</td>\n",
       "    </tr>\n",
       "  </tbody>\n",
       "</table>\n",
       "</div>"
      ],
      "text/plain": [
       "     lr2  RSquared   RMSE    MAE\n",
       "0  Train     0.627  5.713  4.246\n",
       "1   Test     0.627  5.966  4.508"
      ]
     },
     "metadata": {},
     "output_type": "display_data"
    },
    {
     "data": {
      "text/html": [
       "<div>\n",
       "<style scoped>\n",
       "    .dataframe tbody tr th:only-of-type {\n",
       "        vertical-align: middle;\n",
       "    }\n",
       "\n",
       "    .dataframe tbody tr th {\n",
       "        vertical-align: top;\n",
       "    }\n",
       "\n",
       "    .dataframe thead th {\n",
       "        text-align: right;\n",
       "    }\n",
       "</style>\n",
       "<table border=\"1\" class=\"dataframe\">\n",
       "  <thead>\n",
       "    <tr style=\"text-align: right;\">\n",
       "      <th></th>\n",
       "      <th>lr3</th>\n",
       "      <th>RSquared</th>\n",
       "      <th>RMSE</th>\n",
       "      <th>MAE</th>\n",
       "    </tr>\n",
       "  </thead>\n",
       "  <tbody>\n",
       "    <tr>\n",
       "      <th>0</th>\n",
       "      <td>Train</td>\n",
       "      <td>0.648</td>\n",
       "      <td>5.547</td>\n",
       "      <td>4.097</td>\n",
       "    </tr>\n",
       "    <tr>\n",
       "      <th>1</th>\n",
       "      <td>Test</td>\n",
       "      <td>0.645</td>\n",
       "      <td>5.814</td>\n",
       "      <td>4.365</td>\n",
       "    </tr>\n",
       "  </tbody>\n",
       "</table>\n",
       "</div>"
      ],
      "text/plain": [
       "     lr3  RSquared   RMSE    MAE\n",
       "0  Train     0.648  5.547  4.097\n",
       "1   Test     0.645  5.814  4.365"
      ]
     },
     "metadata": {},
     "output_type": "display_data"
    },
    {
     "data": {
      "text/html": [
       "<div>\n",
       "<style scoped>\n",
       "    .dataframe tbody tr th:only-of-type {\n",
       "        vertical-align: middle;\n",
       "    }\n",
       "\n",
       "    .dataframe tbody tr th {\n",
       "        vertical-align: top;\n",
       "    }\n",
       "\n",
       "    .dataframe thead th {\n",
       "        text-align: right;\n",
       "    }\n",
       "</style>\n",
       "<table border=\"1\" class=\"dataframe\">\n",
       "  <thead>\n",
       "    <tr style=\"text-align: right;\">\n",
       "      <th></th>\n",
       "      <th>dt1</th>\n",
       "      <th>RSquared</th>\n",
       "      <th>RMSE</th>\n",
       "      <th>MAE</th>\n",
       "    </tr>\n",
       "  </thead>\n",
       "  <tbody>\n",
       "    <tr>\n",
       "      <th>0</th>\n",
       "      <td>Train</td>\n",
       "      <td>0.916</td>\n",
       "      <td>2.707</td>\n",
       "      <td>1.515</td>\n",
       "    </tr>\n",
       "    <tr>\n",
       "      <th>1</th>\n",
       "      <td>Test</td>\n",
       "      <td>0.592</td>\n",
       "      <td>6.238</td>\n",
       "      <td>4.639</td>\n",
       "    </tr>\n",
       "  </tbody>\n",
       "</table>\n",
       "</div>"
      ],
      "text/plain": [
       "     dt1  RSquared   RMSE    MAE\n",
       "0  Train     0.916  2.707  1.515\n",
       "1   Test     0.592  6.238  4.639"
      ]
     },
     "metadata": {},
     "output_type": "display_data"
    },
    {
     "data": {
      "text/html": [
       "<div>\n",
       "<style scoped>\n",
       "    .dataframe tbody tr th:only-of-type {\n",
       "        vertical-align: middle;\n",
       "    }\n",
       "\n",
       "    .dataframe tbody tr th {\n",
       "        vertical-align: top;\n",
       "    }\n",
       "\n",
       "    .dataframe thead th {\n",
       "        text-align: right;\n",
       "    }\n",
       "</style>\n",
       "<table border=\"1\" class=\"dataframe\">\n",
       "  <thead>\n",
       "    <tr style=\"text-align: right;\">\n",
       "      <th></th>\n",
       "      <th>dt2</th>\n",
       "      <th>RSquared</th>\n",
       "      <th>RMSE</th>\n",
       "      <th>MAE</th>\n",
       "    </tr>\n",
       "  </thead>\n",
       "  <tbody>\n",
       "    <tr>\n",
       "      <th>0</th>\n",
       "      <td>Train</td>\n",
       "      <td>1.000</td>\n",
       "      <td>0.001</td>\n",
       "      <td>0.000</td>\n",
       "    </tr>\n",
       "    <tr>\n",
       "      <th>1</th>\n",
       "      <td>Test</td>\n",
       "      <td>0.718</td>\n",
       "      <td>5.189</td>\n",
       "      <td>3.742</td>\n",
       "    </tr>\n",
       "  </tbody>\n",
       "</table>\n",
       "</div>"
      ],
      "text/plain": [
       "     dt2  RSquared   RMSE    MAE\n",
       "0  Train     1.000  0.001  0.000\n",
       "1   Test     0.718  5.189  3.742"
      ]
     },
     "metadata": {},
     "output_type": "display_data"
    },
    {
     "data": {
      "text/html": [
       "<div>\n",
       "<style scoped>\n",
       "    .dataframe tbody tr th:only-of-type {\n",
       "        vertical-align: middle;\n",
       "    }\n",
       "\n",
       "    .dataframe tbody tr th {\n",
       "        vertical-align: top;\n",
       "    }\n",
       "\n",
       "    .dataframe thead th {\n",
       "        text-align: right;\n",
       "    }\n",
       "</style>\n",
       "<table border=\"1\" class=\"dataframe\">\n",
       "  <thead>\n",
       "    <tr style=\"text-align: right;\">\n",
       "      <th></th>\n",
       "      <th>dt1_p</th>\n",
       "      <th>RSquared</th>\n",
       "      <th>RMSE</th>\n",
       "      <th>MAE</th>\n",
       "    </tr>\n",
       "  </thead>\n",
       "  <tbody>\n",
       "    <tr>\n",
       "      <th>0</th>\n",
       "      <td>Train</td>\n",
       "      <td>0.735</td>\n",
       "      <td>4.811</td>\n",
       "      <td>3.673</td>\n",
       "    </tr>\n",
       "    <tr>\n",
       "      <th>1</th>\n",
       "      <td>Test</td>\n",
       "      <td>0.705</td>\n",
       "      <td>5.303</td>\n",
       "      <td>4.015</td>\n",
       "    </tr>\n",
       "  </tbody>\n",
       "</table>\n",
       "</div>"
      ],
      "text/plain": [
       "   dt1_p  RSquared   RMSE    MAE\n",
       "0  Train     0.735  4.811  3.673\n",
       "1   Test     0.705  5.303  4.015"
      ]
     },
     "metadata": {},
     "output_type": "display_data"
    },
    {
     "data": {
      "text/html": [
       "<div>\n",
       "<style scoped>\n",
       "    .dataframe tbody tr th:only-of-type {\n",
       "        vertical-align: middle;\n",
       "    }\n",
       "\n",
       "    .dataframe tbody tr th {\n",
       "        vertical-align: top;\n",
       "    }\n",
       "\n",
       "    .dataframe thead th {\n",
       "        text-align: right;\n",
       "    }\n",
       "</style>\n",
       "<table border=\"1\" class=\"dataframe\">\n",
       "  <thead>\n",
       "    <tr style=\"text-align: right;\">\n",
       "      <th></th>\n",
       "      <th>dt2_p</th>\n",
       "      <th>RSquared</th>\n",
       "      <th>RMSE</th>\n",
       "      <th>MAE</th>\n",
       "    </tr>\n",
       "  </thead>\n",
       "  <tbody>\n",
       "    <tr>\n",
       "      <th>0</th>\n",
       "      <td>Train</td>\n",
       "      <td>0.773</td>\n",
       "      <td>4.459</td>\n",
       "      <td>3.366</td>\n",
       "    </tr>\n",
       "    <tr>\n",
       "      <th>1</th>\n",
       "      <td>Test</td>\n",
       "      <td>0.751</td>\n",
       "      <td>4.872</td>\n",
       "      <td>3.627</td>\n",
       "    </tr>\n",
       "  </tbody>\n",
       "</table>\n",
       "</div>"
      ],
      "text/plain": [
       "   dt2_p  RSquared   RMSE    MAE\n",
       "0  Train     0.773  4.459  3.366\n",
       "1   Test     0.751  4.872  3.627"
      ]
     },
     "metadata": {},
     "output_type": "display_data"
    },
    {
     "data": {
      "text/html": [
       "<div>\n",
       "<style scoped>\n",
       "    .dataframe tbody tr th:only-of-type {\n",
       "        vertical-align: middle;\n",
       "    }\n",
       "\n",
       "    .dataframe tbody tr th {\n",
       "        vertical-align: top;\n",
       "    }\n",
       "\n",
       "    .dataframe thead th {\n",
       "        text-align: right;\n",
       "    }\n",
       "</style>\n",
       "<table border=\"1\" class=\"dataframe\">\n",
       "  <thead>\n",
       "    <tr style=\"text-align: right;\">\n",
       "      <th></th>\n",
       "      <th>rf1</th>\n",
       "      <th>RSquared</th>\n",
       "      <th>RMSE</th>\n",
       "      <th>MAE</th>\n",
       "    </tr>\n",
       "  </thead>\n",
       "  <tbody>\n",
       "    <tr>\n",
       "      <th>0</th>\n",
       "      <td>Train</td>\n",
       "      <td>0.739</td>\n",
       "      <td>4.773</td>\n",
       "      <td>3.644</td>\n",
       "    </tr>\n",
       "    <tr>\n",
       "      <th>1</th>\n",
       "      <td>Test</td>\n",
       "      <td>0.709</td>\n",
       "      <td>5.269</td>\n",
       "      <td>3.987</td>\n",
       "    </tr>\n",
       "  </tbody>\n",
       "</table>\n",
       "</div>"
      ],
      "text/plain": [
       "     rf1  RSquared   RMSE    MAE\n",
       "0  Train     0.739  4.773  3.644\n",
       "1   Test     0.709  5.269  3.987"
      ]
     },
     "metadata": {},
     "output_type": "display_data"
    },
    {
     "data": {
      "text/html": [
       "<div>\n",
       "<style scoped>\n",
       "    .dataframe tbody tr th:only-of-type {\n",
       "        vertical-align: middle;\n",
       "    }\n",
       "\n",
       "    .dataframe tbody tr th {\n",
       "        vertical-align: top;\n",
       "    }\n",
       "\n",
       "    .dataframe thead th {\n",
       "        text-align: right;\n",
       "    }\n",
       "</style>\n",
       "<table border=\"1\" class=\"dataframe\">\n",
       "  <thead>\n",
       "    <tr style=\"text-align: right;\">\n",
       "      <th></th>\n",
       "      <th>rf2</th>\n",
       "      <th>RSquared</th>\n",
       "      <th>RMSE</th>\n",
       "      <th>MAE</th>\n",
       "    </tr>\n",
       "  </thead>\n",
       "  <tbody>\n",
       "    <tr>\n",
       "      <th>0</th>\n",
       "      <td>Train</td>\n",
       "      <td>0.778</td>\n",
       "      <td>4.403</td>\n",
       "      <td>3.317</td>\n",
       "    </tr>\n",
       "    <tr>\n",
       "      <th>1</th>\n",
       "      <td>Test</td>\n",
       "      <td>0.756</td>\n",
       "      <td>4.820</td>\n",
       "      <td>3.581</td>\n",
       "    </tr>\n",
       "  </tbody>\n",
       "</table>\n",
       "</div>"
      ],
      "text/plain": [
       "     rf2  RSquared   RMSE    MAE\n",
       "0  Train     0.778  4.403  3.317\n",
       "1   Test     0.756  4.820  3.581"
      ]
     },
     "metadata": {},
     "output_type": "display_data"
    }
   ],
   "source": [
    "lr3Performance = model_pref(lr3, X_train3, X_test3,y_train3,y_test3, 'lr3')\n",
    "\n",
    "display(lr1Performance, lr2Performance, lr3Performance,\n",
    "        dt1Performance, dt2Performance,\n",
    "        dt1_pPerformance, dt2_pPerformance,\n",
    "        rf1Performance, rf2Performance)"
   ]
  },
  {
   "cell_type": "markdown",
   "metadata": {},
   "source": [
    "**Write your answers here:**\n",
    "- Model(`lr3`) is returning $\\mathrm{R}^2$ `~0.63`, with RSME of `~5.97` and MAE of `~4.46`.\n",
    "- It performs better than its predecesor(`lr2`).\n",
    "- Linear regression models are the least accurate so far."
   ]
  },
  {
   "cell_type": "markdown",
   "metadata": {},
   "source": [
    "#### Question 6.4 Building  Decision tree with transform and aggregate primitive."
   ]
  },
  {
   "cell_type": "code",
   "execution_count": 73,
   "metadata": {},
   "outputs": [
    {
     "data": {
      "text/plain": [
       "DecisionTreeRegressor()"
      ]
     },
     "execution_count": 73,
     "metadata": {},
     "output_type": "execute_result"
    }
   ],
   "source": [
    "#define the model\n",
    "dt3=DecisionTreeRegressor()\n",
    "\n",
    "#fit the model\n",
    "\n",
    "dt3.fit(X_train3,y_train3)"
   ]
  },
  {
   "cell_type": "markdown",
   "metadata": {},
   "source": [
    "#### Check the performance of the model"
   ]
  },
  {
   "cell_type": "code",
   "execution_count": 74,
   "metadata": {},
   "outputs": [
    {
     "data": {
      "text/html": [
       "<div>\n",
       "<style scoped>\n",
       "    .dataframe tbody tr th:only-of-type {\n",
       "        vertical-align: middle;\n",
       "    }\n",
       "\n",
       "    .dataframe tbody tr th {\n",
       "        vertical-align: top;\n",
       "    }\n",
       "\n",
       "    .dataframe thead th {\n",
       "        text-align: right;\n",
       "    }\n",
       "</style>\n",
       "<table border=\"1\" class=\"dataframe\">\n",
       "  <thead>\n",
       "    <tr style=\"text-align: right;\">\n",
       "      <th></th>\n",
       "      <th>lr1</th>\n",
       "      <th>RSquared</th>\n",
       "      <th>RMSE</th>\n",
       "      <th>MAE</th>\n",
       "    </tr>\n",
       "  </thead>\n",
       "  <tbody>\n",
       "    <tr>\n",
       "      <th>0</th>\n",
       "      <td>Train</td>\n",
       "      <td>0.580</td>\n",
       "      <td>6.060</td>\n",
       "      <td>4.702</td>\n",
       "    </tr>\n",
       "    <tr>\n",
       "      <th>1</th>\n",
       "      <td>Test</td>\n",
       "      <td>0.559</td>\n",
       "      <td>6.481</td>\n",
       "      <td>4.984</td>\n",
       "    </tr>\n",
       "  </tbody>\n",
       "</table>\n",
       "</div>"
      ],
      "text/plain": [
       "     lr1  RSquared   RMSE    MAE\n",
       "0  Train     0.580  6.060  4.702\n",
       "1   Test     0.559  6.481  4.984"
      ]
     },
     "metadata": {},
     "output_type": "display_data"
    },
    {
     "data": {
      "text/html": [
       "<div>\n",
       "<style scoped>\n",
       "    .dataframe tbody tr th:only-of-type {\n",
       "        vertical-align: middle;\n",
       "    }\n",
       "\n",
       "    .dataframe tbody tr th {\n",
       "        vertical-align: top;\n",
       "    }\n",
       "\n",
       "    .dataframe thead th {\n",
       "        text-align: right;\n",
       "    }\n",
       "</style>\n",
       "<table border=\"1\" class=\"dataframe\">\n",
       "  <thead>\n",
       "    <tr style=\"text-align: right;\">\n",
       "      <th></th>\n",
       "      <th>lr2</th>\n",
       "      <th>RSquared</th>\n",
       "      <th>RMSE</th>\n",
       "      <th>MAE</th>\n",
       "    </tr>\n",
       "  </thead>\n",
       "  <tbody>\n",
       "    <tr>\n",
       "      <th>0</th>\n",
       "      <td>Train</td>\n",
       "      <td>0.627</td>\n",
       "      <td>5.713</td>\n",
       "      <td>4.246</td>\n",
       "    </tr>\n",
       "    <tr>\n",
       "      <th>1</th>\n",
       "      <td>Test</td>\n",
       "      <td>0.627</td>\n",
       "      <td>5.966</td>\n",
       "      <td>4.508</td>\n",
       "    </tr>\n",
       "  </tbody>\n",
       "</table>\n",
       "</div>"
      ],
      "text/plain": [
       "     lr2  RSquared   RMSE    MAE\n",
       "0  Train     0.627  5.713  4.246\n",
       "1   Test     0.627  5.966  4.508"
      ]
     },
     "metadata": {},
     "output_type": "display_data"
    },
    {
     "data": {
      "text/html": [
       "<div>\n",
       "<style scoped>\n",
       "    .dataframe tbody tr th:only-of-type {\n",
       "        vertical-align: middle;\n",
       "    }\n",
       "\n",
       "    .dataframe tbody tr th {\n",
       "        vertical-align: top;\n",
       "    }\n",
       "\n",
       "    .dataframe thead th {\n",
       "        text-align: right;\n",
       "    }\n",
       "</style>\n",
       "<table border=\"1\" class=\"dataframe\">\n",
       "  <thead>\n",
       "    <tr style=\"text-align: right;\">\n",
       "      <th></th>\n",
       "      <th>lr3</th>\n",
       "      <th>RSquared</th>\n",
       "      <th>RMSE</th>\n",
       "      <th>MAE</th>\n",
       "    </tr>\n",
       "  </thead>\n",
       "  <tbody>\n",
       "    <tr>\n",
       "      <th>0</th>\n",
       "      <td>Train</td>\n",
       "      <td>0.648</td>\n",
       "      <td>5.547</td>\n",
       "      <td>4.097</td>\n",
       "    </tr>\n",
       "    <tr>\n",
       "      <th>1</th>\n",
       "      <td>Test</td>\n",
       "      <td>0.645</td>\n",
       "      <td>5.814</td>\n",
       "      <td>4.365</td>\n",
       "    </tr>\n",
       "  </tbody>\n",
       "</table>\n",
       "</div>"
      ],
      "text/plain": [
       "     lr3  RSquared   RMSE    MAE\n",
       "0  Train     0.648  5.547  4.097\n",
       "1   Test     0.645  5.814  4.365"
      ]
     },
     "metadata": {},
     "output_type": "display_data"
    },
    {
     "data": {
      "text/html": [
       "<div>\n",
       "<style scoped>\n",
       "    .dataframe tbody tr th:only-of-type {\n",
       "        vertical-align: middle;\n",
       "    }\n",
       "\n",
       "    .dataframe tbody tr th {\n",
       "        vertical-align: top;\n",
       "    }\n",
       "\n",
       "    .dataframe thead th {\n",
       "        text-align: right;\n",
       "    }\n",
       "</style>\n",
       "<table border=\"1\" class=\"dataframe\">\n",
       "  <thead>\n",
       "    <tr style=\"text-align: right;\">\n",
       "      <th></th>\n",
       "      <th>dt1</th>\n",
       "      <th>RSquared</th>\n",
       "      <th>RMSE</th>\n",
       "      <th>MAE</th>\n",
       "    </tr>\n",
       "  </thead>\n",
       "  <tbody>\n",
       "    <tr>\n",
       "      <th>0</th>\n",
       "      <td>Train</td>\n",
       "      <td>0.916</td>\n",
       "      <td>2.707</td>\n",
       "      <td>1.515</td>\n",
       "    </tr>\n",
       "    <tr>\n",
       "      <th>1</th>\n",
       "      <td>Test</td>\n",
       "      <td>0.592</td>\n",
       "      <td>6.238</td>\n",
       "      <td>4.639</td>\n",
       "    </tr>\n",
       "  </tbody>\n",
       "</table>\n",
       "</div>"
      ],
      "text/plain": [
       "     dt1  RSquared   RMSE    MAE\n",
       "0  Train     0.916  2.707  1.515\n",
       "1   Test     0.592  6.238  4.639"
      ]
     },
     "metadata": {},
     "output_type": "display_data"
    },
    {
     "data": {
      "text/html": [
       "<div>\n",
       "<style scoped>\n",
       "    .dataframe tbody tr th:only-of-type {\n",
       "        vertical-align: middle;\n",
       "    }\n",
       "\n",
       "    .dataframe tbody tr th {\n",
       "        vertical-align: top;\n",
       "    }\n",
       "\n",
       "    .dataframe thead th {\n",
       "        text-align: right;\n",
       "    }\n",
       "</style>\n",
       "<table border=\"1\" class=\"dataframe\">\n",
       "  <thead>\n",
       "    <tr style=\"text-align: right;\">\n",
       "      <th></th>\n",
       "      <th>dt2</th>\n",
       "      <th>RSquared</th>\n",
       "      <th>RMSE</th>\n",
       "      <th>MAE</th>\n",
       "    </tr>\n",
       "  </thead>\n",
       "  <tbody>\n",
       "    <tr>\n",
       "      <th>0</th>\n",
       "      <td>Train</td>\n",
       "      <td>1.000</td>\n",
       "      <td>0.001</td>\n",
       "      <td>0.000</td>\n",
       "    </tr>\n",
       "    <tr>\n",
       "      <th>1</th>\n",
       "      <td>Test</td>\n",
       "      <td>0.718</td>\n",
       "      <td>5.189</td>\n",
       "      <td>3.742</td>\n",
       "    </tr>\n",
       "  </tbody>\n",
       "</table>\n",
       "</div>"
      ],
      "text/plain": [
       "     dt2  RSquared   RMSE    MAE\n",
       "0  Train     1.000  0.001  0.000\n",
       "1   Test     0.718  5.189  3.742"
      ]
     },
     "metadata": {},
     "output_type": "display_data"
    },
    {
     "data": {
      "text/html": [
       "<div>\n",
       "<style scoped>\n",
       "    .dataframe tbody tr th:only-of-type {\n",
       "        vertical-align: middle;\n",
       "    }\n",
       "\n",
       "    .dataframe tbody tr th {\n",
       "        vertical-align: top;\n",
       "    }\n",
       "\n",
       "    .dataframe thead th {\n",
       "        text-align: right;\n",
       "    }\n",
       "</style>\n",
       "<table border=\"1\" class=\"dataframe\">\n",
       "  <thead>\n",
       "    <tr style=\"text-align: right;\">\n",
       "      <th></th>\n",
       "      <th>dt3</th>\n",
       "      <th>RSquared</th>\n",
       "      <th>RMSE</th>\n",
       "      <th>MAE</th>\n",
       "    </tr>\n",
       "  </thead>\n",
       "  <tbody>\n",
       "    <tr>\n",
       "      <th>0</th>\n",
       "      <td>Train</td>\n",
       "      <td>1.000</td>\n",
       "      <td>0.001</td>\n",
       "      <td>0.00</td>\n",
       "    </tr>\n",
       "    <tr>\n",
       "      <th>1</th>\n",
       "      <td>Test</td>\n",
       "      <td>0.658</td>\n",
       "      <td>5.709</td>\n",
       "      <td>4.16</td>\n",
       "    </tr>\n",
       "  </tbody>\n",
       "</table>\n",
       "</div>"
      ],
      "text/plain": [
       "     dt3  RSquared   RMSE   MAE\n",
       "0  Train     1.000  0.001  0.00\n",
       "1   Test     0.658  5.709  4.16"
      ]
     },
     "metadata": {},
     "output_type": "display_data"
    },
    {
     "data": {
      "text/html": [
       "<div>\n",
       "<style scoped>\n",
       "    .dataframe tbody tr th:only-of-type {\n",
       "        vertical-align: middle;\n",
       "    }\n",
       "\n",
       "    .dataframe tbody tr th {\n",
       "        vertical-align: top;\n",
       "    }\n",
       "\n",
       "    .dataframe thead th {\n",
       "        text-align: right;\n",
       "    }\n",
       "</style>\n",
       "<table border=\"1\" class=\"dataframe\">\n",
       "  <thead>\n",
       "    <tr style=\"text-align: right;\">\n",
       "      <th></th>\n",
       "      <th>dt1_p</th>\n",
       "      <th>RSquared</th>\n",
       "      <th>RMSE</th>\n",
       "      <th>MAE</th>\n",
       "    </tr>\n",
       "  </thead>\n",
       "  <tbody>\n",
       "    <tr>\n",
       "      <th>0</th>\n",
       "      <td>Train</td>\n",
       "      <td>0.735</td>\n",
       "      <td>4.811</td>\n",
       "      <td>3.673</td>\n",
       "    </tr>\n",
       "    <tr>\n",
       "      <th>1</th>\n",
       "      <td>Test</td>\n",
       "      <td>0.705</td>\n",
       "      <td>5.303</td>\n",
       "      <td>4.015</td>\n",
       "    </tr>\n",
       "  </tbody>\n",
       "</table>\n",
       "</div>"
      ],
      "text/plain": [
       "   dt1_p  RSquared   RMSE    MAE\n",
       "0  Train     0.735  4.811  3.673\n",
       "1   Test     0.705  5.303  4.015"
      ]
     },
     "metadata": {},
     "output_type": "display_data"
    },
    {
     "data": {
      "text/html": [
       "<div>\n",
       "<style scoped>\n",
       "    .dataframe tbody tr th:only-of-type {\n",
       "        vertical-align: middle;\n",
       "    }\n",
       "\n",
       "    .dataframe tbody tr th {\n",
       "        vertical-align: top;\n",
       "    }\n",
       "\n",
       "    .dataframe thead th {\n",
       "        text-align: right;\n",
       "    }\n",
       "</style>\n",
       "<table border=\"1\" class=\"dataframe\">\n",
       "  <thead>\n",
       "    <tr style=\"text-align: right;\">\n",
       "      <th></th>\n",
       "      <th>dt2_p</th>\n",
       "      <th>RSquared</th>\n",
       "      <th>RMSE</th>\n",
       "      <th>MAE</th>\n",
       "    </tr>\n",
       "  </thead>\n",
       "  <tbody>\n",
       "    <tr>\n",
       "      <th>0</th>\n",
       "      <td>Train</td>\n",
       "      <td>0.773</td>\n",
       "      <td>4.459</td>\n",
       "      <td>3.366</td>\n",
       "    </tr>\n",
       "    <tr>\n",
       "      <th>1</th>\n",
       "      <td>Test</td>\n",
       "      <td>0.751</td>\n",
       "      <td>4.872</td>\n",
       "      <td>3.627</td>\n",
       "    </tr>\n",
       "  </tbody>\n",
       "</table>\n",
       "</div>"
      ],
      "text/plain": [
       "   dt2_p  RSquared   RMSE    MAE\n",
       "0  Train     0.773  4.459  3.366\n",
       "1   Test     0.751  4.872  3.627"
      ]
     },
     "metadata": {},
     "output_type": "display_data"
    },
    {
     "data": {
      "text/html": [
       "<div>\n",
       "<style scoped>\n",
       "    .dataframe tbody tr th:only-of-type {\n",
       "        vertical-align: middle;\n",
       "    }\n",
       "\n",
       "    .dataframe tbody tr th {\n",
       "        vertical-align: top;\n",
       "    }\n",
       "\n",
       "    .dataframe thead th {\n",
       "        text-align: right;\n",
       "    }\n",
       "</style>\n",
       "<table border=\"1\" class=\"dataframe\">\n",
       "  <thead>\n",
       "    <tr style=\"text-align: right;\">\n",
       "      <th></th>\n",
       "      <th>rf1</th>\n",
       "      <th>RSquared</th>\n",
       "      <th>RMSE</th>\n",
       "      <th>MAE</th>\n",
       "    </tr>\n",
       "  </thead>\n",
       "  <tbody>\n",
       "    <tr>\n",
       "      <th>0</th>\n",
       "      <td>Train</td>\n",
       "      <td>0.739</td>\n",
       "      <td>4.773</td>\n",
       "      <td>3.644</td>\n",
       "    </tr>\n",
       "    <tr>\n",
       "      <th>1</th>\n",
       "      <td>Test</td>\n",
       "      <td>0.709</td>\n",
       "      <td>5.269</td>\n",
       "      <td>3.987</td>\n",
       "    </tr>\n",
       "  </tbody>\n",
       "</table>\n",
       "</div>"
      ],
      "text/plain": [
       "     rf1  RSquared   RMSE    MAE\n",
       "0  Train     0.739  4.773  3.644\n",
       "1   Test     0.709  5.269  3.987"
      ]
     },
     "metadata": {},
     "output_type": "display_data"
    },
    {
     "data": {
      "text/html": [
       "<div>\n",
       "<style scoped>\n",
       "    .dataframe tbody tr th:only-of-type {\n",
       "        vertical-align: middle;\n",
       "    }\n",
       "\n",
       "    .dataframe tbody tr th {\n",
       "        vertical-align: top;\n",
       "    }\n",
       "\n",
       "    .dataframe thead th {\n",
       "        text-align: right;\n",
       "    }\n",
       "</style>\n",
       "<table border=\"1\" class=\"dataframe\">\n",
       "  <thead>\n",
       "    <tr style=\"text-align: right;\">\n",
       "      <th></th>\n",
       "      <th>rf2</th>\n",
       "      <th>RSquared</th>\n",
       "      <th>RMSE</th>\n",
       "      <th>MAE</th>\n",
       "    </tr>\n",
       "  </thead>\n",
       "  <tbody>\n",
       "    <tr>\n",
       "      <th>0</th>\n",
       "      <td>Train</td>\n",
       "      <td>0.778</td>\n",
       "      <td>4.403</td>\n",
       "      <td>3.317</td>\n",
       "    </tr>\n",
       "    <tr>\n",
       "      <th>1</th>\n",
       "      <td>Test</td>\n",
       "      <td>0.756</td>\n",
       "      <td>4.820</td>\n",
       "      <td>3.581</td>\n",
       "    </tr>\n",
       "  </tbody>\n",
       "</table>\n",
       "</div>"
      ],
      "text/plain": [
       "     rf2  RSquared   RMSE    MAE\n",
       "0  Train     0.778  4.403  3.317\n",
       "1   Test     0.756  4.820  3.581"
      ]
     },
     "metadata": {},
     "output_type": "display_data"
    }
   ],
   "source": [
    "dt3Performance = model_pref(dt3, X_train3, X_test3,y_train3,y_test3, 'dt3')\n",
    "\n",
    "display(lr1Performance, lr2Performance, lr3Performance,\n",
    "        dt1Performance, dt2Performance, dt3Performance,\n",
    "        dt1_pPerformance, dt2_pPerformance,\n",
    "        rf1Performance, rf2Performance)"
   ]
  },
  {
   "cell_type": "markdown",
   "metadata": {},
   "source": [
    "**Write your answers here:**\n",
    "- This model(`dt3`) is overfitting a lot, with a train $\\mathrm{R}^2$ of `1` while the test $\\mathrm{R}^2$ is `~0.65`\n",
    "- This is to be expected with a decision tree model; as previously stated, a possible solution for this is to Prune the decision tree, let's try pruning and see if the performance improves."
   ]
  },
  {
   "cell_type": "markdown",
   "metadata": {},
   "source": [
    "#### Question 6.5 Building  Pruned Decision tree with transform and aggregate primitive."
   ]
  },
  {
   "cell_type": "code",
   "execution_count": 75,
   "metadata": {},
   "outputs": [
    {
     "data": {
      "text/plain": [
       "DecisionTreeRegressor(max_depth=7)"
      ]
     },
     "execution_count": 75,
     "metadata": {},
     "output_type": "execute_result"
    }
   ],
   "source": [
    "#define the model\n",
    "\n",
    "#use max_depth=7\n",
    "dt_pruned3=DecisionTreeRegressor(max_depth=7)\n",
    "\n",
    "#fit the model\n",
    "dt_pruned3.fit(X_train3,y_train3)"
   ]
  },
  {
   "cell_type": "markdown",
   "metadata": {},
   "source": [
    "#### Check the performance of the model"
   ]
  },
  {
   "cell_type": "code",
   "execution_count": 76,
   "metadata": {},
   "outputs": [
    {
     "data": {
      "text/html": [
       "<div>\n",
       "<style scoped>\n",
       "    .dataframe tbody tr th:only-of-type {\n",
       "        vertical-align: middle;\n",
       "    }\n",
       "\n",
       "    .dataframe tbody tr th {\n",
       "        vertical-align: top;\n",
       "    }\n",
       "\n",
       "    .dataframe thead th {\n",
       "        text-align: right;\n",
       "    }\n",
       "</style>\n",
       "<table border=\"1\" class=\"dataframe\">\n",
       "  <thead>\n",
       "    <tr style=\"text-align: right;\">\n",
       "      <th></th>\n",
       "      <th>lr1</th>\n",
       "      <th>RSquared</th>\n",
       "      <th>RMSE</th>\n",
       "      <th>MAE</th>\n",
       "    </tr>\n",
       "  </thead>\n",
       "  <tbody>\n",
       "    <tr>\n",
       "      <th>0</th>\n",
       "      <td>Train</td>\n",
       "      <td>0.580</td>\n",
       "      <td>6.060</td>\n",
       "      <td>4.702</td>\n",
       "    </tr>\n",
       "    <tr>\n",
       "      <th>1</th>\n",
       "      <td>Test</td>\n",
       "      <td>0.559</td>\n",
       "      <td>6.481</td>\n",
       "      <td>4.984</td>\n",
       "    </tr>\n",
       "  </tbody>\n",
       "</table>\n",
       "</div>"
      ],
      "text/plain": [
       "     lr1  RSquared   RMSE    MAE\n",
       "0  Train     0.580  6.060  4.702\n",
       "1   Test     0.559  6.481  4.984"
      ]
     },
     "metadata": {},
     "output_type": "display_data"
    },
    {
     "data": {
      "text/html": [
       "<div>\n",
       "<style scoped>\n",
       "    .dataframe tbody tr th:only-of-type {\n",
       "        vertical-align: middle;\n",
       "    }\n",
       "\n",
       "    .dataframe tbody tr th {\n",
       "        vertical-align: top;\n",
       "    }\n",
       "\n",
       "    .dataframe thead th {\n",
       "        text-align: right;\n",
       "    }\n",
       "</style>\n",
       "<table border=\"1\" class=\"dataframe\">\n",
       "  <thead>\n",
       "    <tr style=\"text-align: right;\">\n",
       "      <th></th>\n",
       "      <th>lr2</th>\n",
       "      <th>RSquared</th>\n",
       "      <th>RMSE</th>\n",
       "      <th>MAE</th>\n",
       "    </tr>\n",
       "  </thead>\n",
       "  <tbody>\n",
       "    <tr>\n",
       "      <th>0</th>\n",
       "      <td>Train</td>\n",
       "      <td>0.627</td>\n",
       "      <td>5.713</td>\n",
       "      <td>4.246</td>\n",
       "    </tr>\n",
       "    <tr>\n",
       "      <th>1</th>\n",
       "      <td>Test</td>\n",
       "      <td>0.627</td>\n",
       "      <td>5.966</td>\n",
       "      <td>4.508</td>\n",
       "    </tr>\n",
       "  </tbody>\n",
       "</table>\n",
       "</div>"
      ],
      "text/plain": [
       "     lr2  RSquared   RMSE    MAE\n",
       "0  Train     0.627  5.713  4.246\n",
       "1   Test     0.627  5.966  4.508"
      ]
     },
     "metadata": {},
     "output_type": "display_data"
    },
    {
     "data": {
      "text/html": [
       "<div>\n",
       "<style scoped>\n",
       "    .dataframe tbody tr th:only-of-type {\n",
       "        vertical-align: middle;\n",
       "    }\n",
       "\n",
       "    .dataframe tbody tr th {\n",
       "        vertical-align: top;\n",
       "    }\n",
       "\n",
       "    .dataframe thead th {\n",
       "        text-align: right;\n",
       "    }\n",
       "</style>\n",
       "<table border=\"1\" class=\"dataframe\">\n",
       "  <thead>\n",
       "    <tr style=\"text-align: right;\">\n",
       "      <th></th>\n",
       "      <th>lr3</th>\n",
       "      <th>RSquared</th>\n",
       "      <th>RMSE</th>\n",
       "      <th>MAE</th>\n",
       "    </tr>\n",
       "  </thead>\n",
       "  <tbody>\n",
       "    <tr>\n",
       "      <th>0</th>\n",
       "      <td>Train</td>\n",
       "      <td>0.648</td>\n",
       "      <td>5.547</td>\n",
       "      <td>4.097</td>\n",
       "    </tr>\n",
       "    <tr>\n",
       "      <th>1</th>\n",
       "      <td>Test</td>\n",
       "      <td>0.645</td>\n",
       "      <td>5.814</td>\n",
       "      <td>4.365</td>\n",
       "    </tr>\n",
       "  </tbody>\n",
       "</table>\n",
       "</div>"
      ],
      "text/plain": [
       "     lr3  RSquared   RMSE    MAE\n",
       "0  Train     0.648  5.547  4.097\n",
       "1   Test     0.645  5.814  4.365"
      ]
     },
     "metadata": {},
     "output_type": "display_data"
    },
    {
     "data": {
      "text/html": [
       "<div>\n",
       "<style scoped>\n",
       "    .dataframe tbody tr th:only-of-type {\n",
       "        vertical-align: middle;\n",
       "    }\n",
       "\n",
       "    .dataframe tbody tr th {\n",
       "        vertical-align: top;\n",
       "    }\n",
       "\n",
       "    .dataframe thead th {\n",
       "        text-align: right;\n",
       "    }\n",
       "</style>\n",
       "<table border=\"1\" class=\"dataframe\">\n",
       "  <thead>\n",
       "    <tr style=\"text-align: right;\">\n",
       "      <th></th>\n",
       "      <th>dt1</th>\n",
       "      <th>RSquared</th>\n",
       "      <th>RMSE</th>\n",
       "      <th>MAE</th>\n",
       "    </tr>\n",
       "  </thead>\n",
       "  <tbody>\n",
       "    <tr>\n",
       "      <th>0</th>\n",
       "      <td>Train</td>\n",
       "      <td>0.916</td>\n",
       "      <td>2.707</td>\n",
       "      <td>1.515</td>\n",
       "    </tr>\n",
       "    <tr>\n",
       "      <th>1</th>\n",
       "      <td>Test</td>\n",
       "      <td>0.592</td>\n",
       "      <td>6.238</td>\n",
       "      <td>4.639</td>\n",
       "    </tr>\n",
       "  </tbody>\n",
       "</table>\n",
       "</div>"
      ],
      "text/plain": [
       "     dt1  RSquared   RMSE    MAE\n",
       "0  Train     0.916  2.707  1.515\n",
       "1   Test     0.592  6.238  4.639"
      ]
     },
     "metadata": {},
     "output_type": "display_data"
    },
    {
     "data": {
      "text/html": [
       "<div>\n",
       "<style scoped>\n",
       "    .dataframe tbody tr th:only-of-type {\n",
       "        vertical-align: middle;\n",
       "    }\n",
       "\n",
       "    .dataframe tbody tr th {\n",
       "        vertical-align: top;\n",
       "    }\n",
       "\n",
       "    .dataframe thead th {\n",
       "        text-align: right;\n",
       "    }\n",
       "</style>\n",
       "<table border=\"1\" class=\"dataframe\">\n",
       "  <thead>\n",
       "    <tr style=\"text-align: right;\">\n",
       "      <th></th>\n",
       "      <th>dt2</th>\n",
       "      <th>RSquared</th>\n",
       "      <th>RMSE</th>\n",
       "      <th>MAE</th>\n",
       "    </tr>\n",
       "  </thead>\n",
       "  <tbody>\n",
       "    <tr>\n",
       "      <th>0</th>\n",
       "      <td>Train</td>\n",
       "      <td>1.000</td>\n",
       "      <td>0.001</td>\n",
       "      <td>0.000</td>\n",
       "    </tr>\n",
       "    <tr>\n",
       "      <th>1</th>\n",
       "      <td>Test</td>\n",
       "      <td>0.718</td>\n",
       "      <td>5.189</td>\n",
       "      <td>3.742</td>\n",
       "    </tr>\n",
       "  </tbody>\n",
       "</table>\n",
       "</div>"
      ],
      "text/plain": [
       "     dt2  RSquared   RMSE    MAE\n",
       "0  Train     1.000  0.001  0.000\n",
       "1   Test     0.718  5.189  3.742"
      ]
     },
     "metadata": {},
     "output_type": "display_data"
    },
    {
     "data": {
      "text/html": [
       "<div>\n",
       "<style scoped>\n",
       "    .dataframe tbody tr th:only-of-type {\n",
       "        vertical-align: middle;\n",
       "    }\n",
       "\n",
       "    .dataframe tbody tr th {\n",
       "        vertical-align: top;\n",
       "    }\n",
       "\n",
       "    .dataframe thead th {\n",
       "        text-align: right;\n",
       "    }\n",
       "</style>\n",
       "<table border=\"1\" class=\"dataframe\">\n",
       "  <thead>\n",
       "    <tr style=\"text-align: right;\">\n",
       "      <th></th>\n",
       "      <th>dt3</th>\n",
       "      <th>RSquared</th>\n",
       "      <th>RMSE</th>\n",
       "      <th>MAE</th>\n",
       "    </tr>\n",
       "  </thead>\n",
       "  <tbody>\n",
       "    <tr>\n",
       "      <th>0</th>\n",
       "      <td>Train</td>\n",
       "      <td>1.000</td>\n",
       "      <td>0.001</td>\n",
       "      <td>0.00</td>\n",
       "    </tr>\n",
       "    <tr>\n",
       "      <th>1</th>\n",
       "      <td>Test</td>\n",
       "      <td>0.658</td>\n",
       "      <td>5.709</td>\n",
       "      <td>4.16</td>\n",
       "    </tr>\n",
       "  </tbody>\n",
       "</table>\n",
       "</div>"
      ],
      "text/plain": [
       "     dt3  RSquared   RMSE   MAE\n",
       "0  Train     1.000  0.001  0.00\n",
       "1   Test     0.658  5.709  4.16"
      ]
     },
     "metadata": {},
     "output_type": "display_data"
    },
    {
     "data": {
      "text/html": [
       "<div>\n",
       "<style scoped>\n",
       "    .dataframe tbody tr th:only-of-type {\n",
       "        vertical-align: middle;\n",
       "    }\n",
       "\n",
       "    .dataframe tbody tr th {\n",
       "        vertical-align: top;\n",
       "    }\n",
       "\n",
       "    .dataframe thead th {\n",
       "        text-align: right;\n",
       "    }\n",
       "</style>\n",
       "<table border=\"1\" class=\"dataframe\">\n",
       "  <thead>\n",
       "    <tr style=\"text-align: right;\">\n",
       "      <th></th>\n",
       "      <th>dt1_p</th>\n",
       "      <th>RSquared</th>\n",
       "      <th>RMSE</th>\n",
       "      <th>MAE</th>\n",
       "    </tr>\n",
       "  </thead>\n",
       "  <tbody>\n",
       "    <tr>\n",
       "      <th>0</th>\n",
       "      <td>Train</td>\n",
       "      <td>0.735</td>\n",
       "      <td>4.811</td>\n",
       "      <td>3.673</td>\n",
       "    </tr>\n",
       "    <tr>\n",
       "      <th>1</th>\n",
       "      <td>Test</td>\n",
       "      <td>0.705</td>\n",
       "      <td>5.303</td>\n",
       "      <td>4.015</td>\n",
       "    </tr>\n",
       "  </tbody>\n",
       "</table>\n",
       "</div>"
      ],
      "text/plain": [
       "   dt1_p  RSquared   RMSE    MAE\n",
       "0  Train     0.735  4.811  3.673\n",
       "1   Test     0.705  5.303  4.015"
      ]
     },
     "metadata": {},
     "output_type": "display_data"
    },
    {
     "data": {
      "text/html": [
       "<div>\n",
       "<style scoped>\n",
       "    .dataframe tbody tr th:only-of-type {\n",
       "        vertical-align: middle;\n",
       "    }\n",
       "\n",
       "    .dataframe tbody tr th {\n",
       "        vertical-align: top;\n",
       "    }\n",
       "\n",
       "    .dataframe thead th {\n",
       "        text-align: right;\n",
       "    }\n",
       "</style>\n",
       "<table border=\"1\" class=\"dataframe\">\n",
       "  <thead>\n",
       "    <tr style=\"text-align: right;\">\n",
       "      <th></th>\n",
       "      <th>dt2_p</th>\n",
       "      <th>RSquared</th>\n",
       "      <th>RMSE</th>\n",
       "      <th>MAE</th>\n",
       "    </tr>\n",
       "  </thead>\n",
       "  <tbody>\n",
       "    <tr>\n",
       "      <th>0</th>\n",
       "      <td>Train</td>\n",
       "      <td>0.773</td>\n",
       "      <td>4.459</td>\n",
       "      <td>3.366</td>\n",
       "    </tr>\n",
       "    <tr>\n",
       "      <th>1</th>\n",
       "      <td>Test</td>\n",
       "      <td>0.751</td>\n",
       "      <td>4.872</td>\n",
       "      <td>3.627</td>\n",
       "    </tr>\n",
       "  </tbody>\n",
       "</table>\n",
       "</div>"
      ],
      "text/plain": [
       "   dt2_p  RSquared   RMSE    MAE\n",
       "0  Train     0.773  4.459  3.366\n",
       "1   Test     0.751  4.872  3.627"
      ]
     },
     "metadata": {},
     "output_type": "display_data"
    },
    {
     "data": {
      "text/html": [
       "<div>\n",
       "<style scoped>\n",
       "    .dataframe tbody tr th:only-of-type {\n",
       "        vertical-align: middle;\n",
       "    }\n",
       "\n",
       "    .dataframe tbody tr th {\n",
       "        vertical-align: top;\n",
       "    }\n",
       "\n",
       "    .dataframe thead th {\n",
       "        text-align: right;\n",
       "    }\n",
       "</style>\n",
       "<table border=\"1\" class=\"dataframe\">\n",
       "  <thead>\n",
       "    <tr style=\"text-align: right;\">\n",
       "      <th></th>\n",
       "      <th>dt3_p</th>\n",
       "      <th>RSquared</th>\n",
       "      <th>RMSE</th>\n",
       "      <th>MAE</th>\n",
       "    </tr>\n",
       "  </thead>\n",
       "  <tbody>\n",
       "    <tr>\n",
       "      <th>0</th>\n",
       "      <td>Train</td>\n",
       "      <td>0.774</td>\n",
       "      <td>4.448</td>\n",
       "      <td>3.360</td>\n",
       "    </tr>\n",
       "    <tr>\n",
       "      <th>1</th>\n",
       "      <td>Test</td>\n",
       "      <td>0.751</td>\n",
       "      <td>4.874</td>\n",
       "      <td>3.625</td>\n",
       "    </tr>\n",
       "  </tbody>\n",
       "</table>\n",
       "</div>"
      ],
      "text/plain": [
       "   dt3_p  RSquared   RMSE    MAE\n",
       "0  Train     0.774  4.448  3.360\n",
       "1   Test     0.751  4.874  3.625"
      ]
     },
     "metadata": {},
     "output_type": "display_data"
    },
    {
     "data": {
      "text/html": [
       "<div>\n",
       "<style scoped>\n",
       "    .dataframe tbody tr th:only-of-type {\n",
       "        vertical-align: middle;\n",
       "    }\n",
       "\n",
       "    .dataframe tbody tr th {\n",
       "        vertical-align: top;\n",
       "    }\n",
       "\n",
       "    .dataframe thead th {\n",
       "        text-align: right;\n",
       "    }\n",
       "</style>\n",
       "<table border=\"1\" class=\"dataframe\">\n",
       "  <thead>\n",
       "    <tr style=\"text-align: right;\">\n",
       "      <th></th>\n",
       "      <th>rf1</th>\n",
       "      <th>RSquared</th>\n",
       "      <th>RMSE</th>\n",
       "      <th>MAE</th>\n",
       "    </tr>\n",
       "  </thead>\n",
       "  <tbody>\n",
       "    <tr>\n",
       "      <th>0</th>\n",
       "      <td>Train</td>\n",
       "      <td>0.739</td>\n",
       "      <td>4.773</td>\n",
       "      <td>3.644</td>\n",
       "    </tr>\n",
       "    <tr>\n",
       "      <th>1</th>\n",
       "      <td>Test</td>\n",
       "      <td>0.709</td>\n",
       "      <td>5.269</td>\n",
       "      <td>3.987</td>\n",
       "    </tr>\n",
       "  </tbody>\n",
       "</table>\n",
       "</div>"
      ],
      "text/plain": [
       "     rf1  RSquared   RMSE    MAE\n",
       "0  Train     0.739  4.773  3.644\n",
       "1   Test     0.709  5.269  3.987"
      ]
     },
     "metadata": {},
     "output_type": "display_data"
    },
    {
     "data": {
      "text/html": [
       "<div>\n",
       "<style scoped>\n",
       "    .dataframe tbody tr th:only-of-type {\n",
       "        vertical-align: middle;\n",
       "    }\n",
       "\n",
       "    .dataframe tbody tr th {\n",
       "        vertical-align: top;\n",
       "    }\n",
       "\n",
       "    .dataframe thead th {\n",
       "        text-align: right;\n",
       "    }\n",
       "</style>\n",
       "<table border=\"1\" class=\"dataframe\">\n",
       "  <thead>\n",
       "    <tr style=\"text-align: right;\">\n",
       "      <th></th>\n",
       "      <th>rf2</th>\n",
       "      <th>RSquared</th>\n",
       "      <th>RMSE</th>\n",
       "      <th>MAE</th>\n",
       "    </tr>\n",
       "  </thead>\n",
       "  <tbody>\n",
       "    <tr>\n",
       "      <th>0</th>\n",
       "      <td>Train</td>\n",
       "      <td>0.778</td>\n",
       "      <td>4.403</td>\n",
       "      <td>3.317</td>\n",
       "    </tr>\n",
       "    <tr>\n",
       "      <th>1</th>\n",
       "      <td>Test</td>\n",
       "      <td>0.756</td>\n",
       "      <td>4.820</td>\n",
       "      <td>3.581</td>\n",
       "    </tr>\n",
       "  </tbody>\n",
       "</table>\n",
       "</div>"
      ],
      "text/plain": [
       "     rf2  RSquared   RMSE    MAE\n",
       "0  Train     0.778  4.403  3.317\n",
       "1   Test     0.756  4.820  3.581"
      ]
     },
     "metadata": {},
     "output_type": "display_data"
    }
   ],
   "source": [
    "dt3_pPerformance = model_pref(dt_pruned3, X_train3, X_test3,y_train3,y_test3, 'dt3_p')\n",
    "\n",
    "display(lr1Performance, lr2Performance, lr3Performance,\n",
    "        dt1Performance, dt2Performance, dt3Performance,\n",
    "        dt1_pPerformance, dt2_pPerformance, dt3_pPerformance,\n",
    "        rf1Performance, rf2Performance)"
   ]
  },
  {
   "cell_type": "markdown",
   "metadata": {},
   "source": [
    "**Write your answers here:**\n",
    "- The model(`dt3_p`) is returnung $\\mathrm{R}^2$ `~0.75`, with RSME of `~4.87` and MAE of `~3.63`.\n",
    "- The model performance has improved over its predecessor(`dt3`) by adding aggregate primitives.\n",
    "- However, when comparing this model(`dt3_p`) to the model `dt2_p`, there is no performance gain, regardless of the increased computational expense, making this model a poor option for this use-case on the given dataset.\n",
    "- The model is slightly overfitting, but is giving acceptably generalized results for this use-case."
   ]
  },
  {
   "cell_type": "markdown",
   "metadata": {},
   "source": [
    "#### Question 6.6 Building  Random Forest with transform and aggregate primitive."
   ]
  },
  {
   "cell_type": "code",
   "execution_count": 77,
   "metadata": {},
   "outputs": [
    {
     "data": {
      "text/plain": [
       "RandomForestRegressor(max_depth=7, n_estimators=60)"
      ]
     },
     "execution_count": 77,
     "metadata": {},
     "output_type": "execute_result"
    }
   ],
   "source": [
    "#fit the model\n",
    "\n",
    "#using (n_estimators=60,max_depth=7)\n",
    "\n",
    "rf3=RandomForestRegressor(n_estimators=60,max_depth=7)\n",
    "\n",
    "#fit the model\n",
    "\n",
    "rf3.fit(X_train3,y_train3)"
   ]
  },
  {
   "cell_type": "markdown",
   "metadata": {},
   "source": [
    "#### Check the performance of the model"
   ]
  },
  {
   "cell_type": "code",
   "execution_count": 78,
   "metadata": {
    "scrolled": true
   },
   "outputs": [
    {
     "data": {
      "text/html": [
       "<div>\n",
       "<style scoped>\n",
       "    .dataframe tbody tr th:only-of-type {\n",
       "        vertical-align: middle;\n",
       "    }\n",
       "\n",
       "    .dataframe tbody tr th {\n",
       "        vertical-align: top;\n",
       "    }\n",
       "\n",
       "    .dataframe thead th {\n",
       "        text-align: right;\n",
       "    }\n",
       "</style>\n",
       "<table border=\"1\" class=\"dataframe\">\n",
       "  <thead>\n",
       "    <tr style=\"text-align: right;\">\n",
       "      <th></th>\n",
       "      <th>lr1</th>\n",
       "      <th>RSquared</th>\n",
       "      <th>RMSE</th>\n",
       "      <th>MAE</th>\n",
       "    </tr>\n",
       "  </thead>\n",
       "  <tbody>\n",
       "    <tr>\n",
       "      <th>0</th>\n",
       "      <td>Train</td>\n",
       "      <td>0.580</td>\n",
       "      <td>6.060</td>\n",
       "      <td>4.702</td>\n",
       "    </tr>\n",
       "    <tr>\n",
       "      <th>1</th>\n",
       "      <td>Test</td>\n",
       "      <td>0.559</td>\n",
       "      <td>6.481</td>\n",
       "      <td>4.984</td>\n",
       "    </tr>\n",
       "  </tbody>\n",
       "</table>\n",
       "</div>"
      ],
      "text/plain": [
       "     lr1  RSquared   RMSE    MAE\n",
       "0  Train     0.580  6.060  4.702\n",
       "1   Test     0.559  6.481  4.984"
      ]
     },
     "metadata": {},
     "output_type": "display_data"
    },
    {
     "data": {
      "text/html": [
       "<div>\n",
       "<style scoped>\n",
       "    .dataframe tbody tr th:only-of-type {\n",
       "        vertical-align: middle;\n",
       "    }\n",
       "\n",
       "    .dataframe tbody tr th {\n",
       "        vertical-align: top;\n",
       "    }\n",
       "\n",
       "    .dataframe thead th {\n",
       "        text-align: right;\n",
       "    }\n",
       "</style>\n",
       "<table border=\"1\" class=\"dataframe\">\n",
       "  <thead>\n",
       "    <tr style=\"text-align: right;\">\n",
       "      <th></th>\n",
       "      <th>lr2</th>\n",
       "      <th>RSquared</th>\n",
       "      <th>RMSE</th>\n",
       "      <th>MAE</th>\n",
       "    </tr>\n",
       "  </thead>\n",
       "  <tbody>\n",
       "    <tr>\n",
       "      <th>0</th>\n",
       "      <td>Train</td>\n",
       "      <td>0.627</td>\n",
       "      <td>5.713</td>\n",
       "      <td>4.246</td>\n",
       "    </tr>\n",
       "    <tr>\n",
       "      <th>1</th>\n",
       "      <td>Test</td>\n",
       "      <td>0.627</td>\n",
       "      <td>5.966</td>\n",
       "      <td>4.508</td>\n",
       "    </tr>\n",
       "  </tbody>\n",
       "</table>\n",
       "</div>"
      ],
      "text/plain": [
       "     lr2  RSquared   RMSE    MAE\n",
       "0  Train     0.627  5.713  4.246\n",
       "1   Test     0.627  5.966  4.508"
      ]
     },
     "metadata": {},
     "output_type": "display_data"
    },
    {
     "data": {
      "text/html": [
       "<div>\n",
       "<style scoped>\n",
       "    .dataframe tbody tr th:only-of-type {\n",
       "        vertical-align: middle;\n",
       "    }\n",
       "\n",
       "    .dataframe tbody tr th {\n",
       "        vertical-align: top;\n",
       "    }\n",
       "\n",
       "    .dataframe thead th {\n",
       "        text-align: right;\n",
       "    }\n",
       "</style>\n",
       "<table border=\"1\" class=\"dataframe\">\n",
       "  <thead>\n",
       "    <tr style=\"text-align: right;\">\n",
       "      <th></th>\n",
       "      <th>lr3</th>\n",
       "      <th>RSquared</th>\n",
       "      <th>RMSE</th>\n",
       "      <th>MAE</th>\n",
       "    </tr>\n",
       "  </thead>\n",
       "  <tbody>\n",
       "    <tr>\n",
       "      <th>0</th>\n",
       "      <td>Train</td>\n",
       "      <td>0.648</td>\n",
       "      <td>5.547</td>\n",
       "      <td>4.097</td>\n",
       "    </tr>\n",
       "    <tr>\n",
       "      <th>1</th>\n",
       "      <td>Test</td>\n",
       "      <td>0.645</td>\n",
       "      <td>5.814</td>\n",
       "      <td>4.365</td>\n",
       "    </tr>\n",
       "  </tbody>\n",
       "</table>\n",
       "</div>"
      ],
      "text/plain": [
       "     lr3  RSquared   RMSE    MAE\n",
       "0  Train     0.648  5.547  4.097\n",
       "1   Test     0.645  5.814  4.365"
      ]
     },
     "metadata": {},
     "output_type": "display_data"
    },
    {
     "data": {
      "text/html": [
       "<div>\n",
       "<style scoped>\n",
       "    .dataframe tbody tr th:only-of-type {\n",
       "        vertical-align: middle;\n",
       "    }\n",
       "\n",
       "    .dataframe tbody tr th {\n",
       "        vertical-align: top;\n",
       "    }\n",
       "\n",
       "    .dataframe thead th {\n",
       "        text-align: right;\n",
       "    }\n",
       "</style>\n",
       "<table border=\"1\" class=\"dataframe\">\n",
       "  <thead>\n",
       "    <tr style=\"text-align: right;\">\n",
       "      <th></th>\n",
       "      <th>dt1</th>\n",
       "      <th>RSquared</th>\n",
       "      <th>RMSE</th>\n",
       "      <th>MAE</th>\n",
       "    </tr>\n",
       "  </thead>\n",
       "  <tbody>\n",
       "    <tr>\n",
       "      <th>0</th>\n",
       "      <td>Train</td>\n",
       "      <td>0.916</td>\n",
       "      <td>2.707</td>\n",
       "      <td>1.515</td>\n",
       "    </tr>\n",
       "    <tr>\n",
       "      <th>1</th>\n",
       "      <td>Test</td>\n",
       "      <td>0.592</td>\n",
       "      <td>6.238</td>\n",
       "      <td>4.639</td>\n",
       "    </tr>\n",
       "  </tbody>\n",
       "</table>\n",
       "</div>"
      ],
      "text/plain": [
       "     dt1  RSquared   RMSE    MAE\n",
       "0  Train     0.916  2.707  1.515\n",
       "1   Test     0.592  6.238  4.639"
      ]
     },
     "metadata": {},
     "output_type": "display_data"
    },
    {
     "data": {
      "text/html": [
       "<div>\n",
       "<style scoped>\n",
       "    .dataframe tbody tr th:only-of-type {\n",
       "        vertical-align: middle;\n",
       "    }\n",
       "\n",
       "    .dataframe tbody tr th {\n",
       "        vertical-align: top;\n",
       "    }\n",
       "\n",
       "    .dataframe thead th {\n",
       "        text-align: right;\n",
       "    }\n",
       "</style>\n",
       "<table border=\"1\" class=\"dataframe\">\n",
       "  <thead>\n",
       "    <tr style=\"text-align: right;\">\n",
       "      <th></th>\n",
       "      <th>dt2</th>\n",
       "      <th>RSquared</th>\n",
       "      <th>RMSE</th>\n",
       "      <th>MAE</th>\n",
       "    </tr>\n",
       "  </thead>\n",
       "  <tbody>\n",
       "    <tr>\n",
       "      <th>0</th>\n",
       "      <td>Train</td>\n",
       "      <td>1.000</td>\n",
       "      <td>0.001</td>\n",
       "      <td>0.000</td>\n",
       "    </tr>\n",
       "    <tr>\n",
       "      <th>1</th>\n",
       "      <td>Test</td>\n",
       "      <td>0.718</td>\n",
       "      <td>5.189</td>\n",
       "      <td>3.742</td>\n",
       "    </tr>\n",
       "  </tbody>\n",
       "</table>\n",
       "</div>"
      ],
      "text/plain": [
       "     dt2  RSquared   RMSE    MAE\n",
       "0  Train     1.000  0.001  0.000\n",
       "1   Test     0.718  5.189  3.742"
      ]
     },
     "metadata": {},
     "output_type": "display_data"
    },
    {
     "data": {
      "text/html": [
       "<div>\n",
       "<style scoped>\n",
       "    .dataframe tbody tr th:only-of-type {\n",
       "        vertical-align: middle;\n",
       "    }\n",
       "\n",
       "    .dataframe tbody tr th {\n",
       "        vertical-align: top;\n",
       "    }\n",
       "\n",
       "    .dataframe thead th {\n",
       "        text-align: right;\n",
       "    }\n",
       "</style>\n",
       "<table border=\"1\" class=\"dataframe\">\n",
       "  <thead>\n",
       "    <tr style=\"text-align: right;\">\n",
       "      <th></th>\n",
       "      <th>dt3</th>\n",
       "      <th>RSquared</th>\n",
       "      <th>RMSE</th>\n",
       "      <th>MAE</th>\n",
       "    </tr>\n",
       "  </thead>\n",
       "  <tbody>\n",
       "    <tr>\n",
       "      <th>0</th>\n",
       "      <td>Train</td>\n",
       "      <td>1.000</td>\n",
       "      <td>0.001</td>\n",
       "      <td>0.00</td>\n",
       "    </tr>\n",
       "    <tr>\n",
       "      <th>1</th>\n",
       "      <td>Test</td>\n",
       "      <td>0.658</td>\n",
       "      <td>5.709</td>\n",
       "      <td>4.16</td>\n",
       "    </tr>\n",
       "  </tbody>\n",
       "</table>\n",
       "</div>"
      ],
      "text/plain": [
       "     dt3  RSquared   RMSE   MAE\n",
       "0  Train     1.000  0.001  0.00\n",
       "1   Test     0.658  5.709  4.16"
      ]
     },
     "metadata": {},
     "output_type": "display_data"
    },
    {
     "data": {
      "text/html": [
       "<div>\n",
       "<style scoped>\n",
       "    .dataframe tbody tr th:only-of-type {\n",
       "        vertical-align: middle;\n",
       "    }\n",
       "\n",
       "    .dataframe tbody tr th {\n",
       "        vertical-align: top;\n",
       "    }\n",
       "\n",
       "    .dataframe thead th {\n",
       "        text-align: right;\n",
       "    }\n",
       "</style>\n",
       "<table border=\"1\" class=\"dataframe\">\n",
       "  <thead>\n",
       "    <tr style=\"text-align: right;\">\n",
       "      <th></th>\n",
       "      <th>dt1_p</th>\n",
       "      <th>RSquared</th>\n",
       "      <th>RMSE</th>\n",
       "      <th>MAE</th>\n",
       "    </tr>\n",
       "  </thead>\n",
       "  <tbody>\n",
       "    <tr>\n",
       "      <th>0</th>\n",
       "      <td>Train</td>\n",
       "      <td>0.735</td>\n",
       "      <td>4.811</td>\n",
       "      <td>3.673</td>\n",
       "    </tr>\n",
       "    <tr>\n",
       "      <th>1</th>\n",
       "      <td>Test</td>\n",
       "      <td>0.705</td>\n",
       "      <td>5.303</td>\n",
       "      <td>4.015</td>\n",
       "    </tr>\n",
       "  </tbody>\n",
       "</table>\n",
       "</div>"
      ],
      "text/plain": [
       "   dt1_p  RSquared   RMSE    MAE\n",
       "0  Train     0.735  4.811  3.673\n",
       "1   Test     0.705  5.303  4.015"
      ]
     },
     "metadata": {},
     "output_type": "display_data"
    },
    {
     "data": {
      "text/html": [
       "<div>\n",
       "<style scoped>\n",
       "    .dataframe tbody tr th:only-of-type {\n",
       "        vertical-align: middle;\n",
       "    }\n",
       "\n",
       "    .dataframe tbody tr th {\n",
       "        vertical-align: top;\n",
       "    }\n",
       "\n",
       "    .dataframe thead th {\n",
       "        text-align: right;\n",
       "    }\n",
       "</style>\n",
       "<table border=\"1\" class=\"dataframe\">\n",
       "  <thead>\n",
       "    <tr style=\"text-align: right;\">\n",
       "      <th></th>\n",
       "      <th>dt2_p</th>\n",
       "      <th>RSquared</th>\n",
       "      <th>RMSE</th>\n",
       "      <th>MAE</th>\n",
       "    </tr>\n",
       "  </thead>\n",
       "  <tbody>\n",
       "    <tr>\n",
       "      <th>0</th>\n",
       "      <td>Train</td>\n",
       "      <td>0.773</td>\n",
       "      <td>4.459</td>\n",
       "      <td>3.366</td>\n",
       "    </tr>\n",
       "    <tr>\n",
       "      <th>1</th>\n",
       "      <td>Test</td>\n",
       "      <td>0.751</td>\n",
       "      <td>4.872</td>\n",
       "      <td>3.627</td>\n",
       "    </tr>\n",
       "  </tbody>\n",
       "</table>\n",
       "</div>"
      ],
      "text/plain": [
       "   dt2_p  RSquared   RMSE    MAE\n",
       "0  Train     0.773  4.459  3.366\n",
       "1   Test     0.751  4.872  3.627"
      ]
     },
     "metadata": {},
     "output_type": "display_data"
    },
    {
     "data": {
      "text/html": [
       "<div>\n",
       "<style scoped>\n",
       "    .dataframe tbody tr th:only-of-type {\n",
       "        vertical-align: middle;\n",
       "    }\n",
       "\n",
       "    .dataframe tbody tr th {\n",
       "        vertical-align: top;\n",
       "    }\n",
       "\n",
       "    .dataframe thead th {\n",
       "        text-align: right;\n",
       "    }\n",
       "</style>\n",
       "<table border=\"1\" class=\"dataframe\">\n",
       "  <thead>\n",
       "    <tr style=\"text-align: right;\">\n",
       "      <th></th>\n",
       "      <th>dt3_p</th>\n",
       "      <th>RSquared</th>\n",
       "      <th>RMSE</th>\n",
       "      <th>MAE</th>\n",
       "    </tr>\n",
       "  </thead>\n",
       "  <tbody>\n",
       "    <tr>\n",
       "      <th>0</th>\n",
       "      <td>Train</td>\n",
       "      <td>0.774</td>\n",
       "      <td>4.448</td>\n",
       "      <td>3.360</td>\n",
       "    </tr>\n",
       "    <tr>\n",
       "      <th>1</th>\n",
       "      <td>Test</td>\n",
       "      <td>0.751</td>\n",
       "      <td>4.874</td>\n",
       "      <td>3.625</td>\n",
       "    </tr>\n",
       "  </tbody>\n",
       "</table>\n",
       "</div>"
      ],
      "text/plain": [
       "   dt3_p  RSquared   RMSE    MAE\n",
       "0  Train     0.774  4.448  3.360\n",
       "1   Test     0.751  4.874  3.625"
      ]
     },
     "metadata": {},
     "output_type": "display_data"
    },
    {
     "data": {
      "text/html": [
       "<div>\n",
       "<style scoped>\n",
       "    .dataframe tbody tr th:only-of-type {\n",
       "        vertical-align: middle;\n",
       "    }\n",
       "\n",
       "    .dataframe tbody tr th {\n",
       "        vertical-align: top;\n",
       "    }\n",
       "\n",
       "    .dataframe thead th {\n",
       "        text-align: right;\n",
       "    }\n",
       "</style>\n",
       "<table border=\"1\" class=\"dataframe\">\n",
       "  <thead>\n",
       "    <tr style=\"text-align: right;\">\n",
       "      <th></th>\n",
       "      <th>rf1</th>\n",
       "      <th>RSquared</th>\n",
       "      <th>RMSE</th>\n",
       "      <th>MAE</th>\n",
       "    </tr>\n",
       "  </thead>\n",
       "  <tbody>\n",
       "    <tr>\n",
       "      <th>0</th>\n",
       "      <td>Train</td>\n",
       "      <td>0.739</td>\n",
       "      <td>4.773</td>\n",
       "      <td>3.644</td>\n",
       "    </tr>\n",
       "    <tr>\n",
       "      <th>1</th>\n",
       "      <td>Test</td>\n",
       "      <td>0.709</td>\n",
       "      <td>5.269</td>\n",
       "      <td>3.987</td>\n",
       "    </tr>\n",
       "  </tbody>\n",
       "</table>\n",
       "</div>"
      ],
      "text/plain": [
       "     rf1  RSquared   RMSE    MAE\n",
       "0  Train     0.739  4.773  3.644\n",
       "1   Test     0.709  5.269  3.987"
      ]
     },
     "metadata": {},
     "output_type": "display_data"
    },
    {
     "data": {
      "text/html": [
       "<div>\n",
       "<style scoped>\n",
       "    .dataframe tbody tr th:only-of-type {\n",
       "        vertical-align: middle;\n",
       "    }\n",
       "\n",
       "    .dataframe tbody tr th {\n",
       "        vertical-align: top;\n",
       "    }\n",
       "\n",
       "    .dataframe thead th {\n",
       "        text-align: right;\n",
       "    }\n",
       "</style>\n",
       "<table border=\"1\" class=\"dataframe\">\n",
       "  <thead>\n",
       "    <tr style=\"text-align: right;\">\n",
       "      <th></th>\n",
       "      <th>rf2</th>\n",
       "      <th>RSquared</th>\n",
       "      <th>RMSE</th>\n",
       "      <th>MAE</th>\n",
       "    </tr>\n",
       "  </thead>\n",
       "  <tbody>\n",
       "    <tr>\n",
       "      <th>0</th>\n",
       "      <td>Train</td>\n",
       "      <td>0.778</td>\n",
       "      <td>4.403</td>\n",
       "      <td>3.317</td>\n",
       "    </tr>\n",
       "    <tr>\n",
       "      <th>1</th>\n",
       "      <td>Test</td>\n",
       "      <td>0.756</td>\n",
       "      <td>4.820</td>\n",
       "      <td>3.581</td>\n",
       "    </tr>\n",
       "  </tbody>\n",
       "</table>\n",
       "</div>"
      ],
      "text/plain": [
       "     rf2  RSquared   RMSE    MAE\n",
       "0  Train     0.778  4.403  3.317\n",
       "1   Test     0.756  4.820  3.581"
      ]
     },
     "metadata": {},
     "output_type": "display_data"
    },
    {
     "data": {
      "text/html": [
       "<div>\n",
       "<style scoped>\n",
       "    .dataframe tbody tr th:only-of-type {\n",
       "        vertical-align: middle;\n",
       "    }\n",
       "\n",
       "    .dataframe tbody tr th {\n",
       "        vertical-align: top;\n",
       "    }\n",
       "\n",
       "    .dataframe thead th {\n",
       "        text-align: right;\n",
       "    }\n",
       "</style>\n",
       "<table border=\"1\" class=\"dataframe\">\n",
       "  <thead>\n",
       "    <tr style=\"text-align: right;\">\n",
       "      <th></th>\n",
       "      <th>rf3</th>\n",
       "      <th>RSquared</th>\n",
       "      <th>RMSE</th>\n",
       "      <th>MAE</th>\n",
       "    </tr>\n",
       "  </thead>\n",
       "  <tbody>\n",
       "    <tr>\n",
       "      <th>0</th>\n",
       "      <td>Train</td>\n",
       "      <td>0.779</td>\n",
       "      <td>4.391</td>\n",
       "      <td>3.309</td>\n",
       "    </tr>\n",
       "    <tr>\n",
       "      <th>1</th>\n",
       "      <td>Test</td>\n",
       "      <td>0.757</td>\n",
       "      <td>4.812</td>\n",
       "      <td>3.575</td>\n",
       "    </tr>\n",
       "  </tbody>\n",
       "</table>\n",
       "</div>"
      ],
      "text/plain": [
       "     rf3  RSquared   RMSE    MAE\n",
       "0  Train     0.779  4.391  3.309\n",
       "1   Test     0.757  4.812  3.575"
      ]
     },
     "metadata": {},
     "output_type": "display_data"
    }
   ],
   "source": [
    "rf3Performance = model_pref(rf3, X_train3, X_test3,y_train3,y_test3, 'rf3')\n",
    "\n",
    "display(lr1Performance, lr2Performance, lr3Performance,\n",
    "        dt1Performance, dt2Performance, dt3Performance,\n",
    "        dt1_pPerformance, dt2_pPerformance, dt3_pPerformance,\n",
    "        rf1Performance, rf2Performance, rf3Performance)"
   ]
  },
  {
   "cell_type": "markdown",
   "metadata": {},
   "source": [
    "**Write your answers here:**\n",
    "- The model(`rf3`) has slightly improved performance over its predecessor(`rf2`) from `~0.752` to `~0.753` by the addition of transform and aggregation features.\n",
    "- The modeling score has not significatively improved after adding Aggregate Transforms, and the training time was greatly increased compared to its predecessor, implying that adding more features is not always very effective. "
   ]
  },
  {
   "cell_type": "markdown",
   "metadata": {},
   "source": [
    "#### Question 6.7 How do these aggregate transforms impact performance? How do they impact training time?"
   ]
  },
  {
   "cell_type": "markdown",
   "metadata": {},
   "source": [
    "**Write your answers here:**\n",
    "- Aggregate Transforms undoubtedly caused an improvent in performance.\n",
    "- However, Aggregate Transforms greately increased training time compared to previous models. **For the current use-case, the diminishing returns are not worth the extra computational cost.** \n",
    "- Aggregate Transforms definetely have a place, perhaps when dealing with domains where the highest possible level of precission is absolutely required. "
   ]
  },
  {
   "cell_type": "markdown",
   "metadata": {},
   "source": [
    "#### Based on the above models, we can make predictions using the `rf2` model, as it is giving almost the same accuracy as model `rf3` with a much lower computational cost."
   ]
  },
  {
   "cell_type": "code",
   "execution_count": 79,
   "metadata": {
    "ExecuteTime": {
     "end_time": "2021-07-09T11:23:07.091360Z",
     "start_time": "2021-07-09T11:23:06.179570Z"
    },
    "scrolled": true
   },
   "outputs": [
    {
     "data": {
      "text/plain": [
       "array([ 311.12151039,  669.32827078,  669.32827078, ...,  200.89866614,\n",
       "       1028.90363398, 1765.10398282])"
      ]
     },
     "execution_count": 79,
     "metadata": {},
     "output_type": "execute_result"
    }
   ],
   "source": [
    "y_pred = rf2.predict(X_test2)\n",
    "y_pred = y_pred**2 # undo the sqrt we took earlier\n",
    "y_pred[5:]"
   ]
  },
  {
   "cell_type": "markdown",
   "metadata": {},
   "source": [
    "### Question 7: What are some important features based on model `rf2` and how can they ultimately affect the duration of the rides? (3 Marks)"
   ]
  },
  {
   "cell_type": "code",
   "execution_count": 80,
   "metadata": {
    "ExecuteTime": {
     "end_time": "2021-07-09T11:23:15.953274Z",
     "start_time": "2021-07-09T11:23:15.813531Z"
    },
    "scrolled": true
   },
   "outputs": [
    {
     "name": "stdout",
     "output_type": "stream",
     "text": [
      "1: Feature: trip_distance, 0.905\n",
      "2: Feature: HOUR(dropoff_datetime), 0.037\n",
      "3: Feature: HOUR(pickup_datetime), 0.022\n",
      "4: Feature: dropoff_neighborhoods.latitude, 0.016\n",
      "5: Feature: WEEKDAY(dropoff_datetime), 0.004\n",
      "6: Feature: IS_WEEKEND(pickup_datetime), 0.004\n",
      "7: Feature: WEEKDAY(pickup_datetime), 0.004\n",
      "8: Feature: IS_WEEKEND(dropoff_datetime), 0.003\n",
      "9: Feature: pickup_neighborhoods.longitude, 0.003\n",
      "10: Feature: dropoff_neighborhoods.longitude, 0.001\n"
     ]
    }
   ],
   "source": [
    "feature_importances(rf2, feature_matrix2.drop(['trip_duration'],axis=1).columns, n=10)"
   ]
  },
  {
   "cell_type": "markdown",
   "metadata": {},
   "source": [
    "**Write your answers here:**\n",
    "- `trip_distance` is the **most influential variable** by far, having a `~90%` weight in the duration of the ride.\n",
    "- `dropoff_datetime` and `pickup_datetime` can be translated to \"time of day\". Their little influence on the duration of the ride may suggest **there is little variation in traffic density throught the day in NYC**.\n",
    "- `dropoff_neighborhoods.latitude` influence on the duration of the rides may suggest **there is one side of the city slightly more crowded at any given time**.\n",
    "- The rest of the features seem to be neglectable for our current objective with the given dataset.\n",
    "- It is worth mentioning that (perhaps counterintuitively), the day of the week is pretty much irrelevant. Suggesting a **consistent traffic flow in NYC throught the week**."
   ]
  }
 ],
 "metadata": {
  "kernelspec": {
   "display_name": "Python 3",
   "language": "python",
   "name": "python3"
  },
  "language_info": {
   "codemirror_mode": {
    "name": "ipython",
    "version": 3
   },
   "file_extension": ".py",
   "mimetype": "text/x-python",
   "name": "python",
   "nbconvert_exporter": "python",
   "pygments_lexer": "ipython3",
   "version": "3.9.7"
  },
  "toc": {
   "base_numbering": 1,
   "nav_menu": {},
   "number_sections": true,
   "sideBar": true,
   "skip_h1_title": false,
   "title_cell": "Table of Contents",
   "title_sidebar": "Contents",
   "toc_cell": false,
   "toc_position": {},
   "toc_section_display": true,
   "toc_window_display": false
  },
  "varInspector": {
   "cols": {
    "lenName": 16,
    "lenType": 16,
    "lenVar": 40
   },
   "kernels_config": {
    "python": {
     "delete_cmd_postfix": "",
     "delete_cmd_prefix": "del ",
     "library": "var_list.py",
     "varRefreshCmd": "print(var_dic_list())"
    },
    "r": {
     "delete_cmd_postfix": ") ",
     "delete_cmd_prefix": "rm(",
     "library": "var_list.r",
     "varRefreshCmd": "cat(var_dic_list()) "
    }
   },
   "types_to_exclude": [
    "module",
    "function",
    "builtin_function_or_method",
    "instance",
    "_Feature"
   ],
   "window_display": false
  }
 },
 "nbformat": 4,
 "nbformat_minor": 1
}
